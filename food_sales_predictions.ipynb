{
  "nbformat": 4,
  "nbformat_minor": 0,
  "metadata": {
    "colab": {
      "name": "food_sales_predictions.ipynb",
      "provenance": [],
      "collapsed_sections": [],
      "authorship_tag": "ABX9TyOsNJkfagEHYUNqtf18z475",
      "include_colab_link": true
    },
    "kernelspec": {
      "name": "python3",
      "display_name": "Python 3"
    },
    "language_info": {
      "name": "python"
    }
  },
  "cells": [
    {
      "cell_type": "markdown",
      "metadata": {
        "id": "view-in-github",
        "colab_type": "text"
      },
      "source": [
        "<a href=\"https://colab.research.google.com/github/onedayzero/food-sales-predictions/blob/main/food_sales_predictions.ipynb\" target=\"_parent\"><img src=\"https://colab.research.google.com/assets/colab-badge.svg\" alt=\"Open In Colab\"/></a>"
      ]
    },
    {
      "cell_type": "markdown",
      "source": [
        "# Food Sales Predictions\n",
        "-Clint Atterberry\n",
        "\n",
        "-25 May 2022"
      ],
      "metadata": {
        "id": "5ZM8XcdxwDis"
      }
    },
    {
      "cell_type": "markdown",
      "source": [
        "## Mount the drive, import libraries, and import data"
      ],
      "metadata": {
        "id": "tqxH_xfpwMqJ"
      }
    },
    {
      "cell_type": "code",
      "source": [
        "# Mount the drive\n",
        "from google.colab import drive\n",
        "drive.mount ('/content/drive')"
      ],
      "metadata": {
        "colab": {
          "base_uri": "https://localhost:8080/"
        },
        "id": "eUDm7caa8Ooj",
        "outputId": "7826bfa2-6160-431d-b98a-e9d05e8a3cce"
      },
      "execution_count": null,
      "outputs": [
        {
          "output_type": "stream",
          "name": "stdout",
          "text": [
            "Mounted at /content/drive\n"
          ]
        }
      ]
    },
    {
      "cell_type": "code",
      "execution_count": null,
      "metadata": {
        "id": "mWWjU-xF76Ib"
      },
      "outputs": [],
      "source": [
        "# Import Library pandas as pd\n",
        "import matplotlib.pyplot as plt\n",
        "import seaborn as sns\n",
        "import pandas as pd\n",
        "import numpy as np"
      ]
    },
    {
      "cell_type": "code",
      "source": [
        "# Get csv data from link for assignment\n",
        "df = pd.read_csv('/content/drive/MyDrive/Coding Dojo - Data Science Course/01 Week 1: Python for Data Science/sales_predictions.csv')"
      ],
      "metadata": {
        "id": "4j_WiW0V8Dyt"
      },
      "execution_count": null,
      "outputs": []
    },
    {
      "cell_type": "code",
      "source": [
        "df.head()"
      ],
      "metadata": {
        "colab": {
          "base_uri": "https://localhost:8080/",
          "height": 357
        },
        "id": "BxFI28cd8cou",
        "outputId": "b1d2e2ab-57df-42a7-b3cd-b7f3b1bf2696"
      },
      "execution_count": null,
      "outputs": [
        {
          "output_type": "execute_result",
          "data": {
            "text/plain": [
              "  Item_Identifier  Item_Weight Item_Fat_Content  Item_Visibility  \\\n",
              "0           FDA15         9.30          Low Fat         0.016047   \n",
              "1           DRC01         5.92          Regular         0.019278   \n",
              "2           FDN15        17.50          Low Fat         0.016760   \n",
              "3           FDX07        19.20          Regular         0.000000   \n",
              "4           NCD19         8.93          Low Fat         0.000000   \n",
              "\n",
              "               Item_Type  Item_MRP Outlet_Identifier  \\\n",
              "0                  Dairy  249.8092            OUT049   \n",
              "1            Soft Drinks   48.2692            OUT018   \n",
              "2                   Meat  141.6180            OUT049   \n",
              "3  Fruits and Vegetables  182.0950            OUT010   \n",
              "4              Household   53.8614            OUT013   \n",
              "\n",
              "   Outlet_Establishment_Year Outlet_Size Outlet_Location_Type  \\\n",
              "0                       1999      Medium               Tier 1   \n",
              "1                       2009      Medium               Tier 3   \n",
              "2                       1999      Medium               Tier 1   \n",
              "3                       1998         NaN               Tier 3   \n",
              "4                       1987        High               Tier 3   \n",
              "\n",
              "         Outlet_Type  Item_Outlet_Sales  \n",
              "0  Supermarket Type1          3735.1380  \n",
              "1  Supermarket Type2           443.4228  \n",
              "2  Supermarket Type1          2097.2700  \n",
              "3      Grocery Store           732.3800  \n",
              "4  Supermarket Type1           994.7052  "
            ],
            "text/html": [
              "\n",
              "  <div id=\"df-56bfb80f-7ba2-4191-8488-0bd656a433be\">\n",
              "    <div class=\"colab-df-container\">\n",
              "      <div>\n",
              "<style scoped>\n",
              "    .dataframe tbody tr th:only-of-type {\n",
              "        vertical-align: middle;\n",
              "    }\n",
              "\n",
              "    .dataframe tbody tr th {\n",
              "        vertical-align: top;\n",
              "    }\n",
              "\n",
              "    .dataframe thead th {\n",
              "        text-align: right;\n",
              "    }\n",
              "</style>\n",
              "<table border=\"1\" class=\"dataframe\">\n",
              "  <thead>\n",
              "    <tr style=\"text-align: right;\">\n",
              "      <th></th>\n",
              "      <th>Item_Identifier</th>\n",
              "      <th>Item_Weight</th>\n",
              "      <th>Item_Fat_Content</th>\n",
              "      <th>Item_Visibility</th>\n",
              "      <th>Item_Type</th>\n",
              "      <th>Item_MRP</th>\n",
              "      <th>Outlet_Identifier</th>\n",
              "      <th>Outlet_Establishment_Year</th>\n",
              "      <th>Outlet_Size</th>\n",
              "      <th>Outlet_Location_Type</th>\n",
              "      <th>Outlet_Type</th>\n",
              "      <th>Item_Outlet_Sales</th>\n",
              "    </tr>\n",
              "  </thead>\n",
              "  <tbody>\n",
              "    <tr>\n",
              "      <th>0</th>\n",
              "      <td>FDA15</td>\n",
              "      <td>9.30</td>\n",
              "      <td>Low Fat</td>\n",
              "      <td>0.016047</td>\n",
              "      <td>Dairy</td>\n",
              "      <td>249.8092</td>\n",
              "      <td>OUT049</td>\n",
              "      <td>1999</td>\n",
              "      <td>Medium</td>\n",
              "      <td>Tier 1</td>\n",
              "      <td>Supermarket Type1</td>\n",
              "      <td>3735.1380</td>\n",
              "    </tr>\n",
              "    <tr>\n",
              "      <th>1</th>\n",
              "      <td>DRC01</td>\n",
              "      <td>5.92</td>\n",
              "      <td>Regular</td>\n",
              "      <td>0.019278</td>\n",
              "      <td>Soft Drinks</td>\n",
              "      <td>48.2692</td>\n",
              "      <td>OUT018</td>\n",
              "      <td>2009</td>\n",
              "      <td>Medium</td>\n",
              "      <td>Tier 3</td>\n",
              "      <td>Supermarket Type2</td>\n",
              "      <td>443.4228</td>\n",
              "    </tr>\n",
              "    <tr>\n",
              "      <th>2</th>\n",
              "      <td>FDN15</td>\n",
              "      <td>17.50</td>\n",
              "      <td>Low Fat</td>\n",
              "      <td>0.016760</td>\n",
              "      <td>Meat</td>\n",
              "      <td>141.6180</td>\n",
              "      <td>OUT049</td>\n",
              "      <td>1999</td>\n",
              "      <td>Medium</td>\n",
              "      <td>Tier 1</td>\n",
              "      <td>Supermarket Type1</td>\n",
              "      <td>2097.2700</td>\n",
              "    </tr>\n",
              "    <tr>\n",
              "      <th>3</th>\n",
              "      <td>FDX07</td>\n",
              "      <td>19.20</td>\n",
              "      <td>Regular</td>\n",
              "      <td>0.000000</td>\n",
              "      <td>Fruits and Vegetables</td>\n",
              "      <td>182.0950</td>\n",
              "      <td>OUT010</td>\n",
              "      <td>1998</td>\n",
              "      <td>NaN</td>\n",
              "      <td>Tier 3</td>\n",
              "      <td>Grocery Store</td>\n",
              "      <td>732.3800</td>\n",
              "    </tr>\n",
              "    <tr>\n",
              "      <th>4</th>\n",
              "      <td>NCD19</td>\n",
              "      <td>8.93</td>\n",
              "      <td>Low Fat</td>\n",
              "      <td>0.000000</td>\n",
              "      <td>Household</td>\n",
              "      <td>53.8614</td>\n",
              "      <td>OUT013</td>\n",
              "      <td>1987</td>\n",
              "      <td>High</td>\n",
              "      <td>Tier 3</td>\n",
              "      <td>Supermarket Type1</td>\n",
              "      <td>994.7052</td>\n",
              "    </tr>\n",
              "  </tbody>\n",
              "</table>\n",
              "</div>\n",
              "      <button class=\"colab-df-convert\" onclick=\"convertToInteractive('df-56bfb80f-7ba2-4191-8488-0bd656a433be')\"\n",
              "              title=\"Convert this dataframe to an interactive table.\"\n",
              "              style=\"display:none;\">\n",
              "        \n",
              "  <svg xmlns=\"http://www.w3.org/2000/svg\" height=\"24px\"viewBox=\"0 0 24 24\"\n",
              "       width=\"24px\">\n",
              "    <path d=\"M0 0h24v24H0V0z\" fill=\"none\"/>\n",
              "    <path d=\"M18.56 5.44l.94 2.06.94-2.06 2.06-.94-2.06-.94-.94-2.06-.94 2.06-2.06.94zm-11 1L8.5 8.5l.94-2.06 2.06-.94-2.06-.94L8.5 2.5l-.94 2.06-2.06.94zm10 10l.94 2.06.94-2.06 2.06-.94-2.06-.94-.94-2.06-.94 2.06-2.06.94z\"/><path d=\"M17.41 7.96l-1.37-1.37c-.4-.4-.92-.59-1.43-.59-.52 0-1.04.2-1.43.59L10.3 9.45l-7.72 7.72c-.78.78-.78 2.05 0 2.83L4 21.41c.39.39.9.59 1.41.59.51 0 1.02-.2 1.41-.59l7.78-7.78 2.81-2.81c.8-.78.8-2.07 0-2.86zM5.41 20L4 18.59l7.72-7.72 1.47 1.35L5.41 20z\"/>\n",
              "  </svg>\n",
              "      </button>\n",
              "      \n",
              "  <style>\n",
              "    .colab-df-container {\n",
              "      display:flex;\n",
              "      flex-wrap:wrap;\n",
              "      gap: 12px;\n",
              "    }\n",
              "\n",
              "    .colab-df-convert {\n",
              "      background-color: #E8F0FE;\n",
              "      border: none;\n",
              "      border-radius: 50%;\n",
              "      cursor: pointer;\n",
              "      display: none;\n",
              "      fill: #1967D2;\n",
              "      height: 32px;\n",
              "      padding: 0 0 0 0;\n",
              "      width: 32px;\n",
              "    }\n",
              "\n",
              "    .colab-df-convert:hover {\n",
              "      background-color: #E2EBFA;\n",
              "      box-shadow: 0px 1px 2px rgba(60, 64, 67, 0.3), 0px 1px 3px 1px rgba(60, 64, 67, 0.15);\n",
              "      fill: #174EA6;\n",
              "    }\n",
              "\n",
              "    [theme=dark] .colab-df-convert {\n",
              "      background-color: #3B4455;\n",
              "      fill: #D2E3FC;\n",
              "    }\n",
              "\n",
              "    [theme=dark] .colab-df-convert:hover {\n",
              "      background-color: #434B5C;\n",
              "      box-shadow: 0px 1px 3px 1px rgba(0, 0, 0, 0.15);\n",
              "      filter: drop-shadow(0px 1px 2px rgba(0, 0, 0, 0.3));\n",
              "      fill: #FFFFFF;\n",
              "    }\n",
              "  </style>\n",
              "\n",
              "      <script>\n",
              "        const buttonEl =\n",
              "          document.querySelector('#df-56bfb80f-7ba2-4191-8488-0bd656a433be button.colab-df-convert');\n",
              "        buttonEl.style.display =\n",
              "          google.colab.kernel.accessAllowed ? 'block' : 'none';\n",
              "\n",
              "        async function convertToInteractive(key) {\n",
              "          const element = document.querySelector('#df-56bfb80f-7ba2-4191-8488-0bd656a433be');\n",
              "          const dataTable =\n",
              "            await google.colab.kernel.invokeFunction('convertToInteractive',\n",
              "                                                     [key], {});\n",
              "          if (!dataTable) return;\n",
              "\n",
              "          const docLinkHtml = 'Like what you see? Visit the ' +\n",
              "            '<a target=\"_blank\" href=https://colab.research.google.com/notebooks/data_table.ipynb>data table notebook</a>'\n",
              "            + ' to learn more about interactive tables.';\n",
              "          element.innerHTML = '';\n",
              "          dataTable['output_type'] = 'display_data';\n",
              "          await google.colab.output.renderOutput(dataTable, element);\n",
              "          const docLink = document.createElement('div');\n",
              "          docLink.innerHTML = docLinkHtml;\n",
              "          element.appendChild(docLink);\n",
              "        }\n",
              "      </script>\n",
              "    </div>\n",
              "  </div>\n",
              "  "
            ]
          },
          "metadata": {},
          "execution_count": 4
        }
      ]
    },
    {
      "cell_type": "code",
      "source": [
        "# This will display the (rows, columns) of the data frame\n",
        "df.shape"
      ],
      "metadata": {
        "id": "402eBkyzuoqT",
        "outputId": "9615fb4f-b95b-48fa-ba03-cbb648f29609",
        "colab": {
          "base_uri": "https://localhost:8080/"
        }
      },
      "execution_count": null,
      "outputs": [
        {
          "output_type": "execute_result",
          "data": {
            "text/plain": [
              "(8523, 12)"
            ]
          },
          "metadata": {},
          "execution_count": 5
        }
      ]
    },
    {
      "cell_type": "markdown",
      "source": [
        "## What are the datatypes of each variable?\n",
        "\n",
        "- objects (strings) - 'Item_Identifier', 'Item_Fat_Content', 'Item_Type', 'Outlet_Identifier', 'Outlet_Size', 'Outlet_Location_Type', 'Outlet_type'\n",
        "\n",
        "- float64 (floats) - 'Item_Weight', 'Item_Visibility', 'Item_MRP', 'Item_Outlet_Sales'\n",
        "\n",
        "- int64 (integers) - 'Outlet_Establishment_Year'"
      ],
      "metadata": {
        "id": "pVOEmIEbygJj"
      }
    },
    {
      "cell_type": "code",
      "source": [
        "# This will display the data types of the variables\n",
        "df.dtypes"
      ],
      "metadata": {
        "colab": {
          "base_uri": "https://localhost:8080/"
        },
        "id": "jQzC5qeIyh3X",
        "outputId": "327713a3-5e4e-41c2-83ba-60b5bd774087"
      },
      "execution_count": null,
      "outputs": [
        {
          "output_type": "execute_result",
          "data": {
            "text/plain": [
              "Item_Identifier               object\n",
              "Item_Weight                  float64\n",
              "Item_Fat_Content              object\n",
              "Item_Visibility              float64\n",
              "Item_Type                     object\n",
              "Item_MRP                     float64\n",
              "Outlet_Identifier             object\n",
              "Outlet_Establishment_Year      int64\n",
              "Outlet_Size                   object\n",
              "Outlet_Location_Type          object\n",
              "Outlet_Type                   object\n",
              "Item_Outlet_Sales            float64\n",
              "dtype: object"
            ]
          },
          "metadata": {},
          "execution_count": 6
        }
      ]
    },
    {
      "cell_type": "markdown",
      "source": [
        "## Are there duplicates? If so, drop any duplicates.\n",
        "\n",
        "- There are no duplicate rows; therefore, there are no rows to drop."
      ],
      "metadata": {
        "id": "_4Vqp_fDzQwe"
      }
    },
    {
      "cell_type": "code",
      "source": [
        "# This will display the counts of the duplicated rows\n",
        "df.duplicated().value_counts()"
      ],
      "metadata": {
        "colab": {
          "base_uri": "https://localhost:8080/"
        },
        "id": "YAMPGBGFzXxC",
        "outputId": "4c946909-d41d-4447-e8e1-20e0160f91a5"
      },
      "execution_count": null,
      "outputs": [
        {
          "output_type": "execute_result",
          "data": {
            "text/plain": [
              "False    8523\n",
              "dtype: int64"
            ]
          },
          "metadata": {},
          "execution_count": 7
        }
      ]
    },
    {
      "cell_type": "markdown",
      "source": [
        "## Identify missing values.\n",
        "\n",
        "- There are 2 rows that appear to have missing values:\n",
        "\n",
        "- Item_Weight is missing 1463 values\n",
        "\n",
        "- Outlet_Size is missing 2410 values\n",
        "\n",
        "- There may be more missing values in other columns but they may have a placeholder (like 'missing') in its place in the column. Item_Visibility has some values that are 0, so those may be missing values."
      ],
      "metadata": {
        "id": "Fu4p-Gww2RLG"
      }
    },
    {
      "cell_type": "code",
      "source": [
        "df.isna().sum()"
      ],
      "metadata": {
        "colab": {
          "base_uri": "https://localhost:8080/"
        },
        "id": "kQQEqb272ibB",
        "outputId": "a1803cd7-7858-4037-f25c-2bcaf2bb4ce6"
      },
      "execution_count": null,
      "outputs": [
        {
          "output_type": "execute_result",
          "data": {
            "text/plain": [
              "Item_Identifier                 0\n",
              "Item_Weight                  1463\n",
              "Item_Fat_Content                0\n",
              "Item_Visibility                 0\n",
              "Item_Type                       0\n",
              "Item_MRP                        0\n",
              "Outlet_Identifier               0\n",
              "Outlet_Establishment_Year       0\n",
              "Outlet_Size                  2410\n",
              "Outlet_Location_Type            0\n",
              "Outlet_Type                     0\n",
              "Item_Outlet_Sales               0\n",
              "dtype: int64"
            ]
          },
          "metadata": {},
          "execution_count": 8
        }
      ]
    },
    {
      "cell_type": "markdown",
      "source": [
        "## Decide on how to address the missing values and do it!"
      ],
      "metadata": {
        "id": "3ZbLUBjp4j_d"
      }
    },
    {
      "cell_type": "code",
      "source": [
        "# We have 82.8% of the data\n",
        "df['Item_Weight'].describe()\n",
        "\n",
        "# With over 7000 data values and 1600 missing values\n",
        "# There are no outliers in the data set when considering both the mean and the median\n",
        "# The mean + 2 standard deviations from the mean captures no data points\n",
        "# The median +- 1.5 * the IQR produces fences that are beyond both the min and max\n",
        "\n",
        "# I believe the best course of action is to use the mean and filling in the gaps of the missing data points\n",
        "# I chose the mean over the median because the mean is very close to the middle of the max and the min (~12.9)"
      ],
      "metadata": {
        "colab": {
          "base_uri": "https://localhost:8080/"
        },
        "id": "S0TnyZ5p4ug0",
        "outputId": "8fa87ae2-4348-45e1-cdf5-ec17ee3e9f08"
      },
      "execution_count": null,
      "outputs": [
        {
          "output_type": "execute_result",
          "data": {
            "text/plain": [
              "count    7060.000000\n",
              "mean       12.857645\n",
              "std         4.643456\n",
              "min         4.555000\n",
              "25%         8.773750\n",
              "50%        12.600000\n",
              "75%        16.850000\n",
              "max        21.350000\n",
              "Name: Item_Weight, dtype: float64"
            ]
          },
          "metadata": {},
          "execution_count": 9
        }
      ]
    },
    {
      "cell_type": "code",
      "source": [
        "# We have 71.7% of the data\n",
        "df['Outlet_Size'].value_counts()\n",
        "\n",
        "# With nearly 30% of the values missing the size of the outlet\n",
        "# The counts are not very close considering ~45% of the known data is Medium, ~39% of the data is known small, and the rest (~15%) is High\n",
        "# One might consider filling in the missing values with the mode, Medium\n",
        "# I believe that would be filling in too much data, nearly 30%, with one value will not be the best representation\n",
        "# Due to the size of the missing data and that it is categorical, either deleting those rows or filling in the data with \"Missing\" would be the best course of action\n",
        "# There is a other, similar columns like 'Outlet_Location_Type'and 'Outlet_Type' that probably describes the data in similar way\n",
        "\n",
        "# I believe the best course of action at this time is to remove the entire column\n",
        "# I am basing this decision on the fact that there are similar columns to 'Outlet_Size' like 'Outlet_Type' and 'Outlet_Location_Type'"
      ],
      "metadata": {
        "colab": {
          "base_uri": "https://localhost:8080/"
        },
        "id": "kREO1YVk5lhm",
        "outputId": "87d7fdc5-3c6d-47ee-c36d-6a9778c22ebb"
      },
      "execution_count": null,
      "outputs": [
        {
          "output_type": "execute_result",
          "data": {
            "text/plain": [
              "Medium    2793\n",
              "Small     2388\n",
              "High       932\n",
              "Name: Outlet_Size, dtype: int64"
            ]
          },
          "metadata": {},
          "execution_count": 148
        }
      ]
    },
    {
      "cell_type": "markdown",
      "source": [
        "## Checking in:\n",
        "\n",
        "- We will drop the 'Outlet_Size' column\n",
        "\n",
        "- We will fill in the missing values in 'Item_Weight'\n"
      ],
      "metadata": {
        "id": "eQN7dX0LEHLf"
      }
    },
    {
      "cell_type": "code",
      "source": [
        "# We are going to start by getting rid of the column 'Outlet_Size'\n",
        "df.drop(columns='Outlet_Size', inplace=True)"
      ],
      "metadata": {
        "id": "uqNYA-6IB-cd"
      },
      "execution_count": null,
      "outputs": []
    },
    {
      "cell_type": "code",
      "source": [
        "# We are going to fill in the missing values with the mean value of the column\n",
        "\n",
        "# Saving the mean as a variable 'weight_mean'\n",
        "weight_mean = df['Item_Weight'].mean()\n",
        "\n",
        "# Dropping the 'na' values with the 'weight_mean' variable\n",
        "df['Item_Weight'].fillna(weight_mean, inplace=True)"
      ],
      "metadata": {
        "id": "iiqzuiaABnc5"
      },
      "execution_count": null,
      "outputs": []
    },
    {
      "cell_type": "markdown",
      "source": [
        "## Confirm that there are no missing values after addressing them.\n",
        "\n",
        "- We will explore the sum of missing values from our dataframe"
      ],
      "metadata": {
        "id": "_kjovhrUD1zK"
      }
    },
    {
      "cell_type": "code",
      "source": [
        "# Finding the sum of missing values across the data frame\n",
        "df.isna().sum()"
      ],
      "metadata": {
        "colab": {
          "base_uri": "https://localhost:8080/"
        },
        "id": "Kf65pMkUDz29",
        "outputId": "0bab194f-3667-4961-aa90-b4e1d36dbed7"
      },
      "execution_count": null,
      "outputs": [
        {
          "output_type": "execute_result",
          "data": {
            "text/plain": [
              "Item_Identifier              0\n",
              "Item_Weight                  0\n",
              "Item_Fat_Content             0\n",
              "Item_Visibility              0\n",
              "Item_Type                    0\n",
              "Item_MRP                     0\n",
              "Outlet_Identifier            0\n",
              "Outlet_Establishment_Year    0\n",
              "Outlet_Location_Type         0\n",
              "Outlet_Type                  0\n",
              "Item_Outlet_Sales            0\n",
              "dtype: int64"
            ]
          },
          "metadata": {},
          "execution_count": 151
        }
      ]
    },
    {
      "cell_type": "markdown",
      "source": [
        "## Success!\n",
        "\n",
        "- Our data frame now has no missing values"
      ],
      "metadata": {
        "id": "lW3c0kzKEvh7"
      }
    },
    {
      "cell_type": "markdown",
      "source": [
        "## Find and fix any inconsistent categories of data\n",
        "\n",
        "- We will pull up all of the category names and verify the capitalization is consistent and there are no spaces"
      ],
      "metadata": {
        "id": "O95mXjIeE9Ax"
      }
    },
    {
      "cell_type": "code",
      "source": [
        "# I will infestigate the columns made of strings\n",
        "\n",
        "df.info()"
      ],
      "metadata": {
        "id": "sN3Dpnu72G24",
        "outputId": "cea3bd25-92ba-477c-a20a-be601bc5f812",
        "colab": {
          "base_uri": "https://localhost:8080/"
        }
      },
      "execution_count": null,
      "outputs": [
        {
          "output_type": "stream",
          "name": "stdout",
          "text": [
            "<class 'pandas.core.frame.DataFrame'>\n",
            "RangeIndex: 8523 entries, 0 to 8522\n",
            "Data columns (total 11 columns):\n",
            " #   Column                     Non-Null Count  Dtype  \n",
            "---  ------                     --------------  -----  \n",
            " 0   Item_Identifier            8523 non-null   object \n",
            " 1   Item_Weight                8523 non-null   float64\n",
            " 2   Item_Fat_Content           8523 non-null   object \n",
            " 3   Item_Visibility            8523 non-null   float64\n",
            " 4   Item_Type                  8523 non-null   object \n",
            " 5   Item_MRP                   8523 non-null   float64\n",
            " 6   Outlet_Identifier          8523 non-null   object \n",
            " 7   Outlet_Establishment_Year  8523 non-null   int64  \n",
            " 8   Outlet_Location_Type       8523 non-null   object \n",
            " 9   Outlet_Type                8523 non-null   object \n",
            " 10  Item_Outlet_Sales          8523 non-null   float64\n",
            "dtypes: float64(4), int64(1), object(6)\n",
            "memory usage: 732.6+ KB\n"
          ]
        }
      ]
    },
    {
      "cell_type": "code",
      "source": [
        "# Here are some inconsistencies I need to fix with Low Fat and Regular\n",
        "\n",
        "df['Item_Fat_Content'].value_counts()"
      ],
      "metadata": {
        "id": "zx_53N_ZylGz",
        "outputId": "a283bfca-0750-4e7d-9076-729c827b7072",
        "colab": {
          "base_uri": "https://localhost:8080/"
        }
      },
      "execution_count": null,
      "outputs": [
        {
          "output_type": "execute_result",
          "data": {
            "text/plain": [
              "Low Fat    5089\n",
              "Regular    2889\n",
              "LF          316\n",
              "reg         117\n",
              "low fat     112\n",
              "Name: Item_Fat_Content, dtype: int64"
            ]
          },
          "metadata": {},
          "execution_count": 153
        }
      ]
    },
    {
      "cell_type": "code",
      "source": [
        "# This will replace the LF and low fat to both Low Fat, and reg to Regular\n",
        "\n",
        "df['Item_Fat_Content'].replace({'LF': 'Low Fat', 'reg': 'Regular', 'low fat': 'Low Fat'}, inplace=True)\n",
        "df['Item_Fat_Content'].value_counts()"
      ],
      "metadata": {
        "id": "jBVaJbky0DmR",
        "outputId": "29b53363-cde1-41f0-bb33-fc2c062814f3",
        "colab": {
          "base_uri": "https://localhost:8080/"
        }
      },
      "execution_count": null,
      "outputs": [
        {
          "output_type": "execute_result",
          "data": {
            "text/plain": [
              "Low Fat    5517\n",
              "Regular    3006\n",
              "Name: Item_Fat_Content, dtype: int64"
            ]
          },
          "metadata": {},
          "execution_count": 154
        }
      ]
    },
    {
      "cell_type": "code",
      "source": [
        "# No changes need to be made\n",
        "\n",
        "df['Item_Type'].value_counts()"
      ],
      "metadata": {
        "id": "RdQiYBCN2hQb",
        "outputId": "f71b7860-99b1-4d2d-c0cc-662efbacb93c",
        "colab": {
          "base_uri": "https://localhost:8080/"
        }
      },
      "execution_count": null,
      "outputs": [
        {
          "output_type": "execute_result",
          "data": {
            "text/plain": [
              "Fruits and Vegetables    1232\n",
              "Snack Foods              1200\n",
              "Household                 910\n",
              "Frozen Foods              856\n",
              "Dairy                     682\n",
              "Canned                    649\n",
              "Baking Goods              648\n",
              "Health and Hygiene        520\n",
              "Soft Drinks               445\n",
              "Meat                      425\n",
              "Breads                    251\n",
              "Hard Drinks               214\n",
              "Others                    169\n",
              "Starchy Foods             148\n",
              "Breakfast                 110\n",
              "Seafood                    64\n",
              "Name: Item_Type, dtype: int64"
            ]
          },
          "metadata": {},
          "execution_count": 155
        }
      ]
    },
    {
      "cell_type": "code",
      "source": [
        "# No changes need to be made\n",
        "\n",
        "df['Outlet_Location_Type'].value_counts()"
      ],
      "metadata": {
        "id": "EU21bavR2ug3",
        "outputId": "6704ba66-09d2-40ff-846d-e217da963fcd",
        "colab": {
          "base_uri": "https://localhost:8080/"
        }
      },
      "execution_count": null,
      "outputs": [
        {
          "output_type": "execute_result",
          "data": {
            "text/plain": [
              "Tier 3    3350\n",
              "Tier 2    2785\n",
              "Tier 1    2388\n",
              "Name: Outlet_Location_Type, dtype: int64"
            ]
          },
          "metadata": {},
          "execution_count": 156
        }
      ]
    },
    {
      "cell_type": "code",
      "source": [
        "# No changes need to be made\n",
        "\n",
        "df['Outlet_Location_Type'].value_counts()"
      ],
      "metadata": {
        "id": "yZt3UE732xJZ",
        "outputId": "453d2998-fc8d-4b49-826f-40bfdb8b8a56",
        "colab": {
          "base_uri": "https://localhost:8080/"
        }
      },
      "execution_count": null,
      "outputs": [
        {
          "output_type": "execute_result",
          "data": {
            "text/plain": [
              "Tier 3    3350\n",
              "Tier 2    2785\n",
              "Tier 1    2388\n",
              "Name: Outlet_Location_Type, dtype: int64"
            ]
          },
          "metadata": {},
          "execution_count": 157
        }
      ]
    },
    {
      "cell_type": "code",
      "source": [
        "# No changes need to be made\n",
        "\n",
        "df['Outlet_Type'].value_counts()"
      ],
      "metadata": {
        "id": "IrwQqguL26QJ",
        "outputId": "581472e9-c0d7-492f-b62b-73ac600154ab",
        "colab": {
          "base_uri": "https://localhost:8080/"
        }
      },
      "execution_count": null,
      "outputs": [
        {
          "output_type": "execute_result",
          "data": {
            "text/plain": [
              "Supermarket Type1    5577\n",
              "Grocery Store        1083\n",
              "Supermarket Type3     935\n",
              "Supermarket Type2     928\n",
              "Name: Outlet_Type, dtype: int64"
            ]
          },
          "metadata": {},
          "execution_count": 158
        }
      ]
    },
    {
      "cell_type": "markdown",
      "source": [
        "## For any numerical columns, obtain the summary statistics of each (min, max, mean)\n",
        "\n",
        "- There numerical columns we will explore are:\n",
        "1.   Item_Weight\n",
        "2.   Item_Visibility\n",
        "3.   Item_MRP\n",
        "4.   Outlet_Establishment_Year\n",
        "5.   Item_Outlet_Sales"
      ],
      "metadata": {
        "id": "RTAmXcDyGCIu"
      }
    },
    {
      "cell_type": "code",
      "source": [
        "# Item_Weight summary statistics\n",
        "df['Item_Weight'].describe()"
      ],
      "metadata": {
        "colab": {
          "base_uri": "https://localhost:8080/"
        },
        "id": "e5XmgDplGlSc",
        "outputId": "3187830b-b9db-4652-aa68-9ccf12587dd8"
      },
      "execution_count": null,
      "outputs": [
        {
          "output_type": "execute_result",
          "data": {
            "text/plain": [
              "count    8523.000000\n",
              "mean       12.857645\n",
              "std         4.226124\n",
              "min         4.555000\n",
              "25%         9.310000\n",
              "50%        12.857645\n",
              "75%        16.000000\n",
              "max        21.350000\n",
              "Name: Item_Weight, dtype: float64"
            ]
          },
          "metadata": {},
          "execution_count": 159
        }
      ]
    },
    {
      "cell_type": "markdown",
      "source": [
        "## Summary Statistics for 'Item_Weight'\n",
        "- min = 4.55\n",
        "- max = 21.35\n",
        "- mean = 12.86"
      ],
      "metadata": {
        "id": "av0Vs_xRH30X"
      }
    },
    {
      "cell_type": "code",
      "source": [
        "# Item_Visibility summary statistics\n",
        "df['Item_Visibility'].describe()"
      ],
      "metadata": {
        "colab": {
          "base_uri": "https://localhost:8080/"
        },
        "id": "hEBwyVFXGuaU",
        "outputId": "7c3d2e3f-f14a-4ab5-91f1-84a473bdf34b"
      },
      "execution_count": null,
      "outputs": [
        {
          "output_type": "execute_result",
          "data": {
            "text/plain": [
              "count    8523.000000\n",
              "mean        0.066132\n",
              "std         0.051598\n",
              "min         0.000000\n",
              "25%         0.026989\n",
              "50%         0.053931\n",
              "75%         0.094585\n",
              "max         0.328391\n",
              "Name: Item_Visibility, dtype: float64"
            ]
          },
          "metadata": {},
          "execution_count": 160
        }
      ]
    },
    {
      "cell_type": "markdown",
      "source": [
        "## Summary Statistics for 'Item_Visibility'\n",
        "- min = 0\n",
        "- max = 0.33\n",
        "- mean = 0.07"
      ],
      "metadata": {
        "id": "96RiRznDH_gS"
      }
    },
    {
      "cell_type": "code",
      "source": [
        "# Item_MRP summary statistics\n",
        "df['Item_MRP'].describe()"
      ],
      "metadata": {
        "colab": {
          "base_uri": "https://localhost:8080/"
        },
        "id": "NMnGpgmUG0J5",
        "outputId": "95eabfd9-07c4-4ed4-fab5-716896e5b456"
      },
      "execution_count": null,
      "outputs": [
        {
          "output_type": "execute_result",
          "data": {
            "text/plain": [
              "count    8523.000000\n",
              "mean      140.992782\n",
              "std        62.275067\n",
              "min        31.290000\n",
              "25%        93.826500\n",
              "50%       143.012800\n",
              "75%       185.643700\n",
              "max       266.888400\n",
              "Name: Item_MRP, dtype: float64"
            ]
          },
          "metadata": {},
          "execution_count": 161
        }
      ]
    },
    {
      "cell_type": "markdown",
      "source": [
        "## Summary Statistics for 'Item_MRP'\n",
        "- min = 31.29\n",
        "- max = 266.89\n",
        "- mean = 140.99"
      ],
      "metadata": {
        "id": "mNzKO6MmIAWD"
      }
    },
    {
      "cell_type": "code",
      "source": [
        "# Outlet_Establishment_Year summary statistics\n",
        "df['Outlet_Establishment_Year'].describe()"
      ],
      "metadata": {
        "colab": {
          "base_uri": "https://localhost:8080/"
        },
        "id": "NJ1TsV9kHHUF",
        "outputId": "df051bff-e37a-4704-c029-6469657649a9"
      },
      "execution_count": null,
      "outputs": [
        {
          "output_type": "execute_result",
          "data": {
            "text/plain": [
              "count    8523.000000\n",
              "mean     1997.831867\n",
              "std         8.371760\n",
              "min      1985.000000\n",
              "25%      1987.000000\n",
              "50%      1999.000000\n",
              "75%      2004.000000\n",
              "max      2009.000000\n",
              "Name: Outlet_Establishment_Year, dtype: float64"
            ]
          },
          "metadata": {},
          "execution_count": 162
        }
      ]
    },
    {
      "cell_type": "markdown",
      "source": [
        "## Summary Statistics for 'Outlet_Establishment_Year'\n",
        "- min = 1985\n",
        "- max = 2009\n",
        "- mean = 1997"
      ],
      "metadata": {
        "id": "dt6UJBYGIBD-"
      }
    },
    {
      "cell_type": "code",
      "source": [
        "# Item_Outlet_Sales summary statistics\n",
        "df['Item_Outlet_Sales'].describe()"
      ],
      "metadata": {
        "colab": {
          "base_uri": "https://localhost:8080/"
        },
        "id": "MbwsaIazHNfY",
        "outputId": "ced461e5-ac77-4819-d263-dcc1ca6695be"
      },
      "execution_count": null,
      "outputs": [
        {
          "output_type": "execute_result",
          "data": {
            "text/plain": [
              "count     8523.000000\n",
              "mean      2181.288914\n",
              "std       1706.499616\n",
              "min         33.290000\n",
              "25%        834.247400\n",
              "50%       1794.331000\n",
              "75%       3101.296400\n",
              "max      13086.964800\n",
              "Name: Item_Outlet_Sales, dtype: float64"
            ]
          },
          "metadata": {},
          "execution_count": 163
        }
      ]
    },
    {
      "cell_type": "markdown",
      "source": [
        "## Summary Statistics for 'Item_Outlet_Sales'\n",
        "- min = 33.29\n",
        "- max = 13,086.96\n",
        "- mean = 2181.29"
      ],
      "metadata": {
        "id": "fiNXrqj7ICKr"
      }
    },
    {
      "cell_type": "markdown",
      "source": [
        "## Plot histograms of the following:\n",
        "1. Item Weight\n",
        "2. Item Visibility\n",
        "3. Item MRP\n",
        "4. Item Outlet Sales."
      ],
      "metadata": {
        "id": "iUtDhmsrdKdu"
      }
    },
    {
      "cell_type": "code",
      "source": [
        "# Histogram for Item Weight\n",
        "\n",
        "x = df['Item_Weight']\n",
        "y = [0,2,4,6,8,10,12,14,16,18,20,22,24]\n",
        "\n",
        "plt.style.use('seaborn')\n",
        "plt.hist(x,y,ec='black', lw=1, fc=(0,0,1,1))\n",
        "\n",
        "plt.xlabel('Item Weight')\n",
        "plt.ylabel('Count')\n",
        "plt.title('Item Weight')\n",
        "plt.xticks(y)\n",
        "plt.show()"
      ],
      "metadata": {
        "colab": {
          "base_uri": "https://localhost:8080/",
          "height": 376
        },
        "id": "fnNddPkjbYb9",
        "outputId": "99b8d3bf-e614-49a9-8695-3f5b195103fb"
      },
      "execution_count": null,
      "outputs": [
        {
          "output_type": "display_data",
          "data": {
            "text/plain": [
              "<Figure size 576x396 with 1 Axes>"
            ],
            "image/png": "[encoded data removed]"
          },
          "metadata": {}
        }
      ]
    },
    {
      "cell_type": "markdown",
      "source": [
        "## Initial Analysis\n",
        "\n",
        "- Center - The item weight is centered around 13.\n",
        "\n",
        "- Shape - The item weight data is unimodal and symmetrical.\n",
        "\n",
        "- Spread - The item weight data spans from 4 to 22.\n",
        "\n",
        "- Anything Unusual - This graph has a large spike around 13. This is due to the\n",
        "missing data from this column being filled in with the mean value."
      ],
      "metadata": {
        "id": "W1ywFpUhju3x"
      }
    },
    {
      "cell_type": "code",
      "source": [
        "# Histogram for Item Visibility\n",
        "\n",
        "x = df['Item_Visibility']\n",
        "y = [0,0.06,0.11,0.16,0.21,0.26,0.31,0.36]\n",
        "\n",
        "plt.style.use('seaborn')\n",
        "plt.hist(x,y,ec='black', lw=1, fc=(0,0,1,1))\n",
        "\n",
        "plt.xlabel('Item Visibility')\n",
        "plt.ylabel('Count')\n",
        "plt.title('Item Visibility')\n",
        "plt.xticks(y)\n",
        "plt.show()\n",
        "\n",
        "# Because the histogram is skewed, I will look at the boxplot\n",
        "plt.boxplot(df['Item_Visibility']);"
      ],
      "metadata": {
        "colab": {
          "base_uri": "https://localhost:8080/",
          "height": 706
        },
        "id": "F9jLsfrNeUkg",
        "outputId": "9a1dfeb4-8a73-46b2-8e9e-fb24cdb1ed49"
      },
      "execution_count": null,
      "outputs": [
        {
          "output_type": "display_data",
          "data": {
            "text/plain": [
              "<Figure size 576x396 with 1 Axes>"
            ],
            "image/png": "[encoded data removed]"
          },
          "metadata": {}
        },
        {
          "output_type": "display_data",
          "data": {
            "text/plain": [
              "<Figure size 576x396 with 1 Axes>"
            ],
            "image/png": "[encoded data removed]"
          },
          "metadata": {}
        }
      ]
    },
    {
      "cell_type": "markdown",
      "source": [
        "## Initial Analysis\n",
        "\n",
        "- Center - The item visibility data is centered is around 0.05.\n",
        "\n",
        "- Shape - The item visibility data is skewed to the right.\n",
        "\n",
        "- Spread - The item visibility data is primarily spread from 0 to 0.2. However, there are some outliers above 0.2 and below 0.35.\n",
        "\n",
        "- Anything Unusual - There are a number of outliers in this data set that are above the upper fence (which is around 0.2)."
      ],
      "metadata": {
        "id": "7OsfK6a3kMqW"
      }
    },
    {
      "cell_type": "code",
      "source": [
        "# Histogram for Item MRP\n",
        "\n",
        "x = df['Item_MRP']\n",
        "y = [0,25,50,75,100,125,150,175,200,225,250,275,300]\n",
        "     \n",
        "plt.style.use('seaborn')\n",
        "plt.hist(x,y,ec='black', lw=1, fc=(0,0,1,1))\n",
        "\n",
        "plt.xlabel('Item MRP')\n",
        "plt.ylabel('Count')\n",
        "plt.title('Item MRP')\n",
        "plt.xticks(y)\n",
        "plt.show()"
      ],
      "metadata": {
        "colab": {
          "base_uri": "https://localhost:8080/",
          "height": 376
        },
        "id": "C8HCBcuhezNQ",
        "outputId": "1c84fccc-7d6f-47da-98e9-d2b2c61f20ba"
      },
      "execution_count": 13,
      "outputs": [
        {
          "output_type": "display_data",
          "data": {
            "text/plain": [
              "<Figure size 576x396 with 1 Axes>"
            ],
            "image/png": "[encoded data removed]"
          },
          "metadata": {}
        }
      ]
    },
    {
      "cell_type": "markdown",
      "source": [
        "## Initial Analysis\n",
        "\n",
        "- Center - The center of the Item MRP data is around 150.\n",
        "\n",
        "- Shape - The Item MRP data is fairly unimodal and symmetrical.\n",
        "\n",
        "- Spread - The Item MRP data spans from 25 to 275.\n",
        "\n",
        "- Anything Unusual - The data is fairly unimodal; however, the data could be interpretted to actually be multimodal. This data might be looked at in 3 sections, 25-125, 125-200, and 200-275. More data would need to be collected to make a better determination."
      ],
      "metadata": {
        "id": "8B6yrdxYkNcl"
      }
    },
    {
      "cell_type": "code",
      "source": [
        "# Histogram for Item Visibility\n",
        "\n",
        "x = df['Item_Outlet_Sales']\n",
        "y = [0,1000,2000,3000,4000,5000,6000,7000,8000,9000,10000,11000,12000,13000,14000]\n",
        "\n",
        "plt.style.use('seaborn')\n",
        "plt.hist(x,y,ec='black', lw=1, fc=(0,0,1,1))\n",
        "\n",
        "plt.xlabel('Item Outlet Sales')\n",
        "plt.ylabel('Count')\n",
        "plt.title('Item Outlet Sales')\n",
        "plt.xticks(y)\n",
        "plt.show()\n",
        "\n",
        "# Because the histogram is skewed, I will look at the boxplot\n",
        "plt.boxplot(df['Item_Outlet_Sales']);"
      ],
      "metadata": {
        "colab": {
          "base_uri": "https://localhost:8080/",
          "height": 706
        },
        "id": "K3i3il1mfUmD",
        "outputId": "d97bdefb-b420-4836-930e-fd2b76f35b3b"
      },
      "execution_count": null,
      "outputs": [
        {
          "output_type": "display_data",
          "data": {
            "text/plain": [
              "<Figure size 576x396 with 1 Axes>"
            ],
            "image/png": "[encoded data removed]"
          },
          "metadata": {}
        },
        {
          "output_type": "display_data",
          "data": {
            "text/plain": [
              "<Figure size 576x396 with 1 Axes>"
            ],
            "image/png": "[encoded data removed]"
          },
          "metadata": {}
        }
      ]
    },
    {
      "cell_type": "markdown",
      "source": [
        "## Initial Analysis\n",
        "\n",
        "- Center - The item outlet sales data is centered around the value of 2000.\n",
        "\n",
        "- Shape - The item outlet sales data is skewed to the right.\n",
        "\n",
        "- Spread - The item outlet sales data spreads from 0 to a little over 6000. However, outliers can be found all the way out past 12,000.\n",
        "\n",
        "- Anything Unusual - The data is very skewed to the right and has a lot of outliers that go out to twice the distance from the minimum value to the upper fence."
      ],
      "metadata": {
        "id": "4i5AP58QkOae"
      }
    },
    {
      "cell_type": "code",
      "source": [
        "# Creating a heat map of the data\n",
        "corr = df.corr()\n",
        "sns.heatmap(corr, cmap = 'Greens', annot = True);"
      ],
      "metadata": {
        "colab": {
          "base_uri": "https://localhost:8080/",
          "height": 462
        },
        "id": "NtipwSWjlDT3",
        "outputId": "09d7bd35-9564-40ef-e18c-75639a6bf235"
      },
      "execution_count": null,
      "outputs": [
        {
          "output_type": "display_data",
          "data": {
            "text/plain": [
              "<Figure size 576x396 with 2 Axes>"
            ],
            "image/png": "[encoded data removed]"
          },
          "metadata": {}
        }
      ]
    },
    {
      "cell_type": "code",
      "source": [
        ""
      ],
      "metadata": {
        "id": "zL3lnDpuJurx"
      },
      "execution_count": null,
      "outputs": []
    },
    {
      "cell_type": "markdown",
      "source": [
        "## Initial Analysis\n",
        "\n",
        "The data seems to have almost 0 correlation with the exception of the item MRP and the item outlet sales (r = 0.57). More investigation into all of the data sets should be considered, some data might have more of a correlation if spliced into different sections."
      ],
      "metadata": {
        "id": "lk-xXAlrJcDv"
      }
    }
  ]
}