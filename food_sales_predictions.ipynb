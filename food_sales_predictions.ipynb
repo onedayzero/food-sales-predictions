{
  "nbformat": 4,
  "nbformat_minor": 0,
  "metadata": {
    "colab": {
      "name": "food_sales_predictions.ipynb",
      "provenance": [],
      "collapsed_sections": [],
      "authorship_tag": "ABX9TyPb62FrF5A5LlImsUafQtEs",
      "include_colab_link": true
    },
    "kernelspec": {
      "name": "python3",
      "display_name": "Python 3"
    },
    "language_info": {
      "name": "python"
    }
  },
  "cells": [
    {
      "cell_type": "markdown",
      "metadata": {
        "id": "view-in-github",
        "colab_type": "text"
      },
      "source": [
        "<a href=\"https://colab.research.google.com/github/onedayzero/food-sales-predictions/blob/main/food_sales_predictions.ipynb\" target=\"_parent\"><img src=\"https://colab.research.google.com/assets/colab-badge.svg\" alt=\"Open In Colab\"/></a>"
      ]
    },
    {
      "cell_type": "markdown",
      "source": [
        "# Food Sales Predictions\n",
        "-Clint Atterberry\n",
        "\n",
        "-17 June 2022"
      ],
      "metadata": {
        "id": "5ZM8XcdxwDis"
      }
    },
    {
      "cell_type": "markdown",
      "source": [
        "## Mount the drive, import libraries, and import data"
      ],
      "metadata": {
        "id": "tqxH_xfpwMqJ"
      }
    },
    {
      "cell_type": "code",
      "execution_count": null,
      "metadata": {
        "id": "mWWjU-xF76Ib"
      },
      "outputs": [],
      "source": [
        "# Import Library pandas as pd\n",
        "import matplotlib.pyplot as plt\n",
        "import seaborn as sns\n",
        "import pandas as pd\n",
        "import numpy as np\n",
        "import warnings\n",
        "warnings.simplefilter(action='ignore', category=FutureWarning)\n",
        "from sklearn.model_selection import train_test_split\n",
        "from sklearn.compose import make_column_selector, make_column_transformer\n",
        "from sklearn.preprocessing import StandardScaler, MinMaxScaler, OneHotEncoder, \\\n",
        "OrdinalEncoder\n",
        "from sklearn.pipeline import make_pipeline\n",
        "from sklearn.impute import SimpleImputer\n",
        "from sklearn import set_config\n",
        "set_config(display='diagram')"
      ]
    },
    {
      "cell_type": "code",
      "source": [
        "# Get csv data from link for assignment\n",
        "filename= ('https://docs.google.com/spreadsheets/d/e/2PACX-1vQ9hM0TmmxdZ3whTnYlhnTpQR0bVvUFganKildu6gE-u4P5hMtFyr0VXkgZ6b8IfBvC148lRAvmgAXU/pub?output=csv')\n",
        "df = pd.read_csv(filename)\n",
        "df.head()"
      ],
      "metadata": {
        "id": "4j_WiW0V8Dyt",
        "colab": {
          "base_uri": "https://localhost:8080/",
          "height": 206
        },
        "outputId": "3cbbdaa7-129e-4d01-e2bd-3ea237e80482"
      },
      "execution_count": null,
      "outputs": [
        {
          "output_type": "execute_result",
          "data": {
            "text/plain": [
              "  Item_Identifier  Item_Weight Item_Fat_Content  Item_Visibility  \\\n",
              "0           FDA15         9.30          Low Fat         0.016047   \n",
              "1           DRC01         5.92          Regular         0.019278   \n",
              "2           FDN15        17.50          Low Fat         0.016760   \n",
              "3           FDX07        19.20          Regular         0.000000   \n",
              "4           NCD19         8.93          Low Fat         0.000000   \n",
              "\n",
              "               Item_Type  Item_MRP Outlet_Identifier  \\\n",
              "0                  Dairy  249.8092            OUT049   \n",
              "1            Soft Drinks   48.2692            OUT018   \n",
              "2                   Meat  141.6180            OUT049   \n",
              "3  Fruits and Vegetables  182.0950            OUT010   \n",
              "4              Household   53.8614            OUT013   \n",
              "\n",
              "   Outlet_Establishment_Year Outlet_Size Outlet_Location_Type  \\\n",
              "0                       1999      Medium               Tier 1   \n",
              "1                       2009      Medium               Tier 3   \n",
              "2                       1999      Medium               Tier 1   \n",
              "3                       1998         NaN               Tier 3   \n",
              "4                       1987        High               Tier 3   \n",
              "\n",
              "         Outlet_Type  Item_Outlet_Sales  \n",
              "0  Supermarket Type1          3735.1380  \n",
              "1  Supermarket Type2           443.4228  \n",
              "2  Supermarket Type1          2097.2700  \n",
              "3      Grocery Store           732.3800  \n",
              "4  Supermarket Type1           994.7052  "
            ],
            "text/html": [
              "\n",
              "  <div id=\"df-48825dd2-bf9e-4bff-8bc5-2dc169bf0253\">\n",
              "    <div class=\"colab-df-container\">\n",
              "      <div>\n",
              "<style scoped>\n",
              "    .dataframe tbody tr th:only-of-type {\n",
              "        vertical-align: middle;\n",
              "    }\n",
              "\n",
              "    .dataframe tbody tr th {\n",
              "        vertical-align: top;\n",
              "    }\n",
              "\n",
              "    .dataframe thead th {\n",
              "        text-align: right;\n",
              "    }\n",
              "</style>\n",
              "<table border=\"1\" class=\"dataframe\">\n",
              "  <thead>\n",
              "    <tr style=\"text-align: right;\">\n",
              "      <th></th>\n",
              "      <th>Item_Identifier</th>\n",
              "      <th>Item_Weight</th>\n",
              "      <th>Item_Fat_Content</th>\n",
              "      <th>Item_Visibility</th>\n",
              "      <th>Item_Type</th>\n",
              "      <th>Item_MRP</th>\n",
              "      <th>Outlet_Identifier</th>\n",
              "      <th>Outlet_Establishment_Year</th>\n",
              "      <th>Outlet_Size</th>\n",
              "      <th>Outlet_Location_Type</th>\n",
              "      <th>Outlet_Type</th>\n",
              "      <th>Item_Outlet_Sales</th>\n",
              "    </tr>\n",
              "  </thead>\n",
              "  <tbody>\n",
              "    <tr>\n",
              "      <th>0</th>\n",
              "      <td>FDA15</td>\n",
              "      <td>9.30</td>\n",
              "      <td>Low Fat</td>\n",
              "      <td>0.016047</td>\n",
              "      <td>Dairy</td>\n",
              "      <td>249.8092</td>\n",
              "      <td>OUT049</td>\n",
              "      <td>1999</td>\n",
              "      <td>Medium</td>\n",
              "      <td>Tier 1</td>\n",
              "      <td>Supermarket Type1</td>\n",
              "      <td>3735.1380</td>\n",
              "    </tr>\n",
              "    <tr>\n",
              "      <th>1</th>\n",
              "      <td>DRC01</td>\n",
              "      <td>5.92</td>\n",
              "      <td>Regular</td>\n",
              "      <td>0.019278</td>\n",
              "      <td>Soft Drinks</td>\n",
              "      <td>48.2692</td>\n",
              "      <td>OUT018</td>\n",
              "      <td>2009</td>\n",
              "      <td>Medium</td>\n",
              "      <td>Tier 3</td>\n",
              "      <td>Supermarket Type2</td>\n",
              "      <td>443.4228</td>\n",
              "    </tr>\n",
              "    <tr>\n",
              "      <th>2</th>\n",
              "      <td>FDN15</td>\n",
              "      <td>17.50</td>\n",
              "      <td>Low Fat</td>\n",
              "      <td>0.016760</td>\n",
              "      <td>Meat</td>\n",
              "      <td>141.6180</td>\n",
              "      <td>OUT049</td>\n",
              "      <td>1999</td>\n",
              "      <td>Medium</td>\n",
              "      <td>Tier 1</td>\n",
              "      <td>Supermarket Type1</td>\n",
              "      <td>2097.2700</td>\n",
              "    </tr>\n",
              "    <tr>\n",
              "      <th>3</th>\n",
              "      <td>FDX07</td>\n",
              "      <td>19.20</td>\n",
              "      <td>Regular</td>\n",
              "      <td>0.000000</td>\n",
              "      <td>Fruits and Vegetables</td>\n",
              "      <td>182.0950</td>\n",
              "      <td>OUT010</td>\n",
              "      <td>1998</td>\n",
              "      <td>NaN</td>\n",
              "      <td>Tier 3</td>\n",
              "      <td>Grocery Store</td>\n",
              "      <td>732.3800</td>\n",
              "    </tr>\n",
              "    <tr>\n",
              "      <th>4</th>\n",
              "      <td>NCD19</td>\n",
              "      <td>8.93</td>\n",
              "      <td>Low Fat</td>\n",
              "      <td>0.000000</td>\n",
              "      <td>Household</td>\n",
              "      <td>53.8614</td>\n",
              "      <td>OUT013</td>\n",
              "      <td>1987</td>\n",
              "      <td>High</td>\n",
              "      <td>Tier 3</td>\n",
              "      <td>Supermarket Type1</td>\n",
              "      <td>994.7052</td>\n",
              "    </tr>\n",
              "  </tbody>\n",
              "</table>\n",
              "</div>\n",
              "      <button class=\"colab-df-convert\" onclick=\"convertToInteractive('df-48825dd2-bf9e-4bff-8bc5-2dc169bf0253')\"\n",
              "              title=\"Convert this dataframe to an interactive table.\"\n",
              "              style=\"display:none;\">\n",
              "        \n",
              "  <svg xmlns=\"http://www.w3.org/2000/svg\" height=\"24px\"viewBox=\"0 0 24 24\"\n",
              "       width=\"24px\">\n",
              "    <path d=\"M0 0h24v24H0V0z\" fill=\"none\"/>\n",
              "    <path d=\"M18.56 5.44l.94 2.06.94-2.06 2.06-.94-2.06-.94-.94-2.06-.94 2.06-2.06.94zm-11 1L8.5 8.5l.94-2.06 2.06-.94-2.06-.94L8.5 2.5l-.94 2.06-2.06.94zm10 10l.94 2.06.94-2.06 2.06-.94-2.06-.94-.94-2.06-.94 2.06-2.06.94z\"/><path d=\"M17.41 7.96l-1.37-1.37c-.4-.4-.92-.59-1.43-.59-.52 0-1.04.2-1.43.59L10.3 9.45l-7.72 7.72c-.78.78-.78 2.05 0 2.83L4 21.41c.39.39.9.59 1.41.59.51 0 1.02-.2 1.41-.59l7.78-7.78 2.81-2.81c.8-.78.8-2.07 0-2.86zM5.41 20L4 18.59l7.72-7.72 1.47 1.35L5.41 20z\"/>\n",
              "  </svg>\n",
              "      </button>\n",
              "      \n",
              "  <style>\n",
              "    .colab-df-container {\n",
              "      display:flex;\n",
              "      flex-wrap:wrap;\n",
              "      gap: 12px;\n",
              "    }\n",
              "\n",
              "    .colab-df-convert {\n",
              "      background-color: #E8F0FE;\n",
              "      border: none;\n",
              "      border-radius: 50%;\n",
              "      cursor: pointer;\n",
              "      display: none;\n",
              "      fill: #1967D2;\n",
              "      height: 32px;\n",
              "      padding: 0 0 0 0;\n",
              "      width: 32px;\n",
              "    }\n",
              "\n",
              "    .colab-df-convert:hover {\n",
              "      background-color: #E2EBFA;\n",
              "      box-shadow: 0px 1px 2px rgba(60, 64, 67, 0.3), 0px 1px 3px 1px rgba(60, 64, 67, 0.15);\n",
              "      fill: #174EA6;\n",
              "    }\n",
              "\n",
              "    [theme=dark] .colab-df-convert {\n",
              "      background-color: #3B4455;\n",
              "      fill: #D2E3FC;\n",
              "    }\n",
              "\n",
              "    [theme=dark] .colab-df-convert:hover {\n",
              "      background-color: #434B5C;\n",
              "      box-shadow: 0px 1px 3px 1px rgba(0, 0, 0, 0.15);\n",
              "      filter: drop-shadow(0px 1px 2px rgba(0, 0, 0, 0.3));\n",
              "      fill: #FFFFFF;\n",
              "    }\n",
              "  </style>\n",
              "\n",
              "      <script>\n",
              "        const buttonEl =\n",
              "          document.querySelector('#df-48825dd2-bf9e-4bff-8bc5-2dc169bf0253 button.colab-df-convert');\n",
              "        buttonEl.style.display =\n",
              "          google.colab.kernel.accessAllowed ? 'block' : 'none';\n",
              "\n",
              "        async function convertToInteractive(key) {\n",
              "          const element = document.querySelector('#df-48825dd2-bf9e-4bff-8bc5-2dc169bf0253');\n",
              "          const dataTable =\n",
              "            await google.colab.kernel.invokeFunction('convertToInteractive',\n",
              "                                                     [key], {});\n",
              "          if (!dataTable) return;\n",
              "\n",
              "          const docLinkHtml = 'Like what you see? Visit the ' +\n",
              "            '<a target=\"_blank\" href=https://colab.research.google.com/notebooks/data_table.ipynb>data table notebook</a>'\n",
              "            + ' to learn more about interactive tables.';\n",
              "          element.innerHTML = '';\n",
              "          dataTable['output_type'] = 'display_data';\n",
              "          await google.colab.output.renderOutput(dataTable, element);\n",
              "          const docLink = document.createElement('div');\n",
              "          docLink.innerHTML = docLinkHtml;\n",
              "          element.appendChild(docLink);\n",
              "        }\n",
              "      </script>\n",
              "    </div>\n",
              "  </div>\n",
              "  "
            ]
          },
          "metadata": {},
          "execution_count": 198
        }
      ]
    },
    {
      "cell_type": "code",
      "source": [
        "# This will display the (rows, columns) of the data frame\n",
        "df.shape"
      ],
      "metadata": {
        "id": "402eBkyzuoqT",
        "outputId": "3df97e8d-485a-4291-a21b-d1339b26215b",
        "colab": {
          "base_uri": "https://localhost:8080/"
        }
      },
      "execution_count": null,
      "outputs": [
        {
          "output_type": "execute_result",
          "data": {
            "text/plain": [
              "(8523, 12)"
            ]
          },
          "metadata": {},
          "execution_count": 199
        }
      ]
    },
    {
      "cell_type": "markdown",
      "source": [
        "## What are the datatypes of each variable?\n",
        "\n",
        "- objects (strings) - 'Item_Identifier', 'Item_Fat_Content', 'Item_Type', 'Outlet_Identifier', 'Outlet_Size', 'Outlet_Location_Type', 'Outlet_type'\n",
        "\n",
        "- float64 (floats) - 'Item_Weight', 'Item_Visibility', 'Item_MRP', 'Item_Outlet_Sales'\n",
        "\n",
        "- int64 (integers) - 'Outlet_Establishment_Year'"
      ],
      "metadata": {
        "id": "pVOEmIEbygJj"
      }
    },
    {
      "cell_type": "code",
      "source": [
        "# This will display the data types of the variables\n",
        "df.dtypes"
      ],
      "metadata": {
        "colab": {
          "base_uri": "https://localhost:8080/"
        },
        "id": "jQzC5qeIyh3X",
        "outputId": "f82c95d8-b080-4fe3-96e7-bcdb1ca03b4b"
      },
      "execution_count": null,
      "outputs": [
        {
          "output_type": "execute_result",
          "data": {
            "text/plain": [
              "Item_Identifier               object\n",
              "Item_Weight                  float64\n",
              "Item_Fat_Content              object\n",
              "Item_Visibility              float64\n",
              "Item_Type                     object\n",
              "Item_MRP                     float64\n",
              "Outlet_Identifier             object\n",
              "Outlet_Establishment_Year      int64\n",
              "Outlet_Size                   object\n",
              "Outlet_Location_Type          object\n",
              "Outlet_Type                   object\n",
              "Item_Outlet_Sales            float64\n",
              "dtype: object"
            ]
          },
          "metadata": {},
          "execution_count": 200
        }
      ]
    },
    {
      "cell_type": "markdown",
      "source": [
        "## Are there duplicates? If so, drop any duplicates.\n",
        "\n",
        "- There are no duplicate rows; therefore, there are no rows to drop."
      ],
      "metadata": {
        "id": "_4Vqp_fDzQwe"
      }
    },
    {
      "cell_type": "code",
      "source": [
        "# This will display the counts of the duplicated rows\n",
        "df.duplicated().value_counts()"
      ],
      "metadata": {
        "colab": {
          "base_uri": "https://localhost:8080/"
        },
        "id": "YAMPGBGFzXxC",
        "outputId": "92b4bf1b-48a7-4f14-95eb-72d4332ff840"
      },
      "execution_count": null,
      "outputs": [
        {
          "output_type": "execute_result",
          "data": {
            "text/plain": [
              "False    8523\n",
              "dtype: int64"
            ]
          },
          "metadata": {},
          "execution_count": 201
        }
      ]
    },
    {
      "cell_type": "markdown",
      "source": [
        "## Identify missing values.\n",
        "\n",
        "- There are 2 rows that appear to have missing values:\n",
        "\n",
        "- Item_Weight is missing 1463 values\n",
        "\n",
        "- Outlet_Size is missing 2410 values\n",
        "\n",
        "- There may be more missing values in other columns but they may have a placeholder (like 'missing') in its place in the column. Item_Visibility has some values that are 0, so those may be missing values."
      ],
      "metadata": {
        "id": "Fu4p-Gww2RLG"
      }
    },
    {
      "cell_type": "code",
      "source": [
        "df.isna().sum()"
      ],
      "metadata": {
        "colab": {
          "base_uri": "https://localhost:8080/"
        },
        "id": "kQQEqb272ibB",
        "outputId": "e7f7774d-caf6-47aa-e80d-2a8c9800869e"
      },
      "execution_count": null,
      "outputs": [
        {
          "output_type": "execute_result",
          "data": {
            "text/plain": [
              "Item_Identifier                 0\n",
              "Item_Weight                  1463\n",
              "Item_Fat_Content                0\n",
              "Item_Visibility                 0\n",
              "Item_Type                       0\n",
              "Item_MRP                        0\n",
              "Outlet_Identifier               0\n",
              "Outlet_Establishment_Year       0\n",
              "Outlet_Size                  2410\n",
              "Outlet_Location_Type            0\n",
              "Outlet_Type                     0\n",
              "Item_Outlet_Sales               0\n",
              "dtype: int64"
            ]
          },
          "metadata": {},
          "execution_count": 202
        }
      ]
    },
    {
      "cell_type": "markdown",
      "source": [
        "## Decide on how to address the missing values and do it!"
      ],
      "metadata": {
        "id": "3ZbLUBjp4j_d"
      }
    },
    {
      "cell_type": "code",
      "source": [
        "# We have 82.8% of the data\n",
        "df['Item_Weight'].describe()\n",
        "\n",
        "# With over 7000 data values and 1600 missing values\n",
        "# There are no outliers in the data set when considering both the mean and the median\n",
        "# The mean + 2 standard deviations from the mean captures no data points\n",
        "# The median +- 1.5 * the IQR produces fences that are beyond both the min and max\n",
        "\n",
        "# I believe the best course of action is to use the mean and filling in the gaps of the missing data points\n",
        "# I chose the mean over the median because the mean is very close to the middle of the max and the min (~12.9)"
      ],
      "metadata": {
        "colab": {
          "base_uri": "https://localhost:8080/"
        },
        "id": "S0TnyZ5p4ug0",
        "outputId": "edb98dfb-3fe6-45c9-e10d-0eb2c1ff7753"
      },
      "execution_count": null,
      "outputs": [
        {
          "output_type": "execute_result",
          "data": {
            "text/plain": [
              "count    7060.000000\n",
              "mean       12.857645\n",
              "std         4.643456\n",
              "min         4.555000\n",
              "25%         8.773750\n",
              "50%        12.600000\n",
              "75%        16.850000\n",
              "max        21.350000\n",
              "Name: Item_Weight, dtype: float64"
            ]
          },
          "metadata": {},
          "execution_count": 203
        }
      ]
    },
    {
      "cell_type": "code",
      "source": [
        "# We have 71.7% of the data\n",
        "df['Outlet_Size'].value_counts()\n",
        "\n",
        "# With nearly 30% of the values missing the size of the outlet\n",
        "# The counts are not very close considering ~45% of the known data is Medium, ~39% of the data is known small, and the rest (~15%) is High\n",
        "# One might consider filling in the missing values with the mode, Medium\n",
        "# I believe that would be filling in too much data, nearly 30%, with one value will not be the best representation\n",
        "# Due to the size of the missing data and that it is categorical, either deleting those rows or filling in the data with \"Missing\" would be the best course of action\n",
        "# There is a other, similar columns like 'Outlet_Location_Type'and 'Outlet_Type' that probably describes the data in similar way\n",
        "\n",
        "# I believe the best course of action at this time is to remove the entire column\n",
        "# I am basing this decision on the fact that there are similar columns to 'Outlet_Size' like 'Outlet_Type' and 'Outlet_Location_Type'"
      ],
      "metadata": {
        "colab": {
          "base_uri": "https://localhost:8080/"
        },
        "id": "kREO1YVk5lhm",
        "outputId": "8ec371c8-7bc2-47a4-f4ec-c5a04c9c5255"
      },
      "execution_count": null,
      "outputs": [
        {
          "output_type": "execute_result",
          "data": {
            "text/plain": [
              "Medium    2793\n",
              "Small     2388\n",
              "High       932\n",
              "Name: Outlet_Size, dtype: int64"
            ]
          },
          "metadata": {},
          "execution_count": 204
        }
      ]
    },
    {
      "cell_type": "code",
      "source": [
        "# Dropping Outlet_Establishment_Year because it is information that appears to\n",
        "# not be useful when analyzing the data"
      ],
      "metadata": {
        "id": "dZdnMn3A4VLk"
      },
      "execution_count": null,
      "outputs": []
    },
    {
      "cell_type": "markdown",
      "source": [
        "## Checking in:\n",
        "\n",
        "- We will drop the 'Outlet_Size' and 'Outlet_Establishment_Year' column\n",
        "\n",
        "- We will fill in the missing values in 'Item_Weight'\n"
      ],
      "metadata": {
        "id": "eQN7dX0LEHLf"
      }
    },
    {
      "cell_type": "code",
      "source": [
        "# We are going to start by getting rid of the columns 'Outlet_Size' and\n",
        "# 'Outlet_Establishment_Year'\n",
        "df.drop(columns=['Outlet_Size','Outlet_Establishment_Year'], inplace=True)"
      ],
      "metadata": {
        "id": "uqNYA-6IB-cd"
      },
      "execution_count": null,
      "outputs": []
    },
    {
      "cell_type": "code",
      "source": [
        "# We are going to fill in the missing values with the mean value of the column\n",
        "\n",
        "# Saving the mean as a variable 'weight_mean'\n",
        "weight_mean = df['Item_Weight'].mean()\n",
        "\n",
        "# Dropping the 'na' values with the 'weight_mean' variable\n",
        "df['Item_Weight'].fillna(weight_mean, inplace=True)"
      ],
      "metadata": {
        "id": "iiqzuiaABnc5"
      },
      "execution_count": null,
      "outputs": []
    },
    {
      "cell_type": "markdown",
      "source": [
        "## Confirm that there are no missing values after addressing them.\n",
        "\n",
        "- We will explore the sum of missing values from our dataframe"
      ],
      "metadata": {
        "id": "_kjovhrUD1zK"
      }
    },
    {
      "cell_type": "code",
      "source": [
        "# Finding the sum of missing values across the data frame\n",
        "df.isna().sum()"
      ],
      "metadata": {
        "colab": {
          "base_uri": "https://localhost:8080/"
        },
        "id": "Kf65pMkUDz29",
        "outputId": "897e0705-35d2-4b38-b214-c8e8412746e4"
      },
      "execution_count": null,
      "outputs": [
        {
          "output_type": "execute_result",
          "data": {
            "text/plain": [
              "Item_Identifier              0\n",
              "Item_Weight                  0\n",
              "Item_Fat_Content             0\n",
              "Item_Visibility              0\n",
              "Item_Type                    0\n",
              "Item_MRP                     0\n",
              "Outlet_Identifier            0\n",
              "Outlet_Establishment_Year    0\n",
              "Outlet_Location_Type         0\n",
              "Outlet_Type                  0\n",
              "Item_Outlet_Sales            0\n",
              "dtype: int64"
            ]
          },
          "metadata": {},
          "execution_count": 207
        }
      ]
    },
    {
      "cell_type": "markdown",
      "source": [
        "## Success!\n",
        "\n",
        "- Our data frame now has no missing values"
      ],
      "metadata": {
        "id": "lW3c0kzKEvh7"
      }
    },
    {
      "cell_type": "markdown",
      "source": [
        "## Find and fix any inconsistent categories of data\n",
        "\n",
        "- We will pull up all of the category names and verify the capitalization is consistent and there are no spaces"
      ],
      "metadata": {
        "id": "O95mXjIeE9Ax"
      }
    },
    {
      "cell_type": "code",
      "source": [
        "# I will infestigate the columns made of strings\n",
        "\n",
        "df.info()"
      ],
      "metadata": {
        "id": "sN3Dpnu72G24",
        "outputId": "a886baad-a25a-48d9-d713-04a3a66e87d4",
        "colab": {
          "base_uri": "https://localhost:8080/"
        }
      },
      "execution_count": null,
      "outputs": [
        {
          "output_type": "stream",
          "name": "stdout",
          "text": [
            "<class 'pandas.core.frame.DataFrame'>\n",
            "RangeIndex: 8523 entries, 0 to 8522\n",
            "Data columns (total 11 columns):\n",
            " #   Column                     Non-Null Count  Dtype  \n",
            "---  ------                     --------------  -----  \n",
            " 0   Item_Identifier            8523 non-null   object \n",
            " 1   Item_Weight                8523 non-null   float64\n",
            " 2   Item_Fat_Content           8523 non-null   object \n",
            " 3   Item_Visibility            8523 non-null   float64\n",
            " 4   Item_Type                  8523 non-null   object \n",
            " 5   Item_MRP                   8523 non-null   float64\n",
            " 6   Outlet_Identifier          8523 non-null   object \n",
            " 7   Outlet_Establishment_Year  8523 non-null   int64  \n",
            " 8   Outlet_Location_Type       8523 non-null   object \n",
            " 9   Outlet_Type                8523 non-null   object \n",
            " 10  Item_Outlet_Sales          8523 non-null   float64\n",
            "dtypes: float64(4), int64(1), object(6)\n",
            "memory usage: 732.6+ KB\n"
          ]
        }
      ]
    },
    {
      "cell_type": "code",
      "source": [
        "# Here are some inconsistencies I need to fix with Low Fat and Regular\n",
        "\n",
        "df['Item_Fat_Content'].value_counts()"
      ],
      "metadata": {
        "id": "zx_53N_ZylGz",
        "outputId": "08790c2b-a992-49fd-863e-a3ece37f8979",
        "colab": {
          "base_uri": "https://localhost:8080/"
        }
      },
      "execution_count": null,
      "outputs": [
        {
          "output_type": "execute_result",
          "data": {
            "text/plain": [
              "Low Fat    5089\n",
              "Regular    2889\n",
              "LF          316\n",
              "reg         117\n",
              "low fat     112\n",
              "Name: Item_Fat_Content, dtype: int64"
            ]
          },
          "metadata": {},
          "execution_count": 209
        }
      ]
    },
    {
      "cell_type": "code",
      "source": [
        "# This will replace the LF and low fat to both Low Fat, and reg to Regular\n",
        "\n",
        "df['Item_Fat_Content'].replace({'LF': 'Low Fat', 'reg': 'Regular', 'low fat': 'Low Fat'}, inplace=True)\n",
        "df['Item_Fat_Content'].value_counts()"
      ],
      "metadata": {
        "id": "jBVaJbky0DmR",
        "outputId": "09bbfd51-b2d3-4345-c1c2-5dc124c522d4",
        "colab": {
          "base_uri": "https://localhost:8080/"
        }
      },
      "execution_count": null,
      "outputs": [
        {
          "output_type": "execute_result",
          "data": {
            "text/plain": [
              "Low Fat    5517\n",
              "Regular    3006\n",
              "Name: Item_Fat_Content, dtype: int64"
            ]
          },
          "metadata": {},
          "execution_count": 210
        }
      ]
    },
    {
      "cell_type": "code",
      "source": [
        "# No changes need to be made\n",
        "\n",
        "df['Item_Type'].value_counts()"
      ],
      "metadata": {
        "id": "RdQiYBCN2hQb",
        "outputId": "ebb0fc3b-7322-4c90-f826-60e02df39075",
        "colab": {
          "base_uri": "https://localhost:8080/"
        }
      },
      "execution_count": null,
      "outputs": [
        {
          "output_type": "execute_result",
          "data": {
            "text/plain": [
              "Fruits and Vegetables    1232\n",
              "Snack Foods              1200\n",
              "Household                 910\n",
              "Frozen Foods              856\n",
              "Dairy                     682\n",
              "Canned                    649\n",
              "Baking Goods              648\n",
              "Health and Hygiene        520\n",
              "Soft Drinks               445\n",
              "Meat                      425\n",
              "Breads                    251\n",
              "Hard Drinks               214\n",
              "Others                    169\n",
              "Starchy Foods             148\n",
              "Breakfast                 110\n",
              "Seafood                    64\n",
              "Name: Item_Type, dtype: int64"
            ]
          },
          "metadata": {},
          "execution_count": 211
        }
      ]
    },
    {
      "cell_type": "code",
      "source": [
        "# No changes need to be made\n",
        "\n",
        "df['Outlet_Location_Type'].value_counts()"
      ],
      "metadata": {
        "id": "EU21bavR2ug3",
        "outputId": "09244c6e-8c11-4624-fc12-2ba50f64cdba",
        "colab": {
          "base_uri": "https://localhost:8080/"
        }
      },
      "execution_count": null,
      "outputs": [
        {
          "output_type": "execute_result",
          "data": {
            "text/plain": [
              "Tier 3    3350\n",
              "Tier 2    2785\n",
              "Tier 1    2388\n",
              "Name: Outlet_Location_Type, dtype: int64"
            ]
          },
          "metadata": {},
          "execution_count": 212
        }
      ]
    },
    {
      "cell_type": "code",
      "source": [
        "# No changes need to be made\n",
        "\n",
        "df['Outlet_Location_Type'].value_counts()"
      ],
      "metadata": {
        "id": "yZt3UE732xJZ",
        "outputId": "fb82761c-573b-4f1c-b9f8-a9599d571e3a",
        "colab": {
          "base_uri": "https://localhost:8080/"
        }
      },
      "execution_count": null,
      "outputs": [
        {
          "output_type": "execute_result",
          "data": {
            "text/plain": [
              "Tier 3    3350\n",
              "Tier 2    2785\n",
              "Tier 1    2388\n",
              "Name: Outlet_Location_Type, dtype: int64"
            ]
          },
          "metadata": {},
          "execution_count": 213
        }
      ]
    },
    {
      "cell_type": "code",
      "source": [
        "# No changes need to be made\n",
        "\n",
        "df['Outlet_Type'].value_counts()"
      ],
      "metadata": {
        "id": "IrwQqguL26QJ",
        "outputId": "867ce23f-95ed-46ac-e2a0-3fd3295e68bc",
        "colab": {
          "base_uri": "https://localhost:8080/"
        }
      },
      "execution_count": null,
      "outputs": [
        {
          "output_type": "execute_result",
          "data": {
            "text/plain": [
              "Supermarket Type1    5577\n",
              "Grocery Store        1083\n",
              "Supermarket Type3     935\n",
              "Supermarket Type2     928\n",
              "Name: Outlet_Type, dtype: int64"
            ]
          },
          "metadata": {},
          "execution_count": 214
        }
      ]
    },
    {
      "cell_type": "markdown",
      "source": [
        "## For any numerical columns, obtain the summary statistics of each (min, max, mean)\n",
        "\n",
        "- There numerical columns we will explore are:\n",
        "1.   Item_Weight\n",
        "2.   Item_Visibility\n",
        "3.   Item_MRP\n",
        "4.   Item_Outlet_Sales"
      ],
      "metadata": {
        "id": "RTAmXcDyGCIu"
      }
    },
    {
      "cell_type": "code",
      "source": [
        "# Item_Weight summary statistics\n",
        "df['Item_Weight'].describe()"
      ],
      "metadata": {
        "colab": {
          "base_uri": "https://localhost:8080/"
        },
        "id": "e5XmgDplGlSc",
        "outputId": "97c8ef07-16f9-4559-ed52-31f1eac44db1"
      },
      "execution_count": null,
      "outputs": [
        {
          "output_type": "execute_result",
          "data": {
            "text/plain": [
              "count    8523.000000\n",
              "mean       12.857645\n",
              "std         4.226124\n",
              "min         4.555000\n",
              "25%         9.310000\n",
              "50%        12.857645\n",
              "75%        16.000000\n",
              "max        21.350000\n",
              "Name: Item_Weight, dtype: float64"
            ]
          },
          "metadata": {},
          "execution_count": 215
        }
      ]
    },
    {
      "cell_type": "markdown",
      "source": [
        "## Summary Statistics for 'Item_Weight'\n",
        "- min = 4.55\n",
        "- max = 21.35\n",
        "- mean = 12.86"
      ],
      "metadata": {
        "id": "av0Vs_xRH30X"
      }
    },
    {
      "cell_type": "code",
      "source": [
        "# Item_Visibility summary statistics\n",
        "df['Item_Visibility'].describe()"
      ],
      "metadata": {
        "colab": {
          "base_uri": "https://localhost:8080/"
        },
        "id": "hEBwyVFXGuaU",
        "outputId": "bad7a7aa-012c-45a7-d4e6-0fe03978338d"
      },
      "execution_count": null,
      "outputs": [
        {
          "output_type": "execute_result",
          "data": {
            "text/plain": [
              "count    8523.000000\n",
              "mean        0.066132\n",
              "std         0.051598\n",
              "min         0.000000\n",
              "25%         0.026989\n",
              "50%         0.053931\n",
              "75%         0.094585\n",
              "max         0.328391\n",
              "Name: Item_Visibility, dtype: float64"
            ]
          },
          "metadata": {},
          "execution_count": 216
        }
      ]
    },
    {
      "cell_type": "markdown",
      "source": [
        "## Summary Statistics for 'Item_Visibility'\n",
        "- min = 0\n",
        "- max = 0.33\n",
        "- mean = 0.07"
      ],
      "metadata": {
        "id": "96RiRznDH_gS"
      }
    },
    {
      "cell_type": "code",
      "source": [
        "# Item_MRP summary statistics\n",
        "df['Item_MRP'].describe()"
      ],
      "metadata": {
        "colab": {
          "base_uri": "https://localhost:8080/"
        },
        "id": "NMnGpgmUG0J5",
        "outputId": "743adfb2-6e69-472a-effd-c855b84effde"
      },
      "execution_count": null,
      "outputs": [
        {
          "output_type": "execute_result",
          "data": {
            "text/plain": [
              "count    8523.000000\n",
              "mean      140.992782\n",
              "std        62.275067\n",
              "min        31.290000\n",
              "25%        93.826500\n",
              "50%       143.012800\n",
              "75%       185.643700\n",
              "max       266.888400\n",
              "Name: Item_MRP, dtype: float64"
            ]
          },
          "metadata": {},
          "execution_count": 217
        }
      ]
    },
    {
      "cell_type": "markdown",
      "source": [
        "## Summary Statistics for 'Item_MRP'\n",
        "- min = 31.29\n",
        "- max = 266.89\n",
        "- mean = 140.99"
      ],
      "metadata": {
        "id": "mNzKO6MmIAWD"
      }
    },
    {
      "cell_type": "code",
      "source": [
        "# Outlet_Establishment_Year summary statistics\n",
        "df['Outlet_Establishment_Year'].describe()"
      ],
      "metadata": {
        "colab": {
          "base_uri": "https://localhost:8080/"
        },
        "id": "NJ1TsV9kHHUF",
        "outputId": "243f6b98-fd18-4efa-ff3e-b032ef5811c3"
      },
      "execution_count": null,
      "outputs": [
        {
          "output_type": "execute_result",
          "data": {
            "text/plain": [
              "count    8523.000000\n",
              "mean     1997.831867\n",
              "std         8.371760\n",
              "min      1985.000000\n",
              "25%      1987.000000\n",
              "50%      1999.000000\n",
              "75%      2004.000000\n",
              "max      2009.000000\n",
              "Name: Outlet_Establishment_Year, dtype: float64"
            ]
          },
          "metadata": {},
          "execution_count": 218
        }
      ]
    },
    {
      "cell_type": "markdown",
      "source": [
        "## Summary Statistics for 'Outlet_Establishment_Year'\n",
        "- min = 1985\n",
        "- max = 2009\n",
        "- mean = 1997"
      ],
      "metadata": {
        "id": "dt6UJBYGIBD-"
      }
    },
    {
      "cell_type": "code",
      "source": [
        "# Item_Outlet_Sales summary statistics\n",
        "df['Item_Outlet_Sales'].describe()"
      ],
      "metadata": {
        "colab": {
          "base_uri": "https://localhost:8080/"
        },
        "id": "MbwsaIazHNfY",
        "outputId": "bc6aca2e-8143-4df1-9c82-761fe82be3d2"
      },
      "execution_count": null,
      "outputs": [
        {
          "output_type": "execute_result",
          "data": {
            "text/plain": [
              "count     8523.000000\n",
              "mean      2181.288914\n",
              "std       1706.499616\n",
              "min         33.290000\n",
              "25%        834.247400\n",
              "50%       1794.331000\n",
              "75%       3101.296400\n",
              "max      13086.964800\n",
              "Name: Item_Outlet_Sales, dtype: float64"
            ]
          },
          "metadata": {},
          "execution_count": 219
        }
      ]
    },
    {
      "cell_type": "markdown",
      "source": [
        "## Summary Statistics for 'Item_Outlet_Sales'\n",
        "- min = 33.29\n",
        "- max = 13,086.96\n",
        "- mean = 2181.29"
      ],
      "metadata": {
        "id": "fiNXrqj7ICKr"
      }
    },
    {
      "cell_type": "markdown",
      "source": [
        "## Plot histograms of the following:\n",
        "1. Item Weight\n",
        "2. Item Visibility\n",
        "3. Item MRP\n",
        "4. Item Outlet Sales."
      ],
      "metadata": {
        "id": "iUtDhmsrdKdu"
      }
    },
    {
      "cell_type": "code",
      "source": [
        "# Histogram for Item Weight\n",
        "\n",
        "x = df['Item_Weight']\n",
        "y = [0,2,4,6,8,10,12,14,16,18,20,22,24]\n",
        "\n",
        "plt.style.use('seaborn')\n",
        "plt.hist(x,y,ec='black', lw=1, fc=(0,0,1,1))\n",
        "\n",
        "plt.xlabel('Item Weight')\n",
        "plt.ylabel('Count')\n",
        "plt.title('Item Weight')\n",
        "plt.xticks(y)\n",
        "plt.show()"
      ],
      "metadata": {
        "colab": {
          "base_uri": "https://localhost:8080/",
          "height": 376
        },
        "id": "fnNddPkjbYb9",
        "outputId": "f5a334c4-7e88-4162-b59f-f8dcdd54515f"
      },
      "execution_count": null,
      "outputs": [
        {
          "output_type": "display_data",
          "data": {
            "text/plain": [
              "<Figure size 576x396 with 1 Axes>"
            ],
            "image/png": "[encoded data removed]"
          },
          "metadata": {}
        }
      ]
    },
    {
      "cell_type": "markdown",
      "source": [
        "## Initial Analysis\n",
        "\n",
        "- Center - The item weight is centered around 13.\n",
        "\n",
        "- Shape - The item weight data is unimodal and symmetrical.\n",
        "\n",
        "- Spread - The item weight data spans from 4 to 22.\n",
        "\n",
        "- Anything Unusual - This graph has a large spike around 13. This is due to the\n",
        "missing data from this column being filled in with the mean value."
      ],
      "metadata": {
        "id": "W1ywFpUhju3x"
      }
    },
    {
      "cell_type": "code",
      "source": [
        "# Histogram for Item Visibility\n",
        "\n",
        "x = df['Item_Visibility']\n",
        "y = [0,0.06,0.11,0.16,0.21,0.26,0.31,0.36]\n",
        "\n",
        "plt.style.use('seaborn')\n",
        "plt.hist(x,y,ec='black', lw=1, fc=(0,0,1,1))\n",
        "\n",
        "plt.xlabel('Item Visibility')\n",
        "plt.ylabel('Count')\n",
        "plt.title('Item Visibility')\n",
        "plt.xticks(y)\n",
        "plt.show()\n",
        "\n",
        "# Because the histogram is skewed, I will look at the boxplot\n",
        "plt.boxplot(df['Item_Visibility']);"
      ],
      "metadata": {
        "colab": {
          "base_uri": "https://localhost:8080/",
          "height": 706
        },
        "id": "F9jLsfrNeUkg",
        "outputId": "1d01c7ef-5594-4f15-8327-1d76945a7121"
      },
      "execution_count": null,
      "outputs": [
        {
          "output_type": "display_data",
          "data": {
            "text/plain": [
              "<Figure size 576x396 with 1 Axes>"
            ],
            "image/png": "[encoded data removed]"
          },
          "metadata": {}
        },
        {
          "output_type": "display_data",
          "data": {
            "text/plain": [
              "<Figure size 576x396 with 1 Axes>"
            ],
            "image/png": "[encoded data removed]"
          },
          "metadata": {}
        }
      ]
    },
    {
      "cell_type": "markdown",
      "source": [
        "## Initial Analysis\n",
        "\n",
        "- Center - The item visibility data is centered is around 0.05.\n",
        "\n",
        "- Shape - The item visibility data is skewed to the right.\n",
        "\n",
        "- Spread - The item visibility data is primarily spread from 0 to 0.2. However, there are some outliers above 0.2 and below 0.35.\n",
        "\n",
        "- Anything Unusual - There are a number of outliers in this data set that are above the upper fence (which is around 0.2)."
      ],
      "metadata": {
        "id": "7OsfK6a3kMqW"
      }
    },
    {
      "cell_type": "code",
      "source": [
        "# Histogram for Item MRP\n",
        "\n",
        "x = df['Item_MRP']\n",
        "y = [0,25,50,75,100,125,150,175,200,225,250,275,300]\n",
        "     \n",
        "plt.style.use('seaborn')\n",
        "plt.hist(x,y,ec='black', lw=1, fc=(0,0,1,1))\n",
        "\n",
        "plt.xlabel('Item MRP')\n",
        "plt.ylabel('Count')\n",
        "plt.title('Item MRP')\n",
        "plt.xticks(y)\n",
        "plt.show()"
      ],
      "metadata": {
        "colab": {
          "base_uri": "https://localhost:8080/",
          "height": 376
        },
        "id": "C8HCBcuhezNQ",
        "outputId": "1388a580-621b-4765-bdf1-fc37c6f10a85"
      },
      "execution_count": null,
      "outputs": [
        {
          "output_type": "display_data",
          "data": {
            "text/plain": [
              "<Figure size 576x396 with 1 Axes>"
            ],
            "image/png": "[encoded data removed]"
          },
          "metadata": {}
        }
      ]
    },
    {
      "cell_type": "markdown",
      "source": [
        "## Initial Analysis\n",
        "\n",
        "- Center - The center of the Item MRP data is around 150.\n",
        "\n",
        "- Shape - The Item MRP data is fairly unimodal and symmetrical.\n",
        "\n",
        "- Spread - The Item MRP data spans from 25 to 275.\n",
        "\n",
        "- Anything Unusual - The data is fairly unimodal; however, the data could be interpretted to actually be multimodal. This data might be looked at in 3 sections, 25-125, 125-200, and 200-275. More data would need to be collected to make a better determination."
      ],
      "metadata": {
        "id": "8B6yrdxYkNcl"
      }
    },
    {
      "cell_type": "code",
      "source": [
        "# Histogram for Item Visibility\n",
        "\n",
        "x = df['Item_Outlet_Sales']\n",
        "y = [0,1000,2000,3000,4000,5000,6000,7000,8000,9000,10000,11000,12000,13000,14000]\n",
        "\n",
        "plt.style.use('seaborn')\n",
        "plt.hist(x,y,ec='black', lw=1, fc=(0,0,1,1))\n",
        "\n",
        "plt.xlabel('Item Outlet Sales')\n",
        "plt.ylabel('Count')\n",
        "plt.title('Item Outlet Sales')\n",
        "plt.xticks(y)\n",
        "plt.show()\n",
        "\n",
        "# Because the histogram is skewed, I will look at the boxplot\n",
        "plt.boxplot(df['Item_Outlet_Sales']);"
      ],
      "metadata": {
        "colab": {
          "base_uri": "https://localhost:8080/",
          "height": 706
        },
        "id": "K3i3il1mfUmD",
        "outputId": "eeab42fe-d473-4d73-ca7e-468514b4fc1b"
      },
      "execution_count": null,
      "outputs": [
        {
          "output_type": "display_data",
          "data": {
            "text/plain": [
              "<Figure size 576x396 with 1 Axes>"
            ],
            "image/png": "[encoded data removed]"
          },
          "metadata": {}
        },
        {
          "output_type": "display_data",
          "data": {
            "text/plain": [
              "<Figure size 576x396 with 1 Axes>"
            ],
            "image/png": "[encoded data removed]"
          },
          "metadata": {}
        }
      ]
    },
    {
      "cell_type": "markdown",
      "source": [
        "## Initial Analysis\n",
        "\n",
        "- Center - The item outlet sales data is centered around the value of 2000.\n",
        "\n",
        "- Shape - The item outlet sales data is skewed to the right.\n",
        "\n",
        "- Spread - The item outlet sales data spreads from 0 to a little over 6000. However, outliers can be found all the way out past 12,000.\n",
        "\n",
        "- Anything Unusual - The data is very skewed to the right and has a lot of outliers that go out to twice the distance from the minimum value to the upper fence."
      ],
      "metadata": {
        "id": "4i5AP58QkOae"
      }
    },
    {
      "cell_type": "code",
      "source": [
        "# Creating a heat map of the data\n",
        "corr = df.corr()\n",
        "sns.heatmap(corr, cmap = 'Greens', annot = True);"
      ],
      "metadata": {
        "colab": {
          "base_uri": "https://localhost:8080/",
          "height": 462
        },
        "id": "NtipwSWjlDT3",
        "outputId": "266a112e-c369-444e-c9e9-578de1f3d047"
      },
      "execution_count": null,
      "outputs": [
        {
          "output_type": "display_data",
          "data": {
            "text/plain": [
              "<Figure size 576x396 with 2 Axes>"
            ],
            "image/png": "[encoded data removed]"
          },
          "metadata": {}
        }
      ]
    },
    {
      "cell_type": "markdown",
      "source": [
        "## Initial Analysis\n",
        "\n",
        "The data seems to have almost 0 correlation with the exception of the item MRP and the item outlet sales (r = 0.57). More investigation into all of the data sets should be considered, some data might have more of a correlation if spliced into different sections."
      ],
      "metadata": {
        "id": "lk-xXAlrJcDv"
      }
    },
    {
      "cell_type": "code",
      "source": [
        "## functionize the above plot and call it plot_dist\n",
        "def plot_dist(data, x='Item_Outlet_Sales', figsize=(10,5)):\n",
        "  ## Make a larger fig/ax before plotting\n",
        "  fig, ax = plt.subplots(figsize=figsize)\n",
        "\n",
        "  ## Plot histogram\n",
        "  sns.histplot(data=df, x=x, ax=ax)\n",
        "  ax.set(title='Item Outlet Sales Data');\n",
        "\n",
        "  ## Annotate mean and median\n",
        "  mean_price = df[x].mean()\n",
        "  ax.axvline(mean_price, color='slategray', ls=':', lw=3,\n",
        "            label=f'Mean Price = ${mean_price:,.2f}');\n",
        "\n",
        "  med_price = df[x].median()\n",
        "  ax.axvline(med_price, color='skyblue', ls=':', lw=3,\n",
        "            label=f'Median Price = ${med_price:,.2f}');\n",
        "\n",
        "  ax.legend();\n",
        "  return fig, ax"
      ],
      "metadata": {
        "id": "I00NpyaOIhZ8"
      },
      "execution_count": null,
      "outputs": []
    },
    {
      "cell_type": "code",
      "source": [
        "fig, ax = plot_dist(df)"
      ],
      "metadata": {
        "colab": {
          "base_uri": "https://localhost:8080/",
          "height": 349
        },
        "id": "dMtGRUlLIyWQ",
        "outputId": "75a286ac-0998-4262-94b0-d37fb3240b4c"
      },
      "execution_count": null,
      "outputs": [
        {
          "output_type": "display_data",
          "data": {
            "text/plain": [
              "<Figure size 720x360 with 1 Axes>"
            ],
            "image/png": "[encoded data removed]"
          },
          "metadata": {}
        }
      ]
    },
    {
      "cell_type": "markdown",
      "source": [
        "The mean and median have a significant gap. The mean outlet sales are almost $400 more than the median outlet sales. This is due to the data being skewed to the right. When exploring this data more, the median will be the best choice for the middle point of the data."
      ],
      "metadata": {
        "id": "tQHRjj0kLCUB"
      }
    },
    {
      "cell_type": "code",
      "source": [
        "# https://jakevdp.github.io/PythonDataScienceHandbook/04.14-visualization-with-seaborn.html\n",
        "# as reference\n",
        "\n",
        "with sns.axes_style('white'):\n",
        "    sns.jointplot(df['Item_MRP'], df['Item_Outlet_Sales'], data=df, kind='hex');"
      ],
      "metadata": {
        "colab": {
          "base_uri": "https://localhost:8080/",
          "height": 440
        },
        "id": "K8RrfUKtJfYw",
        "outputId": "c33bb7b4-a7e4-49d7-f19f-55bd89cbc66c"
      },
      "execution_count": null,
      "outputs": [
        {
          "output_type": "display_data",
          "data": {
            "text/plain": [
              "<Figure size 432x432 with 3 Axes>"
            ],
            "image/png": "[encoded data removed]"
          },
          "metadata": {}
        }
      ]
    },
    {
      "cell_type": "markdown",
      "source": [
        "This graph clearly shows that there are 4 clusters of data. It appears that as the item MRP increase, the outlet sales decreases."
      ],
      "metadata": {
        "id": "5anU50V6J1a3"
      }
    },
    {
      "cell_type": "markdown",
      "source": [
        "## Outlet Type Comparison"
      ],
      "metadata": {
        "id": "X9w9mXrchisz"
      }
    },
    {
      "cell_type": "code",
      "source": [
        "df['Outlet_Type']"
      ],
      "metadata": {
        "colab": {
          "base_uri": "https://localhost:8080/"
        },
        "id": "14Tny_M0hmL0",
        "outputId": "53344cf7-5dd4-4cb1-9041-87400e5a265e"
      },
      "execution_count": null,
      "outputs": [
        {
          "output_type": "execute_result",
          "data": {
            "text/plain": [
              "0       Supermarket Type1\n",
              "1       Supermarket Type2\n",
              "2       Supermarket Type1\n",
              "3           Grocery Store\n",
              "4       Supermarket Type1\n",
              "              ...        \n",
              "8518    Supermarket Type1\n",
              "8519    Supermarket Type1\n",
              "8520    Supermarket Type1\n",
              "8521    Supermarket Type2\n",
              "8522    Supermarket Type1\n",
              "Name: Outlet_Type, Length: 8523, dtype: object"
            ]
          },
          "metadata": {},
          "execution_count": 228
        }
      ]
    },
    {
      "cell_type": "code",
      "source": [
        "market_filter = df['Outlet_Type'].value_counts()"
      ],
      "metadata": {
        "id": "ci8YFwa8ibF_"
      },
      "execution_count": null,
      "outputs": []
    },
    {
      "cell_type": "code",
      "source": [
        "outlet_labels = df['Outlet_Type'].unique()"
      ],
      "metadata": {
        "id": "5AyRzWnOosBE"
      },
      "execution_count": null,
      "outputs": []
    },
    {
      "cell_type": "code",
      "source": [
        "# https://matplotlib.org/stable/gallery/pie_and_polar_charts/pie_and_donut_labels.html\n",
        "# as reference\n",
        "fig, ax = plt.subplots(figsize=(10, 5), subplot_kw=dict(aspect=\"equal\"))\n",
        "\n",
        "def func(pct, allvals):\n",
        "    absolute = int(np.round(pct/100.*np.sum(allvals)))\n",
        "    return \"{:.1f}%\\n({:d})\".format(pct, absolute)\n",
        "\n",
        "\n",
        "wedges, texts, autotexts = ax.pie(market_filter, autopct=lambda pct: func(pct, market_filter),\n",
        "                                  textprops=dict(color=\"w\"), radius = 1)\n",
        "\n",
        "ax.legend(wedges, outlet_labels,\n",
        "          title=\"Outlet Types\",\n",
        "          loc=\"center left\",\n",
        "          bbox_to_anchor=(1, 0, 0.5, 1))\n",
        "\n",
        "plt.setp(autotexts, size=12, weight=\"bold\")\n",
        "\n",
        "ax.set_title(\"Comparing the Amount of Outlet Types\")\n",
        "\n",
        "plt.show()"
      ],
      "metadata": {
        "colab": {
          "base_uri": "https://localhost:8080/",
          "height": 318
        },
        "id": "4RP6-qY1Kypc",
        "outputId": "160867c7-6783-4415-c575-f480609aac4f"
      },
      "execution_count": null,
      "outputs": [
        {
          "output_type": "display_data",
          "data": {
            "text/plain": [
              "<Figure size 720x360 with 1 Axes>"
            ],
            "image/png": "[encoded data removed]"
          },
          "metadata": {}
        }
      ]
    },
    {
      "cell_type": "markdown",
      "source": [
        "The most common type of outlet is Supermarket Type 1. The other outlet types are all fairly similar in quantity."
      ],
      "metadata": {
        "id": "DjaTpT_ZqRFR"
      }
    },
    {
      "cell_type": "markdown",
      "source": [
        "# Data Prep for Machine Learning"
      ],
      "metadata": {
        "id": "2BAuILOFY_IG"
      }
    },
    {
      "cell_type": "code",
      "source": [
        "df_ml = pd.read_csv(filename)\n",
        "df_ml"
      ],
      "metadata": {
        "id": "Ik1wmnumY-nt",
        "colab": {
          "base_uri": "https://localhost:8080/",
          "height": 424
        },
        "outputId": "ef1d1237-52b9-46eb-ac1d-10d9eb878a69"
      },
      "execution_count": null,
      "outputs": [
        {
          "output_type": "execute_result",
          "data": {
            "text/plain": [
              "     Item_Identifier  Item_Weight Item_Fat_Content  Item_Visibility  \\\n",
              "0              FDA15        9.300          Low Fat         0.016047   \n",
              "1              DRC01        5.920          Regular         0.019278   \n",
              "2              FDN15       17.500          Low Fat         0.016760   \n",
              "3              FDX07       19.200          Regular         0.000000   \n",
              "4              NCD19        8.930          Low Fat         0.000000   \n",
              "...              ...          ...              ...              ...   \n",
              "8518           FDF22        6.865          Low Fat         0.056783   \n",
              "8519           FDS36        8.380          Regular         0.046982   \n",
              "8520           NCJ29       10.600          Low Fat         0.035186   \n",
              "8521           FDN46        7.210          Regular         0.145221   \n",
              "8522           DRG01       14.800          Low Fat         0.044878   \n",
              "\n",
              "                  Item_Type  Item_MRP Outlet_Identifier  \\\n",
              "0                     Dairy  249.8092            OUT049   \n",
              "1               Soft Drinks   48.2692            OUT018   \n",
              "2                      Meat  141.6180            OUT049   \n",
              "3     Fruits and Vegetables  182.0950            OUT010   \n",
              "4                 Household   53.8614            OUT013   \n",
              "...                     ...       ...               ...   \n",
              "8518            Snack Foods  214.5218            OUT013   \n",
              "8519           Baking Goods  108.1570            OUT045   \n",
              "8520     Health and Hygiene   85.1224            OUT035   \n",
              "8521            Snack Foods  103.1332            OUT018   \n",
              "8522            Soft Drinks   75.4670            OUT046   \n",
              "\n",
              "      Outlet_Establishment_Year Outlet_Size Outlet_Location_Type  \\\n",
              "0                          1999      Medium               Tier 1   \n",
              "1                          2009      Medium               Tier 3   \n",
              "2                          1999      Medium               Tier 1   \n",
              "3                          1998         NaN               Tier 3   \n",
              "4                          1987        High               Tier 3   \n",
              "...                         ...         ...                  ...   \n",
              "8518                       1987        High               Tier 3   \n",
              "8519                       2002         NaN               Tier 2   \n",
              "8520                       2004       Small               Tier 2   \n",
              "8521                       2009      Medium               Tier 3   \n",
              "8522                       1997       Small               Tier 1   \n",
              "\n",
              "            Outlet_Type  Item_Outlet_Sales  \n",
              "0     Supermarket Type1          3735.1380  \n",
              "1     Supermarket Type2           443.4228  \n",
              "2     Supermarket Type1          2097.2700  \n",
              "3         Grocery Store           732.3800  \n",
              "4     Supermarket Type1           994.7052  \n",
              "...                 ...                ...  \n",
              "8518  Supermarket Type1          2778.3834  \n",
              "8519  Supermarket Type1           549.2850  \n",
              "8520  Supermarket Type1          1193.1136  \n",
              "8521  Supermarket Type2          1845.5976  \n",
              "8522  Supermarket Type1           765.6700  \n",
              "\n",
              "[8523 rows x 12 columns]"
            ],
            "text/html": [
              "\n",
              "  <div id=\"df-c3cc1b57-288b-44e7-90c2-c87713b790c6\">\n",
              "    <div class=\"colab-df-container\">\n",
              "      <div>\n",
              "<style scoped>\n",
              "    .dataframe tbody tr th:only-of-type {\n",
              "        vertical-align: middle;\n",
              "    }\n",
              "\n",
              "    .dataframe tbody tr th {\n",
              "        vertical-align: top;\n",
              "    }\n",
              "\n",
              "    .dataframe thead th {\n",
              "        text-align: right;\n",
              "    }\n",
              "</style>\n",
              "<table border=\"1\" class=\"dataframe\">\n",
              "  <thead>\n",
              "    <tr style=\"text-align: right;\">\n",
              "      <th></th>\n",
              "      <th>Item_Identifier</th>\n",
              "      <th>Item_Weight</th>\n",
              "      <th>Item_Fat_Content</th>\n",
              "      <th>Item_Visibility</th>\n",
              "      <th>Item_Type</th>\n",
              "      <th>Item_MRP</th>\n",
              "      <th>Outlet_Identifier</th>\n",
              "      <th>Outlet_Establishment_Year</th>\n",
              "      <th>Outlet_Size</th>\n",
              "      <th>Outlet_Location_Type</th>\n",
              "      <th>Outlet_Type</th>\n",
              "      <th>Item_Outlet_Sales</th>\n",
              "    </tr>\n",
              "  </thead>\n",
              "  <tbody>\n",
              "    <tr>\n",
              "      <th>0</th>\n",
              "      <td>FDA15</td>\n",
              "      <td>9.300</td>\n",
              "      <td>Low Fat</td>\n",
              "      <td>0.016047</td>\n",
              "      <td>Dairy</td>\n",
              "      <td>249.8092</td>\n",
              "      <td>OUT049</td>\n",
              "      <td>1999</td>\n",
              "      <td>Medium</td>\n",
              "      <td>Tier 1</td>\n",
              "      <td>Supermarket Type1</td>\n",
              "      <td>3735.1380</td>\n",
              "    </tr>\n",
              "    <tr>\n",
              "      <th>1</th>\n",
              "      <td>DRC01</td>\n",
              "      <td>5.920</td>\n",
              "      <td>Regular</td>\n",
              "      <td>0.019278</td>\n",
              "      <td>Soft Drinks</td>\n",
              "      <td>48.2692</td>\n",
              "      <td>OUT018</td>\n",
              "      <td>2009</td>\n",
              "      <td>Medium</td>\n",
              "      <td>Tier 3</td>\n",
              "      <td>Supermarket Type2</td>\n",
              "      <td>443.4228</td>\n",
              "    </tr>\n",
              "    <tr>\n",
              "      <th>2</th>\n",
              "      <td>FDN15</td>\n",
              "      <td>17.500</td>\n",
              "      <td>Low Fat</td>\n",
              "      <td>0.016760</td>\n",
              "      <td>Meat</td>\n",
              "      <td>141.6180</td>\n",
              "      <td>OUT049</td>\n",
              "      <td>1999</td>\n",
              "      <td>Medium</td>\n",
              "      <td>Tier 1</td>\n",
              "      <td>Supermarket Type1</td>\n",
              "      <td>2097.2700</td>\n",
              "    </tr>\n",
              "    <tr>\n",
              "      <th>3</th>\n",
              "      <td>FDX07</td>\n",
              "      <td>19.200</td>\n",
              "      <td>Regular</td>\n",
              "      <td>0.000000</td>\n",
              "      <td>Fruits and Vegetables</td>\n",
              "      <td>182.0950</td>\n",
              "      <td>OUT010</td>\n",
              "      <td>1998</td>\n",
              "      <td>NaN</td>\n",
              "      <td>Tier 3</td>\n",
              "      <td>Grocery Store</td>\n",
              "      <td>732.3800</td>\n",
              "    </tr>\n",
              "    <tr>\n",
              "      <th>4</th>\n",
              "      <td>NCD19</td>\n",
              "      <td>8.930</td>\n",
              "      <td>Low Fat</td>\n",
              "      <td>0.000000</td>\n",
              "      <td>Household</td>\n",
              "      <td>53.8614</td>\n",
              "      <td>OUT013</td>\n",
              "      <td>1987</td>\n",
              "      <td>High</td>\n",
              "      <td>Tier 3</td>\n",
              "      <td>Supermarket Type1</td>\n",
              "      <td>994.7052</td>\n",
              "    </tr>\n",
              "    <tr>\n",
              "      <th>...</th>\n",
              "      <td>...</td>\n",
              "      <td>...</td>\n",
              "      <td>...</td>\n",
              "      <td>...</td>\n",
              "      <td>...</td>\n",
              "      <td>...</td>\n",
              "      <td>...</td>\n",
              "      <td>...</td>\n",
              "      <td>...</td>\n",
              "      <td>...</td>\n",
              "      <td>...</td>\n",
              "      <td>...</td>\n",
              "    </tr>\n",
              "    <tr>\n",
              "      <th>8518</th>\n",
              "      <td>FDF22</td>\n",
              "      <td>6.865</td>\n",
              "      <td>Low Fat</td>\n",
              "      <td>0.056783</td>\n",
              "      <td>Snack Foods</td>\n",
              "      <td>214.5218</td>\n",
              "      <td>OUT013</td>\n",
              "      <td>1987</td>\n",
              "      <td>High</td>\n",
              "      <td>Tier 3</td>\n",
              "      <td>Supermarket Type1</td>\n",
              "      <td>2778.3834</td>\n",
              "    </tr>\n",
              "    <tr>\n",
              "      <th>8519</th>\n",
              "      <td>FDS36</td>\n",
              "      <td>8.380</td>\n",
              "      <td>Regular</td>\n",
              "      <td>0.046982</td>\n",
              "      <td>Baking Goods</td>\n",
              "      <td>108.1570</td>\n",
              "      <td>OUT045</td>\n",
              "      <td>2002</td>\n",
              "      <td>NaN</td>\n",
              "      <td>Tier 2</td>\n",
              "      <td>Supermarket Type1</td>\n",
              "      <td>549.2850</td>\n",
              "    </tr>\n",
              "    <tr>\n",
              "      <th>8520</th>\n",
              "      <td>NCJ29</td>\n",
              "      <td>10.600</td>\n",
              "      <td>Low Fat</td>\n",
              "      <td>0.035186</td>\n",
              "      <td>Health and Hygiene</td>\n",
              "      <td>85.1224</td>\n",
              "      <td>OUT035</td>\n",
              "      <td>2004</td>\n",
              "      <td>Small</td>\n",
              "      <td>Tier 2</td>\n",
              "      <td>Supermarket Type1</td>\n",
              "      <td>1193.1136</td>\n",
              "    </tr>\n",
              "    <tr>\n",
              "      <th>8521</th>\n",
              "      <td>FDN46</td>\n",
              "      <td>7.210</td>\n",
              "      <td>Regular</td>\n",
              "      <td>0.145221</td>\n",
              "      <td>Snack Foods</td>\n",
              "      <td>103.1332</td>\n",
              "      <td>OUT018</td>\n",
              "      <td>2009</td>\n",
              "      <td>Medium</td>\n",
              "      <td>Tier 3</td>\n",
              "      <td>Supermarket Type2</td>\n",
              "      <td>1845.5976</td>\n",
              "    </tr>\n",
              "    <tr>\n",
              "      <th>8522</th>\n",
              "      <td>DRG01</td>\n",
              "      <td>14.800</td>\n",
              "      <td>Low Fat</td>\n",
              "      <td>0.044878</td>\n",
              "      <td>Soft Drinks</td>\n",
              "      <td>75.4670</td>\n",
              "      <td>OUT046</td>\n",
              "      <td>1997</td>\n",
              "      <td>Small</td>\n",
              "      <td>Tier 1</td>\n",
              "      <td>Supermarket Type1</td>\n",
              "      <td>765.6700</td>\n",
              "    </tr>\n",
              "  </tbody>\n",
              "</table>\n",
              "<p>8523 rows × 12 columns</p>\n",
              "</div>\n",
              "      <button class=\"colab-df-convert\" onclick=\"convertToInteractive('df-c3cc1b57-288b-44e7-90c2-c87713b790c6')\"\n",
              "              title=\"Convert this dataframe to an interactive table.\"\n",
              "              style=\"display:none;\">\n",
              "        \n",
              "  <svg xmlns=\"http://www.w3.org/2000/svg\" height=\"24px\"viewBox=\"0 0 24 24\"\n",
              "       width=\"24px\">\n",
              "    <path d=\"M0 0h24v24H0V0z\" fill=\"none\"/>\n",
              "    <path d=\"M18.56 5.44l.94 2.06.94-2.06 2.06-.94-2.06-.94-.94-2.06-.94 2.06-2.06.94zm-11 1L8.5 8.5l.94-2.06 2.06-.94-2.06-.94L8.5 2.5l-.94 2.06-2.06.94zm10 10l.94 2.06.94-2.06 2.06-.94-2.06-.94-.94-2.06-.94 2.06-2.06.94z\"/><path d=\"M17.41 7.96l-1.37-1.37c-.4-.4-.92-.59-1.43-.59-.52 0-1.04.2-1.43.59L10.3 9.45l-7.72 7.72c-.78.78-.78 2.05 0 2.83L4 21.41c.39.39.9.59 1.41.59.51 0 1.02-.2 1.41-.59l7.78-7.78 2.81-2.81c.8-.78.8-2.07 0-2.86zM5.41 20L4 18.59l7.72-7.72 1.47 1.35L5.41 20z\"/>\n",
              "  </svg>\n",
              "      </button>\n",
              "      \n",
              "  <style>\n",
              "    .colab-df-container {\n",
              "      display:flex;\n",
              "      flex-wrap:wrap;\n",
              "      gap: 12px;\n",
              "    }\n",
              "\n",
              "    .colab-df-convert {\n",
              "      background-color: #E8F0FE;\n",
              "      border: none;\n",
              "      border-radius: 50%;\n",
              "      cursor: pointer;\n",
              "      display: none;\n",
              "      fill: #1967D2;\n",
              "      height: 32px;\n",
              "      padding: 0 0 0 0;\n",
              "      width: 32px;\n",
              "    }\n",
              "\n",
              "    .colab-df-convert:hover {\n",
              "      background-color: #E2EBFA;\n",
              "      box-shadow: 0px 1px 2px rgba(60, 64, 67, 0.3), 0px 1px 3px 1px rgba(60, 64, 67, 0.15);\n",
              "      fill: #174EA6;\n",
              "    }\n",
              "\n",
              "    [theme=dark] .colab-df-convert {\n",
              "      background-color: #3B4455;\n",
              "      fill: #D2E3FC;\n",
              "    }\n",
              "\n",
              "    [theme=dark] .colab-df-convert:hover {\n",
              "      background-color: #434B5C;\n",
              "      box-shadow: 0px 1px 3px 1px rgba(0, 0, 0, 0.15);\n",
              "      filter: drop-shadow(0px 1px 2px rgba(0, 0, 0, 0.3));\n",
              "      fill: #FFFFFF;\n",
              "    }\n",
              "  </style>\n",
              "\n",
              "      <script>\n",
              "        const buttonEl =\n",
              "          document.querySelector('#df-c3cc1b57-288b-44e7-90c2-c87713b790c6 button.colab-df-convert');\n",
              "        buttonEl.style.display =\n",
              "          google.colab.kernel.accessAllowed ? 'block' : 'none';\n",
              "\n",
              "        async function convertToInteractive(key) {\n",
              "          const element = document.querySelector('#df-c3cc1b57-288b-44e7-90c2-c87713b790c6');\n",
              "          const dataTable =\n",
              "            await google.colab.kernel.invokeFunction('convertToInteractive',\n",
              "                                                     [key], {});\n",
              "          if (!dataTable) return;\n",
              "\n",
              "          const docLinkHtml = 'Like what you see? Visit the ' +\n",
              "            '<a target=\"_blank\" href=https://colab.research.google.com/notebooks/data_table.ipynb>data table notebook</a>'\n",
              "            + ' to learn more about interactive tables.';\n",
              "          element.innerHTML = '';\n",
              "          dataTable['output_type'] = 'display_data';\n",
              "          await google.colab.output.renderOutput(dataTable, element);\n",
              "          const docLink = document.createElement('div');\n",
              "          docLink.innerHTML = docLinkHtml;\n",
              "          element.appendChild(docLink);\n",
              "        }\n",
              "      </script>\n",
              "    </div>\n",
              "  </div>\n",
              "  "
            ]
          },
          "metadata": {},
          "execution_count": 232
        }
      ]
    },
    {
      "cell_type": "code",
      "source": [
        "# Check to see if there are any duplicates\n",
        "df_ml.duplicated().sum()"
      ],
      "metadata": {
        "colab": {
          "base_uri": "https://localhost:8080/"
        },
        "id": "4nGDFu0WZ8jT",
        "outputId": "8c4bfc4a-22e3-452a-b51f-e2e6a404265f"
      },
      "execution_count": null,
      "outputs": [
        {
          "output_type": "execute_result",
          "data": {
            "text/plain": [
              "0"
            ]
          },
          "metadata": {},
          "execution_count": 233
        }
      ]
    },
    {
      "cell_type": "code",
      "source": [
        "# Look at the info from the data\n",
        "df_ml.info()"
      ],
      "metadata": {
        "colab": {
          "base_uri": "https://localhost:8080/"
        },
        "id": "6hqRlB6zZ_CG",
        "outputId": "32c4ed16-a1db-4b77-fccf-9b7ec69c659b"
      },
      "execution_count": null,
      "outputs": [
        {
          "output_type": "stream",
          "name": "stdout",
          "text": [
            "<class 'pandas.core.frame.DataFrame'>\n",
            "RangeIndex: 8523 entries, 0 to 8522\n",
            "Data columns (total 12 columns):\n",
            " #   Column                     Non-Null Count  Dtype  \n",
            "---  ------                     --------------  -----  \n",
            " 0   Item_Identifier            8523 non-null   object \n",
            " 1   Item_Weight                7060 non-null   float64\n",
            " 2   Item_Fat_Content           8523 non-null   object \n",
            " 3   Item_Visibility            8523 non-null   float64\n",
            " 4   Item_Type                  8523 non-null   object \n",
            " 5   Item_MRP                   8523 non-null   float64\n",
            " 6   Outlet_Identifier          8523 non-null   object \n",
            " 7   Outlet_Establishment_Year  8523 non-null   int64  \n",
            " 8   Outlet_Size                6113 non-null   object \n",
            " 9   Outlet_Location_Type       8523 non-null   object \n",
            " 10  Outlet_Type                8523 non-null   object \n",
            " 11  Item_Outlet_Sales          8523 non-null   float64\n",
            "dtypes: float64(4), int64(1), object(7)\n",
            "memory usage: 799.2+ KB\n"
          ]
        }
      ]
    },
    {
      "cell_type": "markdown",
      "source": [
        "## Features (numerical, ordinal, or nominal)\n",
        "\n",
        "### numerical\n",
        "Item_Weight, Item_Visibility, Item_MRP, Outlet_Establishment_Year, Item_Outlet_Sales\n",
        "\n",
        "### ordinal\n",
        "Item_Fat_Content, Outlet_Size, Outlet_Location_Type\n",
        "\n",
        "### nominal\n",
        "Item_Type, Outlet_Type"
      ],
      "metadata": {
        "id": "vEBXSWEfZRPq"
      }
    },
    {
      "cell_type": "code",
      "source": [
        "df_ml = df_ml.drop(columns=['Item_Identifier','Outlet_Identifier'])"
      ],
      "metadata": {
        "id": "QBDcvTl1a3uJ"
      },
      "execution_count": null,
      "outputs": []
    },
    {
      "cell_type": "code",
      "source": [
        "for col in df_ml.select_dtypes(include='object').columns:\n",
        "  display(df_ml[col].value_counts())\n",
        "  print('\\n')"
      ],
      "metadata": {
        "colab": {
          "base_uri": "https://localhost:8080/",
          "height": 816
        },
        "id": "Rj9Yz9ymaD9z",
        "outputId": "003da588-783b-4aa2-b403-ab242329e91c"
      },
      "execution_count": null,
      "outputs": [
        {
          "output_type": "display_data",
          "data": {
            "text/plain": [
              "Low Fat    5089\n",
              "Regular    2889\n",
              "LF          316\n",
              "reg         117\n",
              "low fat     112\n",
              "Name: Item_Fat_Content, dtype: int64"
            ]
          },
          "metadata": {}
        },
        {
          "output_type": "stream",
          "name": "stdout",
          "text": [
            "\n",
            "\n"
          ]
        },
        {
          "output_type": "display_data",
          "data": {
            "text/plain": [
              "Fruits and Vegetables    1232\n",
              "Snack Foods              1200\n",
              "Household                 910\n",
              "Frozen Foods              856\n",
              "Dairy                     682\n",
              "Canned                    649\n",
              "Baking Goods              648\n",
              "Health and Hygiene        520\n",
              "Soft Drinks               445\n",
              "Meat                      425\n",
              "Breads                    251\n",
              "Hard Drinks               214\n",
              "Others                    169\n",
              "Starchy Foods             148\n",
              "Breakfast                 110\n",
              "Seafood                    64\n",
              "Name: Item_Type, dtype: int64"
            ]
          },
          "metadata": {}
        },
        {
          "output_type": "stream",
          "name": "stdout",
          "text": [
            "\n",
            "\n"
          ]
        },
        {
          "output_type": "display_data",
          "data": {
            "text/plain": [
              "Medium    2793\n",
              "Small     2388\n",
              "High       932\n",
              "Name: Outlet_Size, dtype: int64"
            ]
          },
          "metadata": {}
        },
        {
          "output_type": "stream",
          "name": "stdout",
          "text": [
            "\n",
            "\n"
          ]
        },
        {
          "output_type": "display_data",
          "data": {
            "text/plain": [
              "Tier 3    3350\n",
              "Tier 2    2785\n",
              "Tier 1    2388\n",
              "Name: Outlet_Location_Type, dtype: int64"
            ]
          },
          "metadata": {}
        },
        {
          "output_type": "stream",
          "name": "stdout",
          "text": [
            "\n",
            "\n"
          ]
        },
        {
          "output_type": "display_data",
          "data": {
            "text/plain": [
              "Supermarket Type1    5577\n",
              "Grocery Store        1083\n",
              "Supermarket Type3     935\n",
              "Supermarket Type2     928\n",
              "Name: Outlet_Type, dtype: int64"
            ]
          },
          "metadata": {}
        },
        {
          "output_type": "stream",
          "name": "stdout",
          "text": [
            "\n",
            "\n"
          ]
        }
      ]
    },
    {
      "cell_type": "code",
      "source": [
        "# This will replace the LF and low fat to both Low Fat, and reg to Regular\n",
        "df_ml['Item_Fat_Content'].replace({'LF': 'Low Fat', 'reg': 'Regular', 'low fat': 'Low Fat'}, inplace=True)\n",
        "df_ml['Item_Fat_Content'].value_counts()"
      ],
      "metadata": {
        "colab": {
          "base_uri": "https://localhost:8080/"
        },
        "id": "nmiOGssdbVRQ",
        "outputId": "749cbea4-4e4a-48de-949f-1b21cdaabc9f"
      },
      "execution_count": null,
      "outputs": [
        {
          "output_type": "execute_result",
          "data": {
            "text/plain": [
              "Low Fat    5517\n",
              "Regular    3006\n",
              "Name: Item_Fat_Content, dtype: int64"
            ]
          },
          "metadata": {},
          "execution_count": 237
        }
      ]
    },
    {
      "cell_type": "code",
      "source": [
        "# Ordinal Encoding 'Item_Fat_Content'\n",
        "replacement_dictionary = {'Low Fat':0, 'Regular':1}\n",
        "df_ml['Item_Fat_Content'].replace(replacement_dictionary, inplace=True)\n",
        "df_ml['Item_Fat_Content']\n",
        "\n",
        "# Ordinal Encoding 'Outlet_Size'\n",
        "replacement_dictionary = {'Small':0, 'Medium':1, 'High':2}\n",
        "df_ml['Outlet_Size'].replace(replacement_dictionary, inplace=True)\n",
        "df_ml['Outlet_Size']\n",
        "\n",
        "# Ordinal Encoding 'Outlet_Location_Type'\n",
        "replacement_dictionary = {'Tier 1':0, 'Tier 2':1, 'Tier 3':2}\n",
        "df_ml['Outlet_Location_Type'].replace(replacement_dictionary, inplace=True)\n",
        "df_ml['Outlet_Location_Type']\n"
      ],
      "metadata": {
        "colab": {
          "base_uri": "https://localhost:8080/"
        },
        "id": "g6Bb-wovYxdv",
        "outputId": "dc28b053-e29e-4588-eab3-43471b682ba5"
      },
      "execution_count": null,
      "outputs": [
        {
          "output_type": "execute_result",
          "data": {
            "text/plain": [
              "0       0\n",
              "1       2\n",
              "2       0\n",
              "3       2\n",
              "4       2\n",
              "       ..\n",
              "8518    2\n",
              "8519    1\n",
              "8520    1\n",
              "8521    2\n",
              "8522    0\n",
              "Name: Outlet_Location_Type, Length: 8523, dtype: int64"
            ]
          },
          "metadata": {},
          "execution_count": 238
        }
      ]
    },
    {
      "cell_type": "code",
      "source": [
        "# split X and y, you are predicting price\n",
        "X = df_ml.drop(columns=['Item_Outlet_Sales'])\n",
        "y = df_ml['Item_Outlet_Sales']\n",
        "\n",
        "# split training and test\n",
        "# set random_state to 42 for reproducibility\n",
        "X_train, X_test, y_train, y_test = train_test_split(X, y, random_state=42)"
      ],
      "metadata": {
        "id": "dLlWsMXrac1y"
      },
      "execution_count": null,
      "outputs": []
    },
    {
      "cell_type": "code",
      "source": [
        "# Selectors\n",
        "cat_selector = make_column_selector(dtype_include='object')\n",
        "num_selector = make_column_selector(dtype_include='number')"
      ],
      "metadata": {
        "id": "QhfMXuMIcZSu"
      },
      "execution_count": null,
      "outputs": []
    },
    {
      "cell_type": "code",
      "source": [
        "# Imputers\n",
        "freq_imputer = SimpleImputer(strategy='most_frequent')\n",
        "mean_imputer = SimpleImputer(strategy='mean')\n",
        "# Scaler\n",
        "scaler = StandardScaler()\n",
        "# One-hot encoder\n",
        "ohe = OneHotEncoder(handle_unknown='ignore', sparse=False)"
      ],
      "metadata": {
        "id": "Q3uMz59XcckG"
      },
      "execution_count": null,
      "outputs": []
    },
    {
      "cell_type": "code",
      "source": [
        "# Numeric pipeline\n",
        "numeric_pipe = make_pipeline(mean_imputer, scaler)\n",
        "numeric_pipe"
      ],
      "metadata": {
        "colab": {
          "base_uri": "https://localhost:8080/",
          "height": 126
        },
        "id": "-GAKe-mDccfr",
        "outputId": "cb47f047-d3db-44ba-a42a-c16df5d54c89"
      },
      "execution_count": null,
      "outputs": [
        {
          "output_type": "execute_result",
          "data": {
            "text/plain": [
              "Pipeline(steps=[('simpleimputer', SimpleImputer()),\n",
              "                ('standardscaler', StandardScaler())])"
            ],
            "text/html": [
              "<style>#sk-8e49ee3a-33e6-43c7-b0ef-28b1e997cf19 {color: black;background-color: white;}#sk-8e49ee3a-33e6-43c7-b0ef-28b1e997cf19 pre{padding: 0;}#sk-8e49ee3a-33e6-43c7-b0ef-28b1e997cf19 div.sk-toggleable {background-color: white;}#sk-8e49ee3a-33e6-43c7-b0ef-28b1e997cf19 label.sk-toggleable__label {cursor: pointer;display: block;width: 100%;margin-bottom: 0;padding: 0.3em;box-sizing: border-box;text-align: center;}#sk-8e49ee3a-33e6-43c7-b0ef-28b1e997cf19 label.sk-toggleable__label-arrow:before {content: \"▸\";float: left;margin-right: 0.25em;color: #696969;}#sk-8e49ee3a-33e6-43c7-b0ef-28b1e997cf19 label.sk-toggleable__label-arrow:hover:before {color: black;}#sk-8e49ee3a-33e6-43c7-b0ef-28b1e997cf19 div.sk-estimator:hover label.sk-toggleable__label-arrow:before {color: black;}#sk-8e49ee3a-33e6-43c7-b0ef-28b1e997cf19 div.sk-toggleable__content {max-height: 0;max-width: 0;overflow: hidden;text-align: left;background-color: #f0f8ff;}#sk-8e49ee3a-33e6-43c7-b0ef-28b1e997cf19 div.sk-toggleable__content pre {margin: 0.2em;color: black;border-radius: 0.25em;background-color: #f0f8ff;}#sk-8e49ee3a-33e6-43c7-b0ef-28b1e997cf19 input.sk-toggleable__control:checked~div.sk-toggleable__content {max-height: 200px;max-width: 100%;overflow: auto;}#sk-8e49ee3a-33e6-43c7-b0ef-28b1e997cf19 input.sk-toggleable__control:checked~label.sk-toggleable__label-arrow:before {content: \"▾\";}#sk-8e49ee3a-33e6-43c7-b0ef-28b1e997cf19 div.sk-estimator input.sk-toggleable__control:checked~label.sk-toggleable__label {background-color: #d4ebff;}#sk-8e49ee3a-33e6-43c7-b0ef-28b1e997cf19 div.sk-label input.sk-toggleable__control:checked~label.sk-toggleable__label {background-color: #d4ebff;}#sk-8e49ee3a-33e6-43c7-b0ef-28b1e997cf19 input.sk-hidden--visually {border: 0;clip: rect(1px 1px 1px 1px);clip: rect(1px, 1px, 1px, 1px);height: 1px;margin: -1px;overflow: hidden;padding: 0;position: absolute;width: 1px;}#sk-8e49ee3a-33e6-43c7-b0ef-28b1e997cf19 div.sk-estimator {font-family: monospace;background-color: #f0f8ff;border: 1px dotted black;border-radius: 0.25em;box-sizing: border-box;margin-bottom: 0.5em;}#sk-8e49ee3a-33e6-43c7-b0ef-28b1e997cf19 div.sk-estimator:hover {background-color: #d4ebff;}#sk-8e49ee3a-33e6-43c7-b0ef-28b1e997cf19 div.sk-parallel-item::after {content: \"\";width: 100%;border-bottom: 1px solid gray;flex-grow: 1;}#sk-8e49ee3a-33e6-43c7-b0ef-28b1e997cf19 div.sk-label:hover label.sk-toggleable__label {background-color: #d4ebff;}#sk-8e49ee3a-33e6-43c7-b0ef-28b1e997cf19 div.sk-serial::before {content: \"\";position: absolute;border-left: 1px solid gray;box-sizing: border-box;top: 2em;bottom: 0;left: 50%;}#sk-8e49ee3a-33e6-43c7-b0ef-28b1e997cf19 div.sk-serial {display: flex;flex-direction: column;align-items: center;background-color: white;padding-right: 0.2em;padding-left: 0.2em;}#sk-8e49ee3a-33e6-43c7-b0ef-28b1e997cf19 div.sk-item {z-index: 1;}#sk-8e49ee3a-33e6-43c7-b0ef-28b1e997cf19 div.sk-parallel {display: flex;align-items: stretch;justify-content: center;background-color: white;}#sk-8e49ee3a-33e6-43c7-b0ef-28b1e997cf19 div.sk-parallel::before {content: \"\";position: absolute;border-left: 1px solid gray;box-sizing: border-box;top: 2em;bottom: 0;left: 50%;}#sk-8e49ee3a-33e6-43c7-b0ef-28b1e997cf19 div.sk-parallel-item {display: flex;flex-direction: column;position: relative;background-color: white;}#sk-8e49ee3a-33e6-43c7-b0ef-28b1e997cf19 div.sk-parallel-item:first-child::after {align-self: flex-end;width: 50%;}#sk-8e49ee3a-33e6-43c7-b0ef-28b1e997cf19 div.sk-parallel-item:last-child::after {align-self: flex-start;width: 50%;}#sk-8e49ee3a-33e6-43c7-b0ef-28b1e997cf19 div.sk-parallel-item:only-child::after {width: 0;}#sk-8e49ee3a-33e6-43c7-b0ef-28b1e997cf19 div.sk-dashed-wrapped {border: 1px dashed gray;margin: 0 0.4em 0.5em 0.4em;box-sizing: border-box;padding-bottom: 0.4em;background-color: white;position: relative;}#sk-8e49ee3a-33e6-43c7-b0ef-28b1e997cf19 div.sk-label label {font-family: monospace;font-weight: bold;background-color: white;display: inline-block;line-height: 1.2em;}#sk-8e49ee3a-33e6-43c7-b0ef-28b1e997cf19 div.sk-label-container {position: relative;z-index: 2;text-align: center;}#sk-8e49ee3a-33e6-43c7-b0ef-28b1e997cf19 div.sk-container {/* jupyter's `normalize.less` sets `[hidden] { display: none; }` but bootstrap.min.css set `[hidden] { display: none !important; }` so we also need the `!important` here to be able to override the default hidden behavior on the sphinx rendered scikit-learn.org. See: https://github.com/scikit-learn/scikit-learn/issues/21755 */display: inline-block !important;position: relative;}#sk-8e49ee3a-33e6-43c7-b0ef-28b1e997cf19 div.sk-text-repr-fallback {display: none;}</style><div id=\"sk-8e49ee3a-33e6-43c7-b0ef-28b1e997cf19\" class=\"sk-top-container\"><div class=\"sk-text-repr-fallback\"><pre>Pipeline(steps=[(&#x27;simpleimputer&#x27;, SimpleImputer()),\n",
              "                (&#x27;standardscaler&#x27;, StandardScaler())])</pre><b>Please rerun this cell to show the HTML repr or trust the notebook.</b></div><div class=\"sk-container\" hidden><div class=\"sk-item sk-dashed-wrapped\"><div class=\"sk-label-container\"><div class=\"sk-label sk-toggleable\"><input class=\"sk-toggleable__control sk-hidden--visually\" id=\"ab4d257a-93bc-4775-b53c-c6b55f8ebadb\" type=\"checkbox\" ><label for=\"ab4d257a-93bc-4775-b53c-c6b55f8ebadb\" class=\"sk-toggleable__label sk-toggleable__label-arrow\">Pipeline</label><div class=\"sk-toggleable__content\"><pre>Pipeline(steps=[(&#x27;simpleimputer&#x27;, SimpleImputer()),\n",
              "                (&#x27;standardscaler&#x27;, StandardScaler())])</pre></div></div></div><div class=\"sk-serial\"><div class=\"sk-item\"><div class=\"sk-estimator sk-toggleable\"><input class=\"sk-toggleable__control sk-hidden--visually\" id=\"56132a52-10f7-48e1-a247-a65511ed202d\" type=\"checkbox\" ><label for=\"56132a52-10f7-48e1-a247-a65511ed202d\" class=\"sk-toggleable__label sk-toggleable__label-arrow\">SimpleImputer</label><div class=\"sk-toggleable__content\"><pre>SimpleImputer()</pre></div></div></div><div class=\"sk-item\"><div class=\"sk-estimator sk-toggleable\"><input class=\"sk-toggleable__control sk-hidden--visually\" id=\"f6cb2615-d612-4ae9-93ac-3b612b2ee2a5\" type=\"checkbox\" ><label for=\"f6cb2615-d612-4ae9-93ac-3b612b2ee2a5\" class=\"sk-toggleable__label sk-toggleable__label-arrow\">StandardScaler</label><div class=\"sk-toggleable__content\"><pre>StandardScaler()</pre></div></div></div></div></div></div></div>"
            ]
          },
          "metadata": {},
          "execution_count": 251
        }
      ]
    },
    {
      "cell_type": "code",
      "source": [
        "# Categorical pipeline\n",
        "categorical_pipe = make_pipeline(freq_imputer, ohe)\n",
        "categorical_pipe"
      ],
      "metadata": {
        "colab": {
          "base_uri": "https://localhost:8080/",
          "height": 126
        },
        "id": "9srobebDccaO",
        "outputId": "594b8d52-d7e6-48da-c105-7dd47cc9a0ff"
      },
      "execution_count": null,
      "outputs": [
        {
          "output_type": "execute_result",
          "data": {
            "text/plain": [
              "Pipeline(steps=[('simpleimputer', SimpleImputer(strategy='most_frequent')),\n",
              "                ('onehotencoder',\n",
              "                 OneHotEncoder(handle_unknown='ignore', sparse=False))])"
            ],
            "text/html": [
              "<style>#sk-6df442e2-9663-46f8-a243-2a80db0dfdd4 {color: black;background-color: white;}#sk-6df442e2-9663-46f8-a243-2a80db0dfdd4 pre{padding: 0;}#sk-6df442e2-9663-46f8-a243-2a80db0dfdd4 div.sk-toggleable {background-color: white;}#sk-6df442e2-9663-46f8-a243-2a80db0dfdd4 label.sk-toggleable__label {cursor: pointer;display: block;width: 100%;margin-bottom: 0;padding: 0.3em;box-sizing: border-box;text-align: center;}#sk-6df442e2-9663-46f8-a243-2a80db0dfdd4 label.sk-toggleable__label-arrow:before {content: \"▸\";float: left;margin-right: 0.25em;color: #696969;}#sk-6df442e2-9663-46f8-a243-2a80db0dfdd4 label.sk-toggleable__label-arrow:hover:before {color: black;}#sk-6df442e2-9663-46f8-a243-2a80db0dfdd4 div.sk-estimator:hover label.sk-toggleable__label-arrow:before {color: black;}#sk-6df442e2-9663-46f8-a243-2a80db0dfdd4 div.sk-toggleable__content {max-height: 0;max-width: 0;overflow: hidden;text-align: left;background-color: #f0f8ff;}#sk-6df442e2-9663-46f8-a243-2a80db0dfdd4 div.sk-toggleable__content pre {margin: 0.2em;color: black;border-radius: 0.25em;background-color: #f0f8ff;}#sk-6df442e2-9663-46f8-a243-2a80db0dfdd4 input.sk-toggleable__control:checked~div.sk-toggleable__content {max-height: 200px;max-width: 100%;overflow: auto;}#sk-6df442e2-9663-46f8-a243-2a80db0dfdd4 input.sk-toggleable__control:checked~label.sk-toggleable__label-arrow:before {content: \"▾\";}#sk-6df442e2-9663-46f8-a243-2a80db0dfdd4 div.sk-estimator input.sk-toggleable__control:checked~label.sk-toggleable__label {background-color: #d4ebff;}#sk-6df442e2-9663-46f8-a243-2a80db0dfdd4 div.sk-label input.sk-toggleable__control:checked~label.sk-toggleable__label {background-color: #d4ebff;}#sk-6df442e2-9663-46f8-a243-2a80db0dfdd4 input.sk-hidden--visually {border: 0;clip: rect(1px 1px 1px 1px);clip: rect(1px, 1px, 1px, 1px);height: 1px;margin: -1px;overflow: hidden;padding: 0;position: absolute;width: 1px;}#sk-6df442e2-9663-46f8-a243-2a80db0dfdd4 div.sk-estimator {font-family: monospace;background-color: #f0f8ff;border: 1px dotted black;border-radius: 0.25em;box-sizing: border-box;margin-bottom: 0.5em;}#sk-6df442e2-9663-46f8-a243-2a80db0dfdd4 div.sk-estimator:hover {background-color: #d4ebff;}#sk-6df442e2-9663-46f8-a243-2a80db0dfdd4 div.sk-parallel-item::after {content: \"\";width: 100%;border-bottom: 1px solid gray;flex-grow: 1;}#sk-6df442e2-9663-46f8-a243-2a80db0dfdd4 div.sk-label:hover label.sk-toggleable__label {background-color: #d4ebff;}#sk-6df442e2-9663-46f8-a243-2a80db0dfdd4 div.sk-serial::before {content: \"\";position: absolute;border-left: 1px solid gray;box-sizing: border-box;top: 2em;bottom: 0;left: 50%;}#sk-6df442e2-9663-46f8-a243-2a80db0dfdd4 div.sk-serial {display: flex;flex-direction: column;align-items: center;background-color: white;padding-right: 0.2em;padding-left: 0.2em;}#sk-6df442e2-9663-46f8-a243-2a80db0dfdd4 div.sk-item {z-index: 1;}#sk-6df442e2-9663-46f8-a243-2a80db0dfdd4 div.sk-parallel {display: flex;align-items: stretch;justify-content: center;background-color: white;}#sk-6df442e2-9663-46f8-a243-2a80db0dfdd4 div.sk-parallel::before {content: \"\";position: absolute;border-left: 1px solid gray;box-sizing: border-box;top: 2em;bottom: 0;left: 50%;}#sk-6df442e2-9663-46f8-a243-2a80db0dfdd4 div.sk-parallel-item {display: flex;flex-direction: column;position: relative;background-color: white;}#sk-6df442e2-9663-46f8-a243-2a80db0dfdd4 div.sk-parallel-item:first-child::after {align-self: flex-end;width: 50%;}#sk-6df442e2-9663-46f8-a243-2a80db0dfdd4 div.sk-parallel-item:last-child::after {align-self: flex-start;width: 50%;}#sk-6df442e2-9663-46f8-a243-2a80db0dfdd4 div.sk-parallel-item:only-child::after {width: 0;}#sk-6df442e2-9663-46f8-a243-2a80db0dfdd4 div.sk-dashed-wrapped {border: 1px dashed gray;margin: 0 0.4em 0.5em 0.4em;box-sizing: border-box;padding-bottom: 0.4em;background-color: white;position: relative;}#sk-6df442e2-9663-46f8-a243-2a80db0dfdd4 div.sk-label label {font-family: monospace;font-weight: bold;background-color: white;display: inline-block;line-height: 1.2em;}#sk-6df442e2-9663-46f8-a243-2a80db0dfdd4 div.sk-label-container {position: relative;z-index: 2;text-align: center;}#sk-6df442e2-9663-46f8-a243-2a80db0dfdd4 div.sk-container {/* jupyter's `normalize.less` sets `[hidden] { display: none; }` but bootstrap.min.css set `[hidden] { display: none !important; }` so we also need the `!important` here to be able to override the default hidden behavior on the sphinx rendered scikit-learn.org. See: https://github.com/scikit-learn/scikit-learn/issues/21755 */display: inline-block !important;position: relative;}#sk-6df442e2-9663-46f8-a243-2a80db0dfdd4 div.sk-text-repr-fallback {display: none;}</style><div id=\"sk-6df442e2-9663-46f8-a243-2a80db0dfdd4\" class=\"sk-top-container\"><div class=\"sk-text-repr-fallback\"><pre>Pipeline(steps=[(&#x27;simpleimputer&#x27;, SimpleImputer(strategy=&#x27;most_frequent&#x27;)),\n",
              "                (&#x27;onehotencoder&#x27;,\n",
              "                 OneHotEncoder(handle_unknown=&#x27;ignore&#x27;, sparse=False))])</pre><b>Please rerun this cell to show the HTML repr or trust the notebook.</b></div><div class=\"sk-container\" hidden><div class=\"sk-item sk-dashed-wrapped\"><div class=\"sk-label-container\"><div class=\"sk-label sk-toggleable\"><input class=\"sk-toggleable__control sk-hidden--visually\" id=\"c4ab4630-4d05-461b-b6e9-ac37a431913b\" type=\"checkbox\" ><label for=\"c4ab4630-4d05-461b-b6e9-ac37a431913b\" class=\"sk-toggleable__label sk-toggleable__label-arrow\">Pipeline</label><div class=\"sk-toggleable__content\"><pre>Pipeline(steps=[(&#x27;simpleimputer&#x27;, SimpleImputer(strategy=&#x27;most_frequent&#x27;)),\n",
              "                (&#x27;onehotencoder&#x27;,\n",
              "                 OneHotEncoder(handle_unknown=&#x27;ignore&#x27;, sparse=False))])</pre></div></div></div><div class=\"sk-serial\"><div class=\"sk-item\"><div class=\"sk-estimator sk-toggleable\"><input class=\"sk-toggleable__control sk-hidden--visually\" id=\"f3486d37-90dc-4921-9966-aaba4b24167b\" type=\"checkbox\" ><label for=\"f3486d37-90dc-4921-9966-aaba4b24167b\" class=\"sk-toggleable__label sk-toggleable__label-arrow\">SimpleImputer</label><div class=\"sk-toggleable__content\"><pre>SimpleImputer(strategy=&#x27;most_frequent&#x27;)</pre></div></div></div><div class=\"sk-item\"><div class=\"sk-estimator sk-toggleable\"><input class=\"sk-toggleable__control sk-hidden--visually\" id=\"da1c2457-8837-4df3-ad14-d35b400348ae\" type=\"checkbox\" ><label for=\"da1c2457-8837-4df3-ad14-d35b400348ae\" class=\"sk-toggleable__label sk-toggleable__label-arrow\">OneHotEncoder</label><div class=\"sk-toggleable__content\"><pre>OneHotEncoder(handle_unknown=&#x27;ignore&#x27;, sparse=False)</pre></div></div></div></div></div></div></div>"
            ]
          },
          "metadata": {},
          "execution_count": 252
        }
      ]
    },
    {
      "cell_type": "code",
      "source": [
        "# Tuples for Column Transformer\n",
        "number_tuple = (numeric_pipe, num_selector)\n",
        "category_tuple = (categorical_pipe, cat_selector)\n",
        "# ColumnTransformer\n",
        "preprocessor = make_column_transformer(number_tuple, category_tuple)\n",
        "preprocessor"
      ],
      "metadata": {
        "colab": {
          "base_uri": "https://localhost:8080/",
          "height": 152
        },
        "id": "j1JkZDlcciyY",
        "outputId": "217ea691-25bf-44d8-a5b1-c3b5778ea861"
      },
      "execution_count": null,
      "outputs": [
        {
          "output_type": "execute_result",
          "data": {
            "text/plain": [
              "ColumnTransformer(transformers=[('pipeline-1',\n",
              "                                 Pipeline(steps=[('simpleimputer',\n",
              "                                                  SimpleImputer()),\n",
              "                                                 ('standardscaler',\n",
              "                                                  StandardScaler())]),\n",
              "                                 <sklearn.compose._column_transformer.make_column_selector object at 0x7ff0cf782910>),\n",
              "                                ('pipeline-2',\n",
              "                                 Pipeline(steps=[('simpleimputer',\n",
              "                                                  SimpleImputer(strategy='most_frequent')),\n",
              "                                                 ('onehotencoder',\n",
              "                                                  OneHotEncoder(handle_unknown='ignore',\n",
              "                                                                sparse=False))]),\n",
              "                                 <sklearn.compose._column_transformer.make_column_selector object at 0x7ff0cf782e10>)])"
            ],
            "text/html": [
              "<style>#sk-77aca2cb-0b07-478b-b2df-75e418f7c634 {color: black;background-color: white;}#sk-77aca2cb-0b07-478b-b2df-75e418f7c634 pre{padding: 0;}#sk-77aca2cb-0b07-478b-b2df-75e418f7c634 div.sk-toggleable {background-color: white;}#sk-77aca2cb-0b07-478b-b2df-75e418f7c634 label.sk-toggleable__label {cursor: pointer;display: block;width: 100%;margin-bottom: 0;padding: 0.3em;box-sizing: border-box;text-align: center;}#sk-77aca2cb-0b07-478b-b2df-75e418f7c634 label.sk-toggleable__label-arrow:before {content: \"▸\";float: left;margin-right: 0.25em;color: #696969;}#sk-77aca2cb-0b07-478b-b2df-75e418f7c634 label.sk-toggleable__label-arrow:hover:before {color: black;}#sk-77aca2cb-0b07-478b-b2df-75e418f7c634 div.sk-estimator:hover label.sk-toggleable__label-arrow:before {color: black;}#sk-77aca2cb-0b07-478b-b2df-75e418f7c634 div.sk-toggleable__content {max-height: 0;max-width: 0;overflow: hidden;text-align: left;background-color: #f0f8ff;}#sk-77aca2cb-0b07-478b-b2df-75e418f7c634 div.sk-toggleable__content pre {margin: 0.2em;color: black;border-radius: 0.25em;background-color: #f0f8ff;}#sk-77aca2cb-0b07-478b-b2df-75e418f7c634 input.sk-toggleable__control:checked~div.sk-toggleable__content {max-height: 200px;max-width: 100%;overflow: auto;}#sk-77aca2cb-0b07-478b-b2df-75e418f7c634 input.sk-toggleable__control:checked~label.sk-toggleable__label-arrow:before {content: \"▾\";}#sk-77aca2cb-0b07-478b-b2df-75e418f7c634 div.sk-estimator input.sk-toggleable__control:checked~label.sk-toggleable__label {background-color: #d4ebff;}#sk-77aca2cb-0b07-478b-b2df-75e418f7c634 div.sk-label input.sk-toggleable__control:checked~label.sk-toggleable__label {background-color: #d4ebff;}#sk-77aca2cb-0b07-478b-b2df-75e418f7c634 input.sk-hidden--visually {border: 0;clip: rect(1px 1px 1px 1px);clip: rect(1px, 1px, 1px, 1px);height: 1px;margin: -1px;overflow: hidden;padding: 0;position: absolute;width: 1px;}#sk-77aca2cb-0b07-478b-b2df-75e418f7c634 div.sk-estimator {font-family: monospace;background-color: #f0f8ff;border: 1px dotted black;border-radius: 0.25em;box-sizing: border-box;margin-bottom: 0.5em;}#sk-77aca2cb-0b07-478b-b2df-75e418f7c634 div.sk-estimator:hover {background-color: #d4ebff;}#sk-77aca2cb-0b07-478b-b2df-75e418f7c634 div.sk-parallel-item::after {content: \"\";width: 100%;border-bottom: 1px solid gray;flex-grow: 1;}#sk-77aca2cb-0b07-478b-b2df-75e418f7c634 div.sk-label:hover label.sk-toggleable__label {background-color: #d4ebff;}#sk-77aca2cb-0b07-478b-b2df-75e418f7c634 div.sk-serial::before {content: \"\";position: absolute;border-left: 1px solid gray;box-sizing: border-box;top: 2em;bottom: 0;left: 50%;}#sk-77aca2cb-0b07-478b-b2df-75e418f7c634 div.sk-serial {display: flex;flex-direction: column;align-items: center;background-color: white;padding-right: 0.2em;padding-left: 0.2em;}#sk-77aca2cb-0b07-478b-b2df-75e418f7c634 div.sk-item {z-index: 1;}#sk-77aca2cb-0b07-478b-b2df-75e418f7c634 div.sk-parallel {display: flex;align-items: stretch;justify-content: center;background-color: white;}#sk-77aca2cb-0b07-478b-b2df-75e418f7c634 div.sk-parallel::before {content: \"\";position: absolute;border-left: 1px solid gray;box-sizing: border-box;top: 2em;bottom: 0;left: 50%;}#sk-77aca2cb-0b07-478b-b2df-75e418f7c634 div.sk-parallel-item {display: flex;flex-direction: column;position: relative;background-color: white;}#sk-77aca2cb-0b07-478b-b2df-75e418f7c634 div.sk-parallel-item:first-child::after {align-self: flex-end;width: 50%;}#sk-77aca2cb-0b07-478b-b2df-75e418f7c634 div.sk-parallel-item:last-child::after {align-self: flex-start;width: 50%;}#sk-77aca2cb-0b07-478b-b2df-75e418f7c634 div.sk-parallel-item:only-child::after {width: 0;}#sk-77aca2cb-0b07-478b-b2df-75e418f7c634 div.sk-dashed-wrapped {border: 1px dashed gray;margin: 0 0.4em 0.5em 0.4em;box-sizing: border-box;padding-bottom: 0.4em;background-color: white;position: relative;}#sk-77aca2cb-0b07-478b-b2df-75e418f7c634 div.sk-label label {font-family: monospace;font-weight: bold;background-color: white;display: inline-block;line-height: 1.2em;}#sk-77aca2cb-0b07-478b-b2df-75e418f7c634 div.sk-label-container {position: relative;z-index: 2;text-align: center;}#sk-77aca2cb-0b07-478b-b2df-75e418f7c634 div.sk-container {/* jupyter's `normalize.less` sets `[hidden] { display: none; }` but bootstrap.min.css set `[hidden] { display: none !important; }` so we also need the `!important` here to be able to override the default hidden behavior on the sphinx rendered scikit-learn.org. See: https://github.com/scikit-learn/scikit-learn/issues/21755 */display: inline-block !important;position: relative;}#sk-77aca2cb-0b07-478b-b2df-75e418f7c634 div.sk-text-repr-fallback {display: none;}</style><div id=\"sk-77aca2cb-0b07-478b-b2df-75e418f7c634\" class=\"sk-top-container\"><div class=\"sk-text-repr-fallback\"><pre>ColumnTransformer(transformers=[(&#x27;pipeline-1&#x27;,\n",
              "                                 Pipeline(steps=[(&#x27;simpleimputer&#x27;,\n",
              "                                                  SimpleImputer()),\n",
              "                                                 (&#x27;standardscaler&#x27;,\n",
              "                                                  StandardScaler())]),\n",
              "                                 &lt;sklearn.compose._column_transformer.make_column_selector object at 0x7ff0cf782910&gt;),\n",
              "                                (&#x27;pipeline-2&#x27;,\n",
              "                                 Pipeline(steps=[(&#x27;simpleimputer&#x27;,\n",
              "                                                  SimpleImputer(strategy=&#x27;most_frequent&#x27;)),\n",
              "                                                 (&#x27;onehotencoder&#x27;,\n",
              "                                                  OneHotEncoder(handle_unknown=&#x27;ignore&#x27;,\n",
              "                                                                sparse=False))]),\n",
              "                                 &lt;sklearn.compose._column_transformer.make_column_selector object at 0x7ff0cf782e10&gt;)])</pre><b>Please rerun this cell to show the HTML repr or trust the notebook.</b></div><div class=\"sk-container\" hidden><div class=\"sk-item sk-dashed-wrapped\"><div class=\"sk-label-container\"><div class=\"sk-label sk-toggleable\"><input class=\"sk-toggleable__control sk-hidden--visually\" id=\"83bfa0a3-e9ff-4ae6-aab3-3a83306cb3dc\" type=\"checkbox\" ><label for=\"83bfa0a3-e9ff-4ae6-aab3-3a83306cb3dc\" class=\"sk-toggleable__label sk-toggleable__label-arrow\">ColumnTransformer</label><div class=\"sk-toggleable__content\"><pre>ColumnTransformer(transformers=[(&#x27;pipeline-1&#x27;,\n",
              "                                 Pipeline(steps=[(&#x27;simpleimputer&#x27;,\n",
              "                                                  SimpleImputer()),\n",
              "                                                 (&#x27;standardscaler&#x27;,\n",
              "                                                  StandardScaler())]),\n",
              "                                 &lt;sklearn.compose._column_transformer.make_column_selector object at 0x7ff0cf782910&gt;),\n",
              "                                (&#x27;pipeline-2&#x27;,\n",
              "                                 Pipeline(steps=[(&#x27;simpleimputer&#x27;,\n",
              "                                                  SimpleImputer(strategy=&#x27;most_frequent&#x27;)),\n",
              "                                                 (&#x27;onehotencoder&#x27;,\n",
              "                                                  OneHotEncoder(handle_unknown=&#x27;ignore&#x27;,\n",
              "                                                                sparse=False))]),\n",
              "                                 &lt;sklearn.compose._column_transformer.make_column_selector object at 0x7ff0cf782e10&gt;)])</pre></div></div></div><div class=\"sk-parallel\"><div class=\"sk-parallel-item\"><div class=\"sk-item\"><div class=\"sk-label-container\"><div class=\"sk-label sk-toggleable\"><input class=\"sk-toggleable__control sk-hidden--visually\" id=\"fa82bdbd-bdc9-4534-a8c7-2f3931f1af5f\" type=\"checkbox\" ><label for=\"fa82bdbd-bdc9-4534-a8c7-2f3931f1af5f\" class=\"sk-toggleable__label sk-toggleable__label-arrow\">pipeline-1</label><div class=\"sk-toggleable__content\"><pre>&lt;sklearn.compose._column_transformer.make_column_selector object at 0x7ff0cf782910&gt;</pre></div></div></div><div class=\"sk-serial\"><div class=\"sk-item\"><div class=\"sk-serial\"><div class=\"sk-item\"><div class=\"sk-estimator sk-toggleable\"><input class=\"sk-toggleable__control sk-hidden--visually\" id=\"87f5087c-145e-4c00-82f8-fb5f9638474f\" type=\"checkbox\" ><label for=\"87f5087c-145e-4c00-82f8-fb5f9638474f\" class=\"sk-toggleable__label sk-toggleable__label-arrow\">SimpleImputer</label><div class=\"sk-toggleable__content\"><pre>SimpleImputer()</pre></div></div></div><div class=\"sk-item\"><div class=\"sk-estimator sk-toggleable\"><input class=\"sk-toggleable__control sk-hidden--visually\" id=\"d5b28f7a-afcf-49a0-8068-b8575a810b55\" type=\"checkbox\" ><label for=\"d5b28f7a-afcf-49a0-8068-b8575a810b55\" class=\"sk-toggleable__label sk-toggleable__label-arrow\">StandardScaler</label><div class=\"sk-toggleable__content\"><pre>StandardScaler()</pre></div></div></div></div></div></div></div></div><div class=\"sk-parallel-item\"><div class=\"sk-item\"><div class=\"sk-label-container\"><div class=\"sk-label sk-toggleable\"><input class=\"sk-toggleable__control sk-hidden--visually\" id=\"3cdfa38d-7d64-43ba-a25f-0982beb7ae13\" type=\"checkbox\" ><label for=\"3cdfa38d-7d64-43ba-a25f-0982beb7ae13\" class=\"sk-toggleable__label sk-toggleable__label-arrow\">pipeline-2</label><div class=\"sk-toggleable__content\"><pre>&lt;sklearn.compose._column_transformer.make_column_selector object at 0x7ff0cf782e10&gt;</pre></div></div></div><div class=\"sk-serial\"><div class=\"sk-item\"><div class=\"sk-serial\"><div class=\"sk-item\"><div class=\"sk-estimator sk-toggleable\"><input class=\"sk-toggleable__control sk-hidden--visually\" id=\"8b361081-1c8e-4285-96f8-3fb3ddba3c6c\" type=\"checkbox\" ><label for=\"8b361081-1c8e-4285-96f8-3fb3ddba3c6c\" class=\"sk-toggleable__label sk-toggleable__label-arrow\">SimpleImputer</label><div class=\"sk-toggleable__content\"><pre>SimpleImputer(strategy=&#x27;most_frequent&#x27;)</pre></div></div></div><div class=\"sk-item\"><div class=\"sk-estimator sk-toggleable\"><input class=\"sk-toggleable__control sk-hidden--visually\" id=\"dd6c8377-ab8e-4c9d-9a46-b730a1bd8219\" type=\"checkbox\" ><label for=\"dd6c8377-ab8e-4c9d-9a46-b730a1bd8219\" class=\"sk-toggleable__label sk-toggleable__label-arrow\">OneHotEncoder</label><div class=\"sk-toggleable__content\"><pre>OneHotEncoder(handle_unknown=&#x27;ignore&#x27;, sparse=False)</pre></div></div></div></div></div></div></div></div></div></div></div></div>"
            ]
          },
          "metadata": {},
          "execution_count": 253
        }
      ]
    },
    {
      "cell_type": "code",
      "source": [
        "# fit on train\n",
        "preprocessor.fit(X_train)"
      ],
      "metadata": {
        "colab": {
          "base_uri": "https://localhost:8080/",
          "height": 152
        },
        "id": "gPtEvyesciv8",
        "outputId": "18e4ec96-dbf2-422f-c46b-a3c7f760d0f2"
      },
      "execution_count": null,
      "outputs": [
        {
          "output_type": "execute_result",
          "data": {
            "text/plain": [
              "ColumnTransformer(transformers=[('pipeline-1',\n",
              "                                 Pipeline(steps=[('simpleimputer',\n",
              "                                                  SimpleImputer()),\n",
              "                                                 ('standardscaler',\n",
              "                                                  StandardScaler())]),\n",
              "                                 <sklearn.compose._column_transformer.make_column_selector object at 0x7ff0cf782910>),\n",
              "                                ('pipeline-2',\n",
              "                                 Pipeline(steps=[('simpleimputer',\n",
              "                                                  SimpleImputer(strategy='most_frequent')),\n",
              "                                                 ('onehotencoder',\n",
              "                                                  OneHotEncoder(handle_unknown='ignore',\n",
              "                                                                sparse=False))]),\n",
              "                                 <sklearn.compose._column_transformer.make_column_selector object at 0x7ff0cf782e10>)])"
            ],
            "text/html": [
              "<style>#sk-089bd1a9-0176-4f4f-ad8f-02f5ae280f24 {color: black;background-color: white;}#sk-089bd1a9-0176-4f4f-ad8f-02f5ae280f24 pre{padding: 0;}#sk-089bd1a9-0176-4f4f-ad8f-02f5ae280f24 div.sk-toggleable {background-color: white;}#sk-089bd1a9-0176-4f4f-ad8f-02f5ae280f24 label.sk-toggleable__label {cursor: pointer;display: block;width: 100%;margin-bottom: 0;padding: 0.3em;box-sizing: border-box;text-align: center;}#sk-089bd1a9-0176-4f4f-ad8f-02f5ae280f24 label.sk-toggleable__label-arrow:before {content: \"▸\";float: left;margin-right: 0.25em;color: #696969;}#sk-089bd1a9-0176-4f4f-ad8f-02f5ae280f24 label.sk-toggleable__label-arrow:hover:before {color: black;}#sk-089bd1a9-0176-4f4f-ad8f-02f5ae280f24 div.sk-estimator:hover label.sk-toggleable__label-arrow:before {color: black;}#sk-089bd1a9-0176-4f4f-ad8f-02f5ae280f24 div.sk-toggleable__content {max-height: 0;max-width: 0;overflow: hidden;text-align: left;background-color: #f0f8ff;}#sk-089bd1a9-0176-4f4f-ad8f-02f5ae280f24 div.sk-toggleable__content pre {margin: 0.2em;color: black;border-radius: 0.25em;background-color: #f0f8ff;}#sk-089bd1a9-0176-4f4f-ad8f-02f5ae280f24 input.sk-toggleable__control:checked~div.sk-toggleable__content {max-height: 200px;max-width: 100%;overflow: auto;}#sk-089bd1a9-0176-4f4f-ad8f-02f5ae280f24 input.sk-toggleable__control:checked~label.sk-toggleable__label-arrow:before {content: \"▾\";}#sk-089bd1a9-0176-4f4f-ad8f-02f5ae280f24 div.sk-estimator input.sk-toggleable__control:checked~label.sk-toggleable__label {background-color: #d4ebff;}#sk-089bd1a9-0176-4f4f-ad8f-02f5ae280f24 div.sk-label input.sk-toggleable__control:checked~label.sk-toggleable__label {background-color: #d4ebff;}#sk-089bd1a9-0176-4f4f-ad8f-02f5ae280f24 input.sk-hidden--visually {border: 0;clip: rect(1px 1px 1px 1px);clip: rect(1px, 1px, 1px, 1px);height: 1px;margin: -1px;overflow: hidden;padding: 0;position: absolute;width: 1px;}#sk-089bd1a9-0176-4f4f-ad8f-02f5ae280f24 div.sk-estimator {font-family: monospace;background-color: #f0f8ff;border: 1px dotted black;border-radius: 0.25em;box-sizing: border-box;margin-bottom: 0.5em;}#sk-089bd1a9-0176-4f4f-ad8f-02f5ae280f24 div.sk-estimator:hover {background-color: #d4ebff;}#sk-089bd1a9-0176-4f4f-ad8f-02f5ae280f24 div.sk-parallel-item::after {content: \"\";width: 100%;border-bottom: 1px solid gray;flex-grow: 1;}#sk-089bd1a9-0176-4f4f-ad8f-02f5ae280f24 div.sk-label:hover label.sk-toggleable__label {background-color: #d4ebff;}#sk-089bd1a9-0176-4f4f-ad8f-02f5ae280f24 div.sk-serial::before {content: \"\";position: absolute;border-left: 1px solid gray;box-sizing: border-box;top: 2em;bottom: 0;left: 50%;}#sk-089bd1a9-0176-4f4f-ad8f-02f5ae280f24 div.sk-serial {display: flex;flex-direction: column;align-items: center;background-color: white;padding-right: 0.2em;padding-left: 0.2em;}#sk-089bd1a9-0176-4f4f-ad8f-02f5ae280f24 div.sk-item {z-index: 1;}#sk-089bd1a9-0176-4f4f-ad8f-02f5ae280f24 div.sk-parallel {display: flex;align-items: stretch;justify-content: center;background-color: white;}#sk-089bd1a9-0176-4f4f-ad8f-02f5ae280f24 div.sk-parallel::before {content: \"\";position: absolute;border-left: 1px solid gray;box-sizing: border-box;top: 2em;bottom: 0;left: 50%;}#sk-089bd1a9-0176-4f4f-ad8f-02f5ae280f24 div.sk-parallel-item {display: flex;flex-direction: column;position: relative;background-color: white;}#sk-089bd1a9-0176-4f4f-ad8f-02f5ae280f24 div.sk-parallel-item:first-child::after {align-self: flex-end;width: 50%;}#sk-089bd1a9-0176-4f4f-ad8f-02f5ae280f24 div.sk-parallel-item:last-child::after {align-self: flex-start;width: 50%;}#sk-089bd1a9-0176-4f4f-ad8f-02f5ae280f24 div.sk-parallel-item:only-child::after {width: 0;}#sk-089bd1a9-0176-4f4f-ad8f-02f5ae280f24 div.sk-dashed-wrapped {border: 1px dashed gray;margin: 0 0.4em 0.5em 0.4em;box-sizing: border-box;padding-bottom: 0.4em;background-color: white;position: relative;}#sk-089bd1a9-0176-4f4f-ad8f-02f5ae280f24 div.sk-label label {font-family: monospace;font-weight: bold;background-color: white;display: inline-block;line-height: 1.2em;}#sk-089bd1a9-0176-4f4f-ad8f-02f5ae280f24 div.sk-label-container {position: relative;z-index: 2;text-align: center;}#sk-089bd1a9-0176-4f4f-ad8f-02f5ae280f24 div.sk-container {/* jupyter's `normalize.less` sets `[hidden] { display: none; }` but bootstrap.min.css set `[hidden] { display: none !important; }` so we also need the `!important` here to be able to override the default hidden behavior on the sphinx rendered scikit-learn.org. See: https://github.com/scikit-learn/scikit-learn/issues/21755 */display: inline-block !important;position: relative;}#sk-089bd1a9-0176-4f4f-ad8f-02f5ae280f24 div.sk-text-repr-fallback {display: none;}</style><div id=\"sk-089bd1a9-0176-4f4f-ad8f-02f5ae280f24\" class=\"sk-top-container\"><div class=\"sk-text-repr-fallback\"><pre>ColumnTransformer(transformers=[(&#x27;pipeline-1&#x27;,\n",
              "                                 Pipeline(steps=[(&#x27;simpleimputer&#x27;,\n",
              "                                                  SimpleImputer()),\n",
              "                                                 (&#x27;standardscaler&#x27;,\n",
              "                                                  StandardScaler())]),\n",
              "                                 &lt;sklearn.compose._column_transformer.make_column_selector object at 0x7ff0cf782910&gt;),\n",
              "                                (&#x27;pipeline-2&#x27;,\n",
              "                                 Pipeline(steps=[(&#x27;simpleimputer&#x27;,\n",
              "                                                  SimpleImputer(strategy=&#x27;most_frequent&#x27;)),\n",
              "                                                 (&#x27;onehotencoder&#x27;,\n",
              "                                                  OneHotEncoder(handle_unknown=&#x27;ignore&#x27;,\n",
              "                                                                sparse=False))]),\n",
              "                                 &lt;sklearn.compose._column_transformer.make_column_selector object at 0x7ff0cf782e10&gt;)])</pre><b>Please rerun this cell to show the HTML repr or trust the notebook.</b></div><div class=\"sk-container\" hidden><div class=\"sk-item sk-dashed-wrapped\"><div class=\"sk-label-container\"><div class=\"sk-label sk-toggleable\"><input class=\"sk-toggleable__control sk-hidden--visually\" id=\"b6e62bb6-797d-4eb5-833e-7dc83b128597\" type=\"checkbox\" ><label for=\"b6e62bb6-797d-4eb5-833e-7dc83b128597\" class=\"sk-toggleable__label sk-toggleable__label-arrow\">ColumnTransformer</label><div class=\"sk-toggleable__content\"><pre>ColumnTransformer(transformers=[(&#x27;pipeline-1&#x27;,\n",
              "                                 Pipeline(steps=[(&#x27;simpleimputer&#x27;,\n",
              "                                                  SimpleImputer()),\n",
              "                                                 (&#x27;standardscaler&#x27;,\n",
              "                                                  StandardScaler())]),\n",
              "                                 &lt;sklearn.compose._column_transformer.make_column_selector object at 0x7ff0cf782910&gt;),\n",
              "                                (&#x27;pipeline-2&#x27;,\n",
              "                                 Pipeline(steps=[(&#x27;simpleimputer&#x27;,\n",
              "                                                  SimpleImputer(strategy=&#x27;most_frequent&#x27;)),\n",
              "                                                 (&#x27;onehotencoder&#x27;,\n",
              "                                                  OneHotEncoder(handle_unknown=&#x27;ignore&#x27;,\n",
              "                                                                sparse=False))]),\n",
              "                                 &lt;sklearn.compose._column_transformer.make_column_selector object at 0x7ff0cf782e10&gt;)])</pre></div></div></div><div class=\"sk-parallel\"><div class=\"sk-parallel-item\"><div class=\"sk-item\"><div class=\"sk-label-container\"><div class=\"sk-label sk-toggleable\"><input class=\"sk-toggleable__control sk-hidden--visually\" id=\"3fedea2e-8e98-4ab1-86c4-cf461dc16dc8\" type=\"checkbox\" ><label for=\"3fedea2e-8e98-4ab1-86c4-cf461dc16dc8\" class=\"sk-toggleable__label sk-toggleable__label-arrow\">pipeline-1</label><div class=\"sk-toggleable__content\"><pre>&lt;sklearn.compose._column_transformer.make_column_selector object at 0x7ff0cf782910&gt;</pre></div></div></div><div class=\"sk-serial\"><div class=\"sk-item\"><div class=\"sk-serial\"><div class=\"sk-item\"><div class=\"sk-estimator sk-toggleable\"><input class=\"sk-toggleable__control sk-hidden--visually\" id=\"e3c8b3e5-8f1e-4c5f-a0fb-0e9e7c177413\" type=\"checkbox\" ><label for=\"e3c8b3e5-8f1e-4c5f-a0fb-0e9e7c177413\" class=\"sk-toggleable__label sk-toggleable__label-arrow\">SimpleImputer</label><div class=\"sk-toggleable__content\"><pre>SimpleImputer()</pre></div></div></div><div class=\"sk-item\"><div class=\"sk-estimator sk-toggleable\"><input class=\"sk-toggleable__control sk-hidden--visually\" id=\"f0b40246-1449-4019-8235-3451830dee23\" type=\"checkbox\" ><label for=\"f0b40246-1449-4019-8235-3451830dee23\" class=\"sk-toggleable__label sk-toggleable__label-arrow\">StandardScaler</label><div class=\"sk-toggleable__content\"><pre>StandardScaler()</pre></div></div></div></div></div></div></div></div><div class=\"sk-parallel-item\"><div class=\"sk-item\"><div class=\"sk-label-container\"><div class=\"sk-label sk-toggleable\"><input class=\"sk-toggleable__control sk-hidden--visually\" id=\"652aba2d-0031-4b7f-b83c-be42343b060d\" type=\"checkbox\" ><label for=\"652aba2d-0031-4b7f-b83c-be42343b060d\" class=\"sk-toggleable__label sk-toggleable__label-arrow\">pipeline-2</label><div class=\"sk-toggleable__content\"><pre>&lt;sklearn.compose._column_transformer.make_column_selector object at 0x7ff0cf782e10&gt;</pre></div></div></div><div class=\"sk-serial\"><div class=\"sk-item\"><div class=\"sk-serial\"><div class=\"sk-item\"><div class=\"sk-estimator sk-toggleable\"><input class=\"sk-toggleable__control sk-hidden--visually\" id=\"4c4b5c91-51df-4721-9f79-9162bd8be023\" type=\"checkbox\" ><label for=\"4c4b5c91-51df-4721-9f79-9162bd8be023\" class=\"sk-toggleable__label sk-toggleable__label-arrow\">SimpleImputer</label><div class=\"sk-toggleable__content\"><pre>SimpleImputer(strategy=&#x27;most_frequent&#x27;)</pre></div></div></div><div class=\"sk-item\"><div class=\"sk-estimator sk-toggleable\"><input class=\"sk-toggleable__control sk-hidden--visually\" id=\"6f5ff209-1c15-4eb4-b251-ef675ec5484e\" type=\"checkbox\" ><label for=\"6f5ff209-1c15-4eb4-b251-ef675ec5484e\" class=\"sk-toggleable__label sk-toggleable__label-arrow\">OneHotEncoder</label><div class=\"sk-toggleable__content\"><pre>OneHotEncoder(handle_unknown=&#x27;ignore&#x27;, sparse=False)</pre></div></div></div></div></div></div></div></div></div></div></div></div>"
            ]
          },
          "metadata": {},
          "execution_count": 254
        }
      ]
    },
    {
      "cell_type": "code",
      "source": [
        "# transform train and test\n",
        "X_train_processed = preprocessor.transform(X_train)\n",
        "X_test_processed = preprocessor.transform(X_test)"
      ],
      "metadata": {
        "id": "LIQHoFV_cir-"
      },
      "execution_count": null,
      "outputs": []
    },
    {
      "cell_type": "code",
      "source": [
        "# Check for missing values and that data is scaled and one-hot encoded\n",
        "print(np.isnan(X_train_processed).sum().sum(), 'missing values in training data')\n",
        "print(np.isnan(X_test_processed).sum().sum(), 'missing values in testing data')\n",
        "print('\\n')\n",
        "print('All data in X_train_processed are', X_train_processed.dtype)\n",
        "print('All data in X_test_processed are', X_test_processed.dtype)\n",
        "print('\\n')\n",
        "print('shape of data is', X_train_processed.shape)\n",
        "print('\\n')\n",
        "X_train_processed"
      ],
      "metadata": {
        "colab": {
          "base_uri": "https://localhost:8080/"
        },
        "id": "19p3WYRlcimY",
        "outputId": "2ac0447a-2dfa-4d37-a1dd-604a976a648c"
      },
      "execution_count": null,
      "outputs": [
        {
          "output_type": "stream",
          "name": "stdout",
          "text": [
            "0 missing values in training data\n",
            "0 missing values in testing data\n",
            "\n",
            "\n",
            "All data in X_train_processed are float64\n",
            "All data in X_test_processed are float64\n",
            "\n",
            "\n",
            "shape of data is (6392, 27)\n",
            "\n",
            "\n"
          ]
        },
        {
          "output_type": "execute_result",
          "data": {
            "text/plain": [
              "array([[ 0.81724868, -0.7403206 , -0.71277507, ...,  0.        ,\n",
              "         1.        ,  0.        ],\n",
              "       [ 0.5563395 ,  1.35076614, -1.29105225, ...,  0.        ,\n",
              "         1.        ,  0.        ],\n",
              "       [-0.13151196,  1.35076614,  1.81331864, ...,  1.        ,\n",
              "         0.        ,  0.        ],\n",
              "       ...,\n",
              "       [ 1.11373638, -0.7403206 , -0.92052713, ...,  1.        ,\n",
              "         0.        ,  0.        ],\n",
              "       [ 1.76600931, -0.7403206 , -0.2277552 , ...,  1.        ,\n",
              "         0.        ,  0.        ],\n",
              "       [ 0.81724868, -0.7403206 , -0.95867683, ...,  1.        ,\n",
              "         0.        ,  0.        ]])"
            ]
          },
          "metadata": {},
          "execution_count": 256
        }
      ]
    },
    {
      "cell_type": "markdown",
      "source": [
        "Now all of our transformations are complete and we are ready for modeling! We can see that the numeric columns have been scaled and the categorical columns have been encoded as numbers. All of the columns are now listed as numeric columns and are ready for machine learning. Mission accomplished!"
      ],
      "metadata": {
        "id": "BYDRYZ8ObeeP"
      }
    }
  ]
}