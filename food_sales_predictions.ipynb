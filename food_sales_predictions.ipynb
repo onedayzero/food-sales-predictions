{
  "nbformat": 4,
  "nbformat_minor": 0,
  "metadata": {
    "colab": {
      "name": "food_sales_predictions.ipynb",
      "provenance": [],
      "collapsed_sections": [],
      "authorship_tag": "ABX9TyNBgKsgg7l7B6FD2W5+56Aa",
      "include_colab_link": true
    },
    "kernelspec": {
      "name": "python3",
      "display_name": "Python 3"
    },
    "language_info": {
      "name": "python"
    }
  },
  "cells": [
    {
      "cell_type": "markdown",
      "metadata": {
        "id": "view-in-github",
        "colab_type": "text"
      },
      "source": [
        "<a href=\"https://colab.research.google.com/github/onedayzero/food-sales-predictions/blob/main/food_sales_predictions.ipynb\" target=\"_parent\"><img src=\"https://colab.research.google.com/assets/colab-badge.svg\" alt=\"Open In Colab\"/></a>"
      ]
    },
    {
      "cell_type": "markdown",
      "source": [
        "# Food Sales Predictions\n",
        "-Clint Atterberry\n",
        "\n",
        "-25 May 2022"
      ],
      "metadata": {
        "id": "5ZM8XcdxwDis"
      }
    },
    {
      "cell_type": "markdown",
      "source": [
        "# Instructions\n",
        "\n",
        "1) How many rows and columns?\n",
        "\n",
        "2) What are the datatypes of each variable?\n",
        "\n",
        "3) Are there duplicates? If so, drop any duplicates.\n",
        "\n",
        "4) Identify missing values.\n",
        "\n",
        "5) Decide on how to address the missing values and do it! (This requires your judgement, so explain your choice).\n",
        "\n",
        "6) Confirm that there are no missing values after addressing them.\n",
        "\n",
        "7) Find and fix any inconsistent categories of data (example: fix cat, Cat, and cats so that they are consistent) \n",
        "\n",
        "8) For any numerical columns, obtain the summary statistics of each (min, max, mean)"
      ],
      "metadata": {
        "id": "zXP61xZsukHi"
      }
    },
    {
      "cell_type": "markdown",
      "source": [
        "## Mount the drive, import libraries, and import data\n",
        "\n",
        "-We will use the following lines:\n",
        "\n",
        "```python\n",
        "# Get access to the drive where the data is\n",
        "from google.colab import drive\n",
        "drive.mount ('/content/drive')\n",
        "\n",
        "# The library we will be using\n",
        "import pandas as pd\n",
        "\n",
        "# The csv file from the drive\n",
        "df = pd.read_csv('/content/drive/MyDrive/Coding Dojo - Data Science Course/01 Week 1: Python for Data Science/sales_predictions.csv')\n",
        "\n",
        "# To get a glance at the columns and the first 5 rows\n",
        "df.head()\n",
        "```"
      ],
      "metadata": {
        "id": "tqxH_xfpwMqJ"
      }
    },
    {
      "cell_type": "code",
      "source": [
        "# Mount the drive\n",
        "from google.colab import drive\n",
        "drive.mount ('/content/drive')"
      ],
      "metadata": {
        "colab": {
          "base_uri": "https://localhost:8080/"
        },
        "id": "eUDm7caa8Ooj",
        "outputId": "d0cf06fb-ba4e-472d-a8c0-2dab1d6f430f"
      },
      "execution_count": 1,
      "outputs": [
        {
          "output_type": "stream",
          "name": "stdout",
          "text": [
            "Mounted at /content/drive\n"
          ]
        }
      ]
    },
    {
      "cell_type": "code",
      "execution_count": 2,
      "metadata": {
        "id": "mWWjU-xF76Ib"
      },
      "outputs": [],
      "source": [
        "# Import Library pandas as pd\n",
        "import pandas as pd"
      ]
    },
    {
      "cell_type": "code",
      "source": [
        "# Get csv data from link for assignment\n",
        "df = pd.read_csv('/content/drive/MyDrive/Coding Dojo - Data Science Course/01 Week 1: Python for Data Science/sales_predictions.csv')"
      ],
      "metadata": {
        "id": "4j_WiW0V8Dyt"
      },
      "execution_count": 3,
      "outputs": []
    },
    {
      "cell_type": "code",
      "source": [
        "df.head()"
      ],
      "metadata": {
        "colab": {
          "base_uri": "https://localhost:8080/",
          "height": 357
        },
        "id": "BxFI28cd8cou",
        "outputId": "c05af19d-bd88-424e-8ab7-227a4d9ed0d9"
      },
      "execution_count": 4,
      "outputs": [
        {
          "output_type": "execute_result",
          "data": {
            "text/plain": [
              "  Item_Identifier  Item_Weight Item_Fat_Content  Item_Visibility  \\\n",
              "0           FDA15         9.30          Low Fat         0.016047   \n",
              "1           DRC01         5.92          Regular         0.019278   \n",
              "2           FDN15        17.50          Low Fat         0.016760   \n",
              "3           FDX07        19.20          Regular         0.000000   \n",
              "4           NCD19         8.93          Low Fat         0.000000   \n",
              "\n",
              "               Item_Type  Item_MRP Outlet_Identifier  \\\n",
              "0                  Dairy  249.8092            OUT049   \n",
              "1            Soft Drinks   48.2692            OUT018   \n",
              "2                   Meat  141.6180            OUT049   \n",
              "3  Fruits and Vegetables  182.0950            OUT010   \n",
              "4              Household   53.8614            OUT013   \n",
              "\n",
              "   Outlet_Establishment_Year Outlet_Size Outlet_Location_Type  \\\n",
              "0                       1999      Medium               Tier 1   \n",
              "1                       2009      Medium               Tier 3   \n",
              "2                       1999      Medium               Tier 1   \n",
              "3                       1998         NaN               Tier 3   \n",
              "4                       1987        High               Tier 3   \n",
              "\n",
              "         Outlet_Type  Item_Outlet_Sales  \n",
              "0  Supermarket Type1          3735.1380  \n",
              "1  Supermarket Type2           443.4228  \n",
              "2  Supermarket Type1          2097.2700  \n",
              "3      Grocery Store           732.3800  \n",
              "4  Supermarket Type1           994.7052  "
            ],
            "text/html": [
              "\n",
              "  <div id=\"df-3fe178fe-f3a3-4f48-aa3b-817dbf1c6706\">\n",
              "    <div class=\"colab-df-container\">\n",
              "      <div>\n",
              "<style scoped>\n",
              "    .dataframe tbody tr th:only-of-type {\n",
              "        vertical-align: middle;\n",
              "    }\n",
              "\n",
              "    .dataframe tbody tr th {\n",
              "        vertical-align: top;\n",
              "    }\n",
              "\n",
              "    .dataframe thead th {\n",
              "        text-align: right;\n",
              "    }\n",
              "</style>\n",
              "<table border=\"1\" class=\"dataframe\">\n",
              "  <thead>\n",
              "    <tr style=\"text-align: right;\">\n",
              "      <th></th>\n",
              "      <th>Item_Identifier</th>\n",
              "      <th>Item_Weight</th>\n",
              "      <th>Item_Fat_Content</th>\n",
              "      <th>Item_Visibility</th>\n",
              "      <th>Item_Type</th>\n",
              "      <th>Item_MRP</th>\n",
              "      <th>Outlet_Identifier</th>\n",
              "      <th>Outlet_Establishment_Year</th>\n",
              "      <th>Outlet_Size</th>\n",
              "      <th>Outlet_Location_Type</th>\n",
              "      <th>Outlet_Type</th>\n",
              "      <th>Item_Outlet_Sales</th>\n",
              "    </tr>\n",
              "  </thead>\n",
              "  <tbody>\n",
              "    <tr>\n",
              "      <th>0</th>\n",
              "      <td>FDA15</td>\n",
              "      <td>9.30</td>\n",
              "      <td>Low Fat</td>\n",
              "      <td>0.016047</td>\n",
              "      <td>Dairy</td>\n",
              "      <td>249.8092</td>\n",
              "      <td>OUT049</td>\n",
              "      <td>1999</td>\n",
              "      <td>Medium</td>\n",
              "      <td>Tier 1</td>\n",
              "      <td>Supermarket Type1</td>\n",
              "      <td>3735.1380</td>\n",
              "    </tr>\n",
              "    <tr>\n",
              "      <th>1</th>\n",
              "      <td>DRC01</td>\n",
              "      <td>5.92</td>\n",
              "      <td>Regular</td>\n",
              "      <td>0.019278</td>\n",
              "      <td>Soft Drinks</td>\n",
              "      <td>48.2692</td>\n",
              "      <td>OUT018</td>\n",
              "      <td>2009</td>\n",
              "      <td>Medium</td>\n",
              "      <td>Tier 3</td>\n",
              "      <td>Supermarket Type2</td>\n",
              "      <td>443.4228</td>\n",
              "    </tr>\n",
              "    <tr>\n",
              "      <th>2</th>\n",
              "      <td>FDN15</td>\n",
              "      <td>17.50</td>\n",
              "      <td>Low Fat</td>\n",
              "      <td>0.016760</td>\n",
              "      <td>Meat</td>\n",
              "      <td>141.6180</td>\n",
              "      <td>OUT049</td>\n",
              "      <td>1999</td>\n",
              "      <td>Medium</td>\n",
              "      <td>Tier 1</td>\n",
              "      <td>Supermarket Type1</td>\n",
              "      <td>2097.2700</td>\n",
              "    </tr>\n",
              "    <tr>\n",
              "      <th>3</th>\n",
              "      <td>FDX07</td>\n",
              "      <td>19.20</td>\n",
              "      <td>Regular</td>\n",
              "      <td>0.000000</td>\n",
              "      <td>Fruits and Vegetables</td>\n",
              "      <td>182.0950</td>\n",
              "      <td>OUT010</td>\n",
              "      <td>1998</td>\n",
              "      <td>NaN</td>\n",
              "      <td>Tier 3</td>\n",
              "      <td>Grocery Store</td>\n",
              "      <td>732.3800</td>\n",
              "    </tr>\n",
              "    <tr>\n",
              "      <th>4</th>\n",
              "      <td>NCD19</td>\n",
              "      <td>8.93</td>\n",
              "      <td>Low Fat</td>\n",
              "      <td>0.000000</td>\n",
              "      <td>Household</td>\n",
              "      <td>53.8614</td>\n",
              "      <td>OUT013</td>\n",
              "      <td>1987</td>\n",
              "      <td>High</td>\n",
              "      <td>Tier 3</td>\n",
              "      <td>Supermarket Type1</td>\n",
              "      <td>994.7052</td>\n",
              "    </tr>\n",
              "  </tbody>\n",
              "</table>\n",
              "</div>\n",
              "      <button class=\"colab-df-convert\" onclick=\"convertToInteractive('df-3fe178fe-f3a3-4f48-aa3b-817dbf1c6706')\"\n",
              "              title=\"Convert this dataframe to an interactive table.\"\n",
              "              style=\"display:none;\">\n",
              "        \n",
              "  <svg xmlns=\"http://www.w3.org/2000/svg\" height=\"24px\"viewBox=\"0 0 24 24\"\n",
              "       width=\"24px\">\n",
              "    <path d=\"M0 0h24v24H0V0z\" fill=\"none\"/>\n",
              "    <path d=\"M18.56 5.44l.94 2.06.94-2.06 2.06-.94-2.06-.94-.94-2.06-.94 2.06-2.06.94zm-11 1L8.5 8.5l.94-2.06 2.06-.94-2.06-.94L8.5 2.5l-.94 2.06-2.06.94zm10 10l.94 2.06.94-2.06 2.06-.94-2.06-.94-.94-2.06-.94 2.06-2.06.94z\"/><path d=\"M17.41 7.96l-1.37-1.37c-.4-.4-.92-.59-1.43-.59-.52 0-1.04.2-1.43.59L10.3 9.45l-7.72 7.72c-.78.78-.78 2.05 0 2.83L4 21.41c.39.39.9.59 1.41.59.51 0 1.02-.2 1.41-.59l7.78-7.78 2.81-2.81c.8-.78.8-2.07 0-2.86zM5.41 20L4 18.59l7.72-7.72 1.47 1.35L5.41 20z\"/>\n",
              "  </svg>\n",
              "      </button>\n",
              "      \n",
              "  <style>\n",
              "    .colab-df-container {\n",
              "      display:flex;\n",
              "      flex-wrap:wrap;\n",
              "      gap: 12px;\n",
              "    }\n",
              "\n",
              "    .colab-df-convert {\n",
              "      background-color: #E8F0FE;\n",
              "      border: none;\n",
              "      border-radius: 50%;\n",
              "      cursor: pointer;\n",
              "      display: none;\n",
              "      fill: #1967D2;\n",
              "      height: 32px;\n",
              "      padding: 0 0 0 0;\n",
              "      width: 32px;\n",
              "    }\n",
              "\n",
              "    .colab-df-convert:hover {\n",
              "      background-color: #E2EBFA;\n",
              "      box-shadow: 0px 1px 2px rgba(60, 64, 67, 0.3), 0px 1px 3px 1px rgba(60, 64, 67, 0.15);\n",
              "      fill: #174EA6;\n",
              "    }\n",
              "\n",
              "    [theme=dark] .colab-df-convert {\n",
              "      background-color: #3B4455;\n",
              "      fill: #D2E3FC;\n",
              "    }\n",
              "\n",
              "    [theme=dark] .colab-df-convert:hover {\n",
              "      background-color: #434B5C;\n",
              "      box-shadow: 0px 1px 3px 1px rgba(0, 0, 0, 0.15);\n",
              "      filter: drop-shadow(0px 1px 2px rgba(0, 0, 0, 0.3));\n",
              "      fill: #FFFFFF;\n",
              "    }\n",
              "  </style>\n",
              "\n",
              "      <script>\n",
              "        const buttonEl =\n",
              "          document.querySelector('#df-3fe178fe-f3a3-4f48-aa3b-817dbf1c6706 button.colab-df-convert');\n",
              "        buttonEl.style.display =\n",
              "          google.colab.kernel.accessAllowed ? 'block' : 'none';\n",
              "\n",
              "        async function convertToInteractive(key) {\n",
              "          const element = document.querySelector('#df-3fe178fe-f3a3-4f48-aa3b-817dbf1c6706');\n",
              "          const dataTable =\n",
              "            await google.colab.kernel.invokeFunction('convertToInteractive',\n",
              "                                                     [key], {});\n",
              "          if (!dataTable) return;\n",
              "\n",
              "          const docLinkHtml = 'Like what you see? Visit the ' +\n",
              "            '<a target=\"_blank\" href=https://colab.research.google.com/notebooks/data_table.ipynb>data table notebook</a>'\n",
              "            + ' to learn more about interactive tables.';\n",
              "          element.innerHTML = '';\n",
              "          dataTable['output_type'] = 'display_data';\n",
              "          await google.colab.output.renderOutput(dataTable, element);\n",
              "          const docLink = document.createElement('div');\n",
              "          docLink.innerHTML = docLinkHtml;\n",
              "          element.appendChild(docLink);\n",
              "        }\n",
              "      </script>\n",
              "    </div>\n",
              "  </div>\n",
              "  "
            ]
          },
          "metadata": {},
          "execution_count": 4
        }
      ]
    },
    {
      "cell_type": "markdown",
      "source": [
        "## 1) How many rows and columns?\n",
        "\n",
        "- We will use the following lines:\n",
        "\n",
        "```python\n",
        "# We will find out the shape (rows, columns) by using .shape\n",
        "df.shape\n",
        "```\n",
        "\n",
        "- There are 8523 rows and 12 columns."
      ],
      "metadata": {
        "id": "0GZCn1fexJ_G"
      }
    },
    {
      "cell_type": "code",
      "source": [
        "# This will display the (rows, columns) of the data frame\n",
        "df.shape"
      ],
      "metadata": {
        "id": "402eBkyzuoqT",
        "outputId": "98fa9ab0-3c4d-4a9f-a9b2-e3edfe57cfaa",
        "colab": {
          "base_uri": "https://localhost:8080/"
        }
      },
      "execution_count": null,
      "outputs": [
        {
          "output_type": "execute_result",
          "data": {
            "text/plain": [
              "(8523, 12)"
            ]
          },
          "metadata": {},
          "execution_count": 6
        }
      ]
    },
    {
      "cell_type": "markdown",
      "source": [
        "## 2) What are the datatypes of each variable?\n",
        "\n",
        "- We will use the following lines:\n",
        "\n",
        "```python\n",
        "# This will display the data types of all variables\n",
        "df.dtypes\n",
        "\n",
        "# object - strings\n",
        "# float64 - floats\n",
        "# int64 - integers\n",
        "```\n",
        "\n",
        "- objects (strings) - 'Item_Identifier', 'Item_Fat_Content', 'Item_Type', 'Outlet_Identifier', 'Outlet_Size', 'Outlet_Location_Type', 'Outlet_type'\n",
        "\n",
        "- float64 (floats) - 'Item_Weight', 'Item_Visibility', 'Item_MRP', 'Item_Outlet_Sales'\n",
        "\n",
        "- int64 (integers) - 'Outlet_Establishment_Year'"
      ],
      "metadata": {
        "id": "pVOEmIEbygJj"
      }
    },
    {
      "cell_type": "code",
      "source": [
        "# This will display the data types of the variables\n",
        "df.dtypes"
      ],
      "metadata": {
        "colab": {
          "base_uri": "https://localhost:8080/"
        },
        "id": "jQzC5qeIyh3X",
        "outputId": "36872fea-110e-4c19-e7d8-3abb476e0581"
      },
      "execution_count": null,
      "outputs": [
        {
          "output_type": "execute_result",
          "data": {
            "text/plain": [
              "Item_Identifier               object\n",
              "Item_Weight                  float64\n",
              "Item_Fat_Content              object\n",
              "Item_Visibility              float64\n",
              "Item_Type                     object\n",
              "Item_MRP                     float64\n",
              "Outlet_Identifier             object\n",
              "Outlet_Establishment_Year      int64\n",
              "Outlet_Size                   object\n",
              "Outlet_Location_Type          object\n",
              "Outlet_Type                   object\n",
              "Item_Outlet_Sales            float64\n",
              "dtype: object"
            ]
          },
          "metadata": {},
          "execution_count": 51
        }
      ]
    },
    {
      "cell_type": "markdown",
      "source": [
        "## 3) Are there duplicates? If so, drop any duplicates.\n",
        "\n",
        "- We will use the following lines:\n",
        "\n",
        "```python\n",
        "# This will display the duplicated rows\n",
        "df.duplicated().value_counts()\n",
        "\n",
        "# True - it is a duplicated row\n",
        "# False - it is not a duplicated row\n",
        "```\n",
        "\n",
        "- There are no duplicate rows; therefore, there are no rows to drop."
      ],
      "metadata": {
        "id": "_4Vqp_fDzQwe"
      }
    },
    {
      "cell_type": "code",
      "source": [
        "# This will display the counts of the duplicated rows\n",
        "df.duplicated().value_counts()"
      ],
      "metadata": {
        "colab": {
          "base_uri": "https://localhost:8080/"
        },
        "id": "YAMPGBGFzXxC",
        "outputId": "9dc29704-980f-47b8-ae52-27e5958bd6e4"
      },
      "execution_count": null,
      "outputs": [
        {
          "output_type": "execute_result",
          "data": {
            "text/plain": [
              "False    8523\n",
              "dtype: int64"
            ]
          },
          "metadata": {},
          "execution_count": 13
        }
      ]
    },
    {
      "cell_type": "markdown",
      "source": [
        "## 4) Identify missing values.\n",
        "\n",
        "- We will use the following lines:\n",
        "\n",
        "```python\n",
        "# This will display the missing values for each column\n",
        "df.isna().sum()\n",
        "```\n",
        "\n",
        "- There are 2 rows that appear to have missing values:\n",
        "\n",
        "- Item_Weight is missing 1463 values\n",
        "\n",
        "- Outlet_Size is missing 2410 values\n",
        "\n",
        "- There may be more missing values in other columns but they may have a placeholder (like 'missing') in its place in the column. Item_Visibility has some values that are 0, so those may be missing values."
      ],
      "metadata": {
        "id": "Fu4p-Gww2RLG"
      }
    },
    {
      "cell_type": "code",
      "source": [
        "df.isna().sum()"
      ],
      "metadata": {
        "colab": {
          "base_uri": "https://localhost:8080/"
        },
        "id": "kQQEqb272ibB",
        "outputId": "de36acf5-25ac-4395-d720-d349858fac1a"
      },
      "execution_count": null,
      "outputs": [
        {
          "output_type": "execute_result",
          "data": {
            "text/plain": [
              "Item_Identifier                 0\n",
              "Item_Weight                  1463\n",
              "Item_Fat_Content                0\n",
              "Item_Visibility                 0\n",
              "Item_Type                       0\n",
              "Item_MRP                        0\n",
              "Outlet_Identifier               0\n",
              "Outlet_Establishment_Year       0\n",
              "Outlet_Size                  2410\n",
              "Outlet_Location_Type            0\n",
              "Outlet_Type                     0\n",
              "Item_Outlet_Sales               0\n",
              "dtype: int64"
            ]
          },
          "metadata": {},
          "execution_count": 34
        }
      ]
    },
    {
      "cell_type": "markdown",
      "source": [
        "## 5) Decide on how to address the missing values and do it! (This requires your judgement, so explain your choice).\n",
        "\n",
        "- We will start with the following lines:\n",
        "\n",
        "```python\n",
        "# First lets find out some summary statistics of our columns with missing values\n",
        "\n",
        "# Using .describe() because it is float type data\n",
        "df.['Item_Weight'].describe()\n",
        "# Using .value_counts() because it is string type data\n",
        "df.['Outlet_Size'].value_counts()\n",
        "\n",
        "# Next we will make a decision for each column considering multiple factors\n",
        "# The factors I will consider are:\n",
        "# - What percent of the data is missing (If a relatively small amount of the data is missing, then I will consider deleting those rows)\n",
        "# - What is the min, max, median, mean and std deviation of the data (Are the values close together or are they spread out, if close together I might place the mean values in place of those missing values)\n",
        "# - In context, is the missing data important to the rest of the data set (would someone care or even notice if those data points were missing?)\n",
        "```"
      ],
      "metadata": {
        "id": "3ZbLUBjp4j_d"
      }
    },
    {
      "cell_type": "code",
      "source": [
        "# We have 82.8% of the data\n",
        "df['Item_Weight'].describe()\n",
        "\n",
        "# With over 7000 data values and 1600 missing values\n",
        "# There are no outliers in the data set when considering both the mean and the median\n",
        "# The mean + 2 standard deviations from the mean captures no data points\n",
        "# The median +- 1.5 * the IQR produces fences that are beyond both the min and max\n",
        "\n",
        "# I believe the best course of action is to use the mean and filling in the gaps of the missing data points\n",
        "# I chose the mean over the median because the mean is very close to the middle of the max and the min (~12.9)"
      ],
      "metadata": {
        "colab": {
          "base_uri": "https://localhost:8080/"
        },
        "id": "S0TnyZ5p4ug0",
        "outputId": "7b2d6bb3-9ba6-4a96-e4ee-16075bc08914"
      },
      "execution_count": null,
      "outputs": [
        {
          "output_type": "execute_result",
          "data": {
            "text/plain": [
              "count    7060.000000\n",
              "mean       12.857645\n",
              "std         4.643456\n",
              "min         4.555000\n",
              "25%         8.773750\n",
              "50%        12.600000\n",
              "75%        16.850000\n",
              "max        21.350000\n",
              "Name: Item_Weight, dtype: float64"
            ]
          },
          "metadata": {},
          "execution_count": 42
        }
      ]
    },
    {
      "cell_type": "code",
      "source": [
        "# We have 71.7% of the data\n",
        "df['Outlet_Size'].value_counts()\n",
        "\n",
        "# With nearly 30% of the values missing the size of the outlet\n",
        "# The counts are not very close considering ~45% of the known data is Medium, ~39% of the data is known small, and the rest (~15%) is High\n",
        "# One might consider filling in the missing values with the mode, Medium\n",
        "# I believe that would be filling in too much data, nearly 30%, with one value will not be the best representation\n",
        "# Due to the size of the missing data and that it is categorical, either deleting those rows or filling in the data with \"Missing\" would be the best course of action\n",
        "# There is a other, similar columns like 'Outlet_Location_Type'and 'Outlet_Type' that probably describes the data in similar way\n",
        "\n",
        "# I believe the best course of action at this time is to remove the entire column\n",
        "# I am basing this decision on the fact that there are similar columns to 'Outlet_Size' like 'Outlet_Type' and 'Outlet_Location_Type'"
      ],
      "metadata": {
        "colab": {
          "base_uri": "https://localhost:8080/"
        },
        "id": "kREO1YVk5lhm",
        "outputId": "b431c638-fad9-4a9f-e35b-bfb9f929a6e2"
      },
      "execution_count": null,
      "outputs": [
        {
          "output_type": "execute_result",
          "data": {
            "text/plain": [
              "Medium    2793\n",
              "Small     2388\n",
              "High       932\n",
              "Name: Outlet_Size, dtype: int64"
            ]
          },
          "metadata": {},
          "execution_count": 43
        }
      ]
    },
    {
      "cell_type": "markdown",
      "source": [
        "## Checking in:\n",
        "\n",
        "- We will drop the 'Outlet_Size' column with the following line:\n",
        "```python\n",
        "df.drop(columns='Outlet_Size', inplace=True)\n",
        "```\n",
        "\n",
        "- We will fill in the missing values in 'Item_Weight' with the following lines:\n",
        "```python\n",
        "weight_mean = df['Item_Weight'].mean()\n",
        "df['Item_Weight'].fillna(weight_mean, inplace=True)\n",
        "```"
      ],
      "metadata": {
        "id": "eQN7dX0LEHLf"
      }
    },
    {
      "cell_type": "code",
      "source": [
        "# We are going to start by getting rid of the column 'Outlet_Size'\n",
        "df.drop(columns='Outlet_Size', inplace=True)"
      ],
      "metadata": {
        "id": "uqNYA-6IB-cd"
      },
      "execution_count": null,
      "outputs": []
    },
    {
      "cell_type": "code",
      "source": [
        "# We are going to fill in the missing values with the mean value of the column\n",
        "\n",
        "# Saving the mean as a variable 'weight_mean'\n",
        "weight_mean = df['Item_Weight'].mean()\n",
        "\n",
        "# Dropping the 'na' values with the 'weight_mean' variable\n",
        "df['Item_Weight'].fillna(weight_mean, inplace=True)"
      ],
      "metadata": {
        "id": "iiqzuiaABnc5"
      },
      "execution_count": null,
      "outputs": []
    },
    {
      "cell_type": "markdown",
      "source": [
        "## 6) Confirm that there are no missing values after addressing them.\n",
        "\n",
        "- We will explore the sum of missing values from our data frame using:\n",
        "```python\n",
        "# This subs the missing values\n",
        "df.isna().sum()\n",
        "```"
      ],
      "metadata": {
        "id": "_kjovhrUD1zK"
      }
    },
    {
      "cell_type": "code",
      "source": [
        "# Finding the sum of missing values across the data frame\n",
        "df.isna().sum()"
      ],
      "metadata": {
        "colab": {
          "base_uri": "https://localhost:8080/"
        },
        "id": "Kf65pMkUDz29",
        "outputId": "92952920-a265-4a6a-dac4-55fd86c1b6c1"
      },
      "execution_count": null,
      "outputs": [
        {
          "output_type": "execute_result",
          "data": {
            "text/plain": [
              "Item_Identifier              0\n",
              "Item_Weight                  0\n",
              "Item_Fat_Content             0\n",
              "Item_Visibility              0\n",
              "Item_Type                    0\n",
              "Item_MRP                     0\n",
              "Outlet_Identifier            0\n",
              "Outlet_Establishment_Year    0\n",
              "Outlet_Location_Type         0\n",
              "Outlet_Type                  0\n",
              "Item_Outlet_Sales            0\n",
              "dtype: int64"
            ]
          },
          "metadata": {},
          "execution_count": 69
        }
      ]
    },
    {
      "cell_type": "markdown",
      "source": [
        "## Success!\n",
        "\n",
        "- Our data frame now has no missing values"
      ],
      "metadata": {
        "id": "lW3c0kzKEvh7"
      }
    },
    {
      "cell_type": "markdown",
      "source": [
        "## 7) Find and fix any inconsistent categories of data (example: fix cat, Cat, and cats so that they are consistent)\n",
        "\n",
        "- We will pull up all of the category names and verify the capitalization is consistent and there are no spaces using the following line:\n",
        "\n",
        "```python\n",
        "# This will show all of the columns, their index, a count of their values, and their data type\n",
        "df.info()\n",
        "```"
      ],
      "metadata": {
        "id": "O95mXjIeE9Ax"
      }
    },
    {
      "cell_type": "code",
      "source": [
        "# I will infestigate the columns made of strings\n",
        "\n",
        "df.info()"
      ],
      "metadata": {
        "id": "sN3Dpnu72G24",
        "outputId": "d4cc52b8-c4d4-4368-b713-4c4478d47913",
        "colab": {
          "base_uri": "https://localhost:8080/"
        }
      },
      "execution_count": 30,
      "outputs": [
        {
          "output_type": "stream",
          "name": "stdout",
          "text": [
            "<class 'pandas.core.frame.DataFrame'>\n",
            "RangeIndex: 8523 entries, 0 to 8522\n",
            "Data columns (total 12 columns):\n",
            " #   Column                     Non-Null Count  Dtype  \n",
            "---  ------                     --------------  -----  \n",
            " 0   Item_Identifier            8523 non-null   object \n",
            " 1   Item_Weight                7060 non-null   float64\n",
            " 2   Item_Fat_Content           8523 non-null   object \n",
            " 3   Item_Visibility            8523 non-null   float64\n",
            " 4   Item_Type                  8523 non-null   object \n",
            " 5   Item_MRP                   8523 non-null   float64\n",
            " 6   Outlet_Identifier          8523 non-null   object \n",
            " 7   Outlet_Establishment_Year  8523 non-null   int64  \n",
            " 8   Outlet_Size                6113 non-null   object \n",
            " 9   Outlet_Location_Type       8523 non-null   object \n",
            " 10  Outlet_Type                8523 non-null   object \n",
            " 11  Item_Outlet_Sales          8523 non-null   float64\n",
            "dtypes: float64(4), int64(1), object(7)\n",
            "memory usage: 799.2+ KB\n"
          ]
        }
      ]
    },
    {
      "cell_type": "code",
      "source": [
        "# Here are some inconsistencies I need to fix with Low Fat and Regular\n",
        "\n",
        "df['Item_Fat_Content'].value_counts()"
      ],
      "metadata": {
        "id": "zx_53N_ZylGz",
        "outputId": "6f859495-ffbb-421b-d906-3211f706b4b1",
        "colab": {
          "base_uri": "https://localhost:8080/"
        }
      },
      "execution_count": 20,
      "outputs": [
        {
          "output_type": "execute_result",
          "data": {
            "text/plain": [
              "Low Fat    5089\n",
              "Regular    2889\n",
              "LF          316\n",
              "reg         117\n",
              "low fat     112\n",
              "Name: Item_Fat_Content, dtype: int64"
            ]
          },
          "metadata": {},
          "execution_count": 20
        }
      ]
    },
    {
      "cell_type": "code",
      "source": [
        "# This will replace the LF and low fat to both Low Fat, and reg to Regular\n",
        "\n",
        "df['Item_Fat_Content'].replace({'LF': 'Low Fat', 'reg': 'Regular', 'low fat': 'Low Fat'}, inplace=True)\n",
        "df['Item_Fat_Content'].value_counts()"
      ],
      "metadata": {
        "id": "jBVaJbky0DmR",
        "outputId": "1fedaa17-2faf-4355-b540-3e3b67ea5832",
        "colab": {
          "base_uri": "https://localhost:8080/"
        }
      },
      "execution_count": 29,
      "outputs": [
        {
          "output_type": "execute_result",
          "data": {
            "text/plain": [
              "Low Fat    5517\n",
              "Regular    3006\n",
              "Name: Item_Fat_Content, dtype: int64"
            ]
          },
          "metadata": {},
          "execution_count": 29
        }
      ]
    },
    {
      "cell_type": "code",
      "source": [
        "# No changes need to be made\n",
        "\n",
        "df['Item_Type'].value_counts()"
      ],
      "metadata": {
        "id": "RdQiYBCN2hQb",
        "outputId": "def3c122-9b46-4e29-f0b4-6244afc4dc94",
        "colab": {
          "base_uri": "https://localhost:8080/"
        }
      },
      "execution_count": 31,
      "outputs": [
        {
          "output_type": "execute_result",
          "data": {
            "text/plain": [
              "Fruits and Vegetables    1232\n",
              "Snack Foods              1200\n",
              "Household                 910\n",
              "Frozen Foods              856\n",
              "Dairy                     682\n",
              "Canned                    649\n",
              "Baking Goods              648\n",
              "Health and Hygiene        520\n",
              "Soft Drinks               445\n",
              "Meat                      425\n",
              "Breads                    251\n",
              "Hard Drinks               214\n",
              "Others                    169\n",
              "Starchy Foods             148\n",
              "Breakfast                 110\n",
              "Seafood                    64\n",
              "Name: Item_Type, dtype: int64"
            ]
          },
          "metadata": {},
          "execution_count": 31
        }
      ]
    },
    {
      "cell_type": "code",
      "source": [
        "# No changes need to be made\n",
        "\n",
        "df['Outlet_Size'].value_counts()"
      ],
      "metadata": {
        "id": "EU21bavR2ug3",
        "outputId": "3b4549e6-5f20-4d2b-843b-bbb8f2ae04fd",
        "colab": {
          "base_uri": "https://localhost:8080/"
        }
      },
      "execution_count": 32,
      "outputs": [
        {
          "output_type": "execute_result",
          "data": {
            "text/plain": [
              "Medium    2793\n",
              "Small     2388\n",
              "High       932\n",
              "Name: Outlet_Size, dtype: int64"
            ]
          },
          "metadata": {},
          "execution_count": 32
        }
      ]
    },
    {
      "cell_type": "code",
      "source": [
        "# No changes need to be made\n",
        "\n",
        "df['Outlet_Location_Type'].value_counts()"
      ],
      "metadata": {
        "id": "yZt3UE732xJZ",
        "outputId": "592306c1-c707-4b7c-e9ed-c0aaec64b97d",
        "colab": {
          "base_uri": "https://localhost:8080/"
        }
      },
      "execution_count": 35,
      "outputs": [
        {
          "output_type": "execute_result",
          "data": {
            "text/plain": [
              "Tier 3    3350\n",
              "Tier 2    2785\n",
              "Tier 1    2388\n",
              "Name: Outlet_Location_Type, dtype: int64"
            ]
          },
          "metadata": {},
          "execution_count": 35
        }
      ]
    },
    {
      "cell_type": "code",
      "source": [
        "# No changes need to be made\n",
        "\n",
        "df['Outlet_Type'].value_counts()"
      ],
      "metadata": {
        "id": "IrwQqguL26QJ",
        "outputId": "a2249feb-63c1-471f-b867-8b06c6b1eb57",
        "colab": {
          "base_uri": "https://localhost:8080/"
        }
      },
      "execution_count": 37,
      "outputs": [
        {
          "output_type": "execute_result",
          "data": {
            "text/plain": [
              "Supermarket Type1    5577\n",
              "Grocery Store        1083\n",
              "Supermarket Type3     935\n",
              "Supermarket Type2     928\n",
              "Name: Outlet_Type, dtype: int64"
            ]
          },
          "metadata": {},
          "execution_count": 37
        }
      ]
    },
    {
      "cell_type": "markdown",
      "source": [
        "## 8) For any numerical columns, obtain the summary statistics of each (min, max, mean)\n",
        "\n",
        "- There numerical columns we will explore are:\n",
        "1.   Item_Weight\n",
        "2.   Item_Visibility\n",
        "3.   Item_MRP\n",
        "4.   Outlet_Establishment_Year\n",
        "5.   Item_Outlet_Sales\n",
        "\n",
        "- We will use the following method for each:\n",
        "\n",
        "```python\n",
        "# This provides the summary statistics\n",
        ".describe()\n",
        "```\n"
      ],
      "metadata": {
        "id": "RTAmXcDyGCIu"
      }
    },
    {
      "cell_type": "code",
      "source": [
        "# Item_Weight summary statistics\n",
        "df['Item_Weight'].describe()"
      ],
      "metadata": {
        "colab": {
          "base_uri": "https://localhost:8080/"
        },
        "id": "e5XmgDplGlSc",
        "outputId": "74156b66-dbdf-4979-f37e-121cbfaf9f3c"
      },
      "execution_count": null,
      "outputs": [
        {
          "output_type": "execute_result",
          "data": {
            "text/plain": [
              "count    8523.000000\n",
              "mean       12.857645\n",
              "std         4.226124\n",
              "min         4.555000\n",
              "25%         9.310000\n",
              "50%        12.857645\n",
              "75%        16.000000\n",
              "max        21.350000\n",
              "Name: Item_Weight, dtype: float64"
            ]
          },
          "metadata": {},
          "execution_count": 65
        }
      ]
    },
    {
      "cell_type": "markdown",
      "source": [
        "## Summary Statistics for 'Item_Weight'\n",
        "- min = 4.55\n",
        "- max = 21.35\n",
        "- mean = 12.86"
      ],
      "metadata": {
        "id": "av0Vs_xRH30X"
      }
    },
    {
      "cell_type": "code",
      "source": [
        "# Item_Visibility summary statistics\n",
        "df['Item_Visibility'].describe()"
      ],
      "metadata": {
        "colab": {
          "base_uri": "https://localhost:8080/"
        },
        "id": "hEBwyVFXGuaU",
        "outputId": "8c44e8df-1027-4e20-947d-bdc4f22a2757"
      },
      "execution_count": null,
      "outputs": [
        {
          "output_type": "execute_result",
          "data": {
            "text/plain": [
              "count    8523.000000\n",
              "mean        0.066132\n",
              "std         0.051598\n",
              "min         0.000000\n",
              "25%         0.026989\n",
              "50%         0.053931\n",
              "75%         0.094585\n",
              "max         0.328391\n",
              "Name: Item_Visibility, dtype: float64"
            ]
          },
          "metadata": {},
          "execution_count": 60
        }
      ]
    },
    {
      "cell_type": "markdown",
      "source": [
        "## Summary Statistics for 'Item_Visibility'\n",
        "- min = 0\n",
        "- max = 0.33\n",
        "- mean = 0.07"
      ],
      "metadata": {
        "id": "96RiRznDH_gS"
      }
    },
    {
      "cell_type": "code",
      "source": [
        "# Item_MRP summary statistics\n",
        "df['Item_MRP'].describe()"
      ],
      "metadata": {
        "colab": {
          "base_uri": "https://localhost:8080/"
        },
        "id": "NMnGpgmUG0J5",
        "outputId": "58fc46a7-472f-4180-88ee-593deb9467e1"
      },
      "execution_count": null,
      "outputs": [
        {
          "output_type": "execute_result",
          "data": {
            "text/plain": [
              "count    8523.000000\n",
              "mean      140.992782\n",
              "std        62.275067\n",
              "min        31.290000\n",
              "25%        93.826500\n",
              "50%       143.012800\n",
              "75%       185.643700\n",
              "max       266.888400\n",
              "Name: Item_MRP, dtype: float64"
            ]
          },
          "metadata": {},
          "execution_count": 66
        }
      ]
    },
    {
      "cell_type": "markdown",
      "source": [
        "## Summary Statistics for 'Item_MRP'\n",
        "- min = 31.29\n",
        "- max = 266.89\n",
        "- mean = 140.99"
      ],
      "metadata": {
        "id": "mNzKO6MmIAWD"
      }
    },
    {
      "cell_type": "code",
      "source": [
        "# Outlet_Establishment_Year summary statistics\n",
        "df['Outlet_Establishment_Year'].describe()"
      ],
      "metadata": {
        "colab": {
          "base_uri": "https://localhost:8080/"
        },
        "id": "NJ1TsV9kHHUF",
        "outputId": "8eeb1609-1870-4781-c36e-430cd6616835"
      },
      "execution_count": null,
      "outputs": [
        {
          "output_type": "execute_result",
          "data": {
            "text/plain": [
              "count    8523.000000\n",
              "mean     1997.831867\n",
              "std         8.371760\n",
              "min      1985.000000\n",
              "25%      1987.000000\n",
              "50%      1999.000000\n",
              "75%      2004.000000\n",
              "max      2009.000000\n",
              "Name: Outlet_Establishment_Year, dtype: float64"
            ]
          },
          "metadata": {},
          "execution_count": 72
        }
      ]
    },
    {
      "cell_type": "markdown",
      "source": [
        "## Summary Statistics for 'Outlet_Establishment_Year'\n",
        "- min = 1985\n",
        "- max = 2009\n",
        "- mean = 1997"
      ],
      "metadata": {
        "id": "dt6UJBYGIBD-"
      }
    },
    {
      "cell_type": "code",
      "source": [
        "# Item_Outlet_Sales summary statistics\n",
        "df['Item_Outlet_Sales'].describe()"
      ],
      "metadata": {
        "colab": {
          "base_uri": "https://localhost:8080/"
        },
        "id": "MbwsaIazHNfY",
        "outputId": "f5b07d6e-b7c1-4cdc-b5ea-3f26bc7ff3c1"
      },
      "execution_count": null,
      "outputs": [
        {
          "output_type": "execute_result",
          "data": {
            "text/plain": [
              "count     8523.000000\n",
              "mean      2181.288914\n",
              "std       1706.499616\n",
              "min         33.290000\n",
              "25%        834.247400\n",
              "50%       1794.331000\n",
              "75%       3101.296400\n",
              "max      13086.964800\n",
              "Name: Item_Outlet_Sales, dtype: float64"
            ]
          },
          "metadata": {},
          "execution_count": 68
        }
      ]
    },
    {
      "cell_type": "markdown",
      "source": [
        "## Summary Statistics for 'Item_Outlet_Sales'\n",
        "- min = 33.29\n",
        "- max = 13,086.96\n",
        "- mean = 2181.29"
      ],
      "metadata": {
        "id": "fiNXrqj7ICKr"
      }
    }
  ]
}