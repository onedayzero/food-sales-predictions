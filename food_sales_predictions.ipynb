{
  "nbformat": 4,
  "nbformat_minor": 0,
  "metadata": {
    "colab": {
      "name": "Copy of food_sales_predictions.ipynb",
      "provenance": [],
      "collapsed_sections": [
        "5ZM8XcdxwDis",
        "vMFFUY94iqRC",
        "_4Vqp_fDzQwe",
        "pVOEmIEbygJj",
        "1QECYJbHYUPZ",
        "7emNCLNQYvZl",
        "DDzQpbb6Y8jy",
        "9uftLTodZEda",
        "96RiRznDH_gS",
        "mNzKO6MmIAWD",
        "fiNXrqj7ICKr",
        "BAjRb_41iPFX",
        "fZxZZbXvlh6R",
        "j2b6TEGxl42d",
        "PTaVH_mUmOi4",
        "fvsvCA4rmktd",
        "2BAuILOFY_IG",
        "14baTnbu2LDN",
        "cVpjULqs1xS8",
        "WKibMMxy3M7u"
      ],
      "authorship_tag": "ABX9TyPm1hE4Dgjt8sfjgN4PZuA5",
      "include_colab_link": true
    },
    "kernelspec": {
      "name": "python3",
      "display_name": "Python 3"
    },
    "language_info": {
      "name": "python"
    }
  },
  "cells": [
    {
      "cell_type": "markdown",
      "metadata": {
        "id": "view-in-github",
        "colab_type": "text"
      },
      "source": [
        "<a href=\"https://colab.research.google.com/github/onedayzero/food-sales-predictions/blob/main/food_sales_predictions.ipynb\" target=\"_parent\"><img src=\"https://colab.research.google.com/assets/colab-badge.svg\" alt=\"Open In Colab\"/></a>"
      ]
    },
    {
      "cell_type": "markdown",
      "source": [
        "# Food Sales Predictions\n",
        "-Clint Atterberry\n",
        "\n",
        "-30 June 2022"
      ],
      "metadata": {
        "id": "5ZM8XcdxwDis"
      }
    },
    {
      "cell_type": "markdown",
      "source": [
        "# Setup\n",
        "\n",
        "1. [x] Import libraries\n",
        "2. [x] Read file into DataFrame"
      ],
      "metadata": {
        "id": "tqxH_xfpwMqJ"
      }
    },
    {
      "cell_type": "code",
      "execution_count": 1,
      "metadata": {
        "id": "mWWjU-xF76Ib"
      },
      "outputs": [],
      "source": [
        "# Import Library pandas as pd\n",
        "import matplotlib.pyplot as plt\n",
        "import seaborn as sns\n",
        "import pandas as pd\n",
        "import numpy as np\n",
        "from sklearn.model_selection import train_test_split\n",
        "from sklearn.compose import make_column_selector, make_column_transformer\n",
        "from sklearn.preprocessing import StandardScaler, OneHotEncoder\n",
        "from sklearn.pipeline import make_pipeline\n",
        "from sklearn.impute import SimpleImputer\n",
        "from sklearn.linear_model import LinearRegression\n",
        "from sklearn.pipeline import Pipeline\n",
        "from sklearn.metrics import mean_squared_error, r2_score\n",
        "from sklearn.tree import DecisionTreeRegressor\n",
        "from sklearn import set_config\n",
        "set_config(display='diagram')"
      ]
    },
    {
      "cell_type": "code",
      "source": [
        "# Get csv data from link for assignment\n",
        "df = pd.read_csv('https://docs.google.com/spreadsheets/d/e/2PACX-1vQ9hM0TmmxdZ3whTnYlhnTpQR0bVvUFganKildu6gE-u4P5hMtFyr0VXkgZ6b8IfBvC148lRAvmgAXU/pub?output=csv')\n",
        "df.head()"
      ],
      "metadata": {
        "id": "4j_WiW0V8Dyt",
        "colab": {
          "base_uri": "https://localhost:8080/",
          "height": 357
        },
        "outputId": "92de132f-0749-425e-bb1d-ee829ef508cf"
      },
      "execution_count": 2,
      "outputs": [
        {
          "output_type": "execute_result",
          "data": {
            "text/plain": [
              "  Item_Identifier  Item_Weight Item_Fat_Content  Item_Visibility  \\\n",
              "0           FDA15         9.30          Low Fat         0.016047   \n",
              "1           DRC01         5.92          Regular         0.019278   \n",
              "2           FDN15        17.50          Low Fat         0.016760   \n",
              "3           FDX07        19.20          Regular         0.000000   \n",
              "4           NCD19         8.93          Low Fat         0.000000   \n",
              "\n",
              "               Item_Type  Item_MRP Outlet_Identifier  \\\n",
              "0                  Dairy  249.8092            OUT049   \n",
              "1            Soft Drinks   48.2692            OUT018   \n",
              "2                   Meat  141.6180            OUT049   \n",
              "3  Fruits and Vegetables  182.0950            OUT010   \n",
              "4              Household   53.8614            OUT013   \n",
              "\n",
              "   Outlet_Establishment_Year Outlet_Size Outlet_Location_Type  \\\n",
              "0                       1999      Medium               Tier 1   \n",
              "1                       2009      Medium               Tier 3   \n",
              "2                       1999      Medium               Tier 1   \n",
              "3                       1998         NaN               Tier 3   \n",
              "4                       1987        High               Tier 3   \n",
              "\n",
              "         Outlet_Type  Item_Outlet_Sales  \n",
              "0  Supermarket Type1          3735.1380  \n",
              "1  Supermarket Type2           443.4228  \n",
              "2  Supermarket Type1          2097.2700  \n",
              "3      Grocery Store           732.3800  \n",
              "4  Supermarket Type1           994.7052  "
            ],
            "text/html": [
              "\n",
              "  <div id=\"df-e1793e6a-e6e2-409f-8db8-5f73ac0e0d0d\">\n",
              "    <div class=\"colab-df-container\">\n",
              "      <div>\n",
              "<style scoped>\n",
              "    .dataframe tbody tr th:only-of-type {\n",
              "        vertical-align: middle;\n",
              "    }\n",
              "\n",
              "    .dataframe tbody tr th {\n",
              "        vertical-align: top;\n",
              "    }\n",
              "\n",
              "    .dataframe thead th {\n",
              "        text-align: right;\n",
              "    }\n",
              "</style>\n",
              "<table border=\"1\" class=\"dataframe\">\n",
              "  <thead>\n",
              "    <tr style=\"text-align: right;\">\n",
              "      <th></th>\n",
              "      <th>Item_Identifier</th>\n",
              "      <th>Item_Weight</th>\n",
              "      <th>Item_Fat_Content</th>\n",
              "      <th>Item_Visibility</th>\n",
              "      <th>Item_Type</th>\n",
              "      <th>Item_MRP</th>\n",
              "      <th>Outlet_Identifier</th>\n",
              "      <th>Outlet_Establishment_Year</th>\n",
              "      <th>Outlet_Size</th>\n",
              "      <th>Outlet_Location_Type</th>\n",
              "      <th>Outlet_Type</th>\n",
              "      <th>Item_Outlet_Sales</th>\n",
              "    </tr>\n",
              "  </thead>\n",
              "  <tbody>\n",
              "    <tr>\n",
              "      <th>0</th>\n",
              "      <td>FDA15</td>\n",
              "      <td>9.30</td>\n",
              "      <td>Low Fat</td>\n",
              "      <td>0.016047</td>\n",
              "      <td>Dairy</td>\n",
              "      <td>249.8092</td>\n",
              "      <td>OUT049</td>\n",
              "      <td>1999</td>\n",
              "      <td>Medium</td>\n",
              "      <td>Tier 1</td>\n",
              "      <td>Supermarket Type1</td>\n",
              "      <td>3735.1380</td>\n",
              "    </tr>\n",
              "    <tr>\n",
              "      <th>1</th>\n",
              "      <td>DRC01</td>\n",
              "      <td>5.92</td>\n",
              "      <td>Regular</td>\n",
              "      <td>0.019278</td>\n",
              "      <td>Soft Drinks</td>\n",
              "      <td>48.2692</td>\n",
              "      <td>OUT018</td>\n",
              "      <td>2009</td>\n",
              "      <td>Medium</td>\n",
              "      <td>Tier 3</td>\n",
              "      <td>Supermarket Type2</td>\n",
              "      <td>443.4228</td>\n",
              "    </tr>\n",
              "    <tr>\n",
              "      <th>2</th>\n",
              "      <td>FDN15</td>\n",
              "      <td>17.50</td>\n",
              "      <td>Low Fat</td>\n",
              "      <td>0.016760</td>\n",
              "      <td>Meat</td>\n",
              "      <td>141.6180</td>\n",
              "      <td>OUT049</td>\n",
              "      <td>1999</td>\n",
              "      <td>Medium</td>\n",
              "      <td>Tier 1</td>\n",
              "      <td>Supermarket Type1</td>\n",
              "      <td>2097.2700</td>\n",
              "    </tr>\n",
              "    <tr>\n",
              "      <th>3</th>\n",
              "      <td>FDX07</td>\n",
              "      <td>19.20</td>\n",
              "      <td>Regular</td>\n",
              "      <td>0.000000</td>\n",
              "      <td>Fruits and Vegetables</td>\n",
              "      <td>182.0950</td>\n",
              "      <td>OUT010</td>\n",
              "      <td>1998</td>\n",
              "      <td>NaN</td>\n",
              "      <td>Tier 3</td>\n",
              "      <td>Grocery Store</td>\n",
              "      <td>732.3800</td>\n",
              "    </tr>\n",
              "    <tr>\n",
              "      <th>4</th>\n",
              "      <td>NCD19</td>\n",
              "      <td>8.93</td>\n",
              "      <td>Low Fat</td>\n",
              "      <td>0.000000</td>\n",
              "      <td>Household</td>\n",
              "      <td>53.8614</td>\n",
              "      <td>OUT013</td>\n",
              "      <td>1987</td>\n",
              "      <td>High</td>\n",
              "      <td>Tier 3</td>\n",
              "      <td>Supermarket Type1</td>\n",
              "      <td>994.7052</td>\n",
              "    </tr>\n",
              "  </tbody>\n",
              "</table>\n",
              "</div>\n",
              "      <button class=\"colab-df-convert\" onclick=\"convertToInteractive('df-e1793e6a-e6e2-409f-8db8-5f73ac0e0d0d')\"\n",
              "              title=\"Convert this dataframe to an interactive table.\"\n",
              "              style=\"display:none;\">\n",
              "        \n",
              "  <svg xmlns=\"http://www.w3.org/2000/svg\" height=\"24px\"viewBox=\"0 0 24 24\"\n",
              "       width=\"24px\">\n",
              "    <path d=\"M0 0h24v24H0V0z\" fill=\"none\"/>\n",
              "    <path d=\"M18.56 5.44l.94 2.06.94-2.06 2.06-.94-2.06-.94-.94-2.06-.94 2.06-2.06.94zm-11 1L8.5 8.5l.94-2.06 2.06-.94-2.06-.94L8.5 2.5l-.94 2.06-2.06.94zm10 10l.94 2.06.94-2.06 2.06-.94-2.06-.94-.94-2.06-.94 2.06-2.06.94z\"/><path d=\"M17.41 7.96l-1.37-1.37c-.4-.4-.92-.59-1.43-.59-.52 0-1.04.2-1.43.59L10.3 9.45l-7.72 7.72c-.78.78-.78 2.05 0 2.83L4 21.41c.39.39.9.59 1.41.59.51 0 1.02-.2 1.41-.59l7.78-7.78 2.81-2.81c.8-.78.8-2.07 0-2.86zM5.41 20L4 18.59l7.72-7.72 1.47 1.35L5.41 20z\"/>\n",
              "  </svg>\n",
              "      </button>\n",
              "      \n",
              "  <style>\n",
              "    .colab-df-container {\n",
              "      display:flex;\n",
              "      flex-wrap:wrap;\n",
              "      gap: 12px;\n",
              "    }\n",
              "\n",
              "    .colab-df-convert {\n",
              "      background-color: #E8F0FE;\n",
              "      border: none;\n",
              "      border-radius: 50%;\n",
              "      cursor: pointer;\n",
              "      display: none;\n",
              "      fill: #1967D2;\n",
              "      height: 32px;\n",
              "      padding: 0 0 0 0;\n",
              "      width: 32px;\n",
              "    }\n",
              "\n",
              "    .colab-df-convert:hover {\n",
              "      background-color: #E2EBFA;\n",
              "      box-shadow: 0px 1px 2px rgba(60, 64, 67, 0.3), 0px 1px 3px 1px rgba(60, 64, 67, 0.15);\n",
              "      fill: #174EA6;\n",
              "    }\n",
              "\n",
              "    [theme=dark] .colab-df-convert {\n",
              "      background-color: #3B4455;\n",
              "      fill: #D2E3FC;\n",
              "    }\n",
              "\n",
              "    [theme=dark] .colab-df-convert:hover {\n",
              "      background-color: #434B5C;\n",
              "      box-shadow: 0px 1px 3px 1px rgba(0, 0, 0, 0.15);\n",
              "      filter: drop-shadow(0px 1px 2px rgba(0, 0, 0, 0.3));\n",
              "      fill: #FFFFFF;\n",
              "    }\n",
              "  </style>\n",
              "\n",
              "      <script>\n",
              "        const buttonEl =\n",
              "          document.querySelector('#df-e1793e6a-e6e2-409f-8db8-5f73ac0e0d0d button.colab-df-convert');\n",
              "        buttonEl.style.display =\n",
              "          google.colab.kernel.accessAllowed ? 'block' : 'none';\n",
              "\n",
              "        async function convertToInteractive(key) {\n",
              "          const element = document.querySelector('#df-e1793e6a-e6e2-409f-8db8-5f73ac0e0d0d');\n",
              "          const dataTable =\n",
              "            await google.colab.kernel.invokeFunction('convertToInteractive',\n",
              "                                                     [key], {});\n",
              "          if (!dataTable) return;\n",
              "\n",
              "          const docLinkHtml = 'Like what you see? Visit the ' +\n",
              "            '<a target=\"_blank\" href=https://colab.research.google.com/notebooks/data_table.ipynb>data table notebook</a>'\n",
              "            + ' to learn more about interactive tables.';\n",
              "          element.innerHTML = '';\n",
              "          dataTable['output_type'] = 'display_data';\n",
              "          await google.colab.output.renderOutput(dataTable, element);\n",
              "          const docLink = document.createElement('div');\n",
              "          docLink.innerHTML = docLinkHtml;\n",
              "          element.appendChild(docLink);\n",
              "        }\n",
              "      </script>\n",
              "    </div>\n",
              "  </div>\n",
              "  "
            ]
          },
          "metadata": {},
          "execution_count": 2
        }
      ]
    },
    {
      "cell_type": "markdown",
      "source": [
        "# Pre-Processing\n",
        "Pre-Process the data by\n",
        "1. [x] Exploring the data by finding missing values and duplicate rows\n",
        "2. [x] Make decisions on what to do following step 1\n",
        "3. [x] Look for inconsistencies with the categorical data\n",
        "4. [x] Look for numerical data that may be incorrectly entered by comparing it to the number summary of its column\n",
        "5. [x] Make graphical displays to view the data in more detail"
      ],
      "metadata": {
        "id": "vMFFUY94iqRC"
      }
    },
    {
      "cell_type": "markdown",
      "source": [
        "## Explore the Data\n",
        "\n",
        "1. [x] Looking for and removing any duplicate rows\n",
        "2. [x] Removing columns\n",
        "3. [x] Finding out the data types and make any changes"
      ],
      "metadata": {
        "id": "TPYaH97p8sRh"
      }
    },
    {
      "cell_type": "markdown",
      "source": [
        "### Are there duplicates? If so, drop any duplicates.\n",
        "\n",
        "- There are no duplicate rows; therefore, there are no rows to drop."
      ],
      "metadata": {
        "id": "_4Vqp_fDzQwe"
      }
    },
    {
      "cell_type": "code",
      "source": [
        "# This will display the counts of the duplicated rows\n",
        "df.duplicated().value_counts()"
      ],
      "metadata": {
        "colab": {
          "base_uri": "https://localhost:8080/"
        },
        "id": "YAMPGBGFzXxC",
        "outputId": "d864dbff-e3ab-422b-be3b-76f737ddc239"
      },
      "execution_count": 3,
      "outputs": [
        {
          "output_type": "execute_result",
          "data": {
            "text/plain": [
              "False    8523\n",
              "dtype: int64"
            ]
          },
          "metadata": {},
          "execution_count": 3
        }
      ]
    },
    {
      "cell_type": "markdown",
      "source": [
        "There are no duplicate rows."
      ],
      "metadata": {
        "id": "H4G8KZbsElhF"
      }
    },
    {
      "cell_type": "markdown",
      "source": [
        "### Dropping Columns\n",
        "\n",
        "1. [x] Review column names\n",
        "2. [x] Remove columns that are identifiers or not needed for analysis\n",
        "3. [x] Review that columns were dropped"
      ],
      "metadata": {
        "id": "FHI67F6_E7nu"
      }
    },
    {
      "cell_type": "code",
      "source": [
        "df.columns                                      # Review column names"
      ],
      "metadata": {
        "colab": {
          "base_uri": "https://localhost:8080/"
        },
        "id": "OUGQilH4JJi-",
        "outputId": "97119f8f-0b29-4dc3-ce58-865cb14c72a2"
      },
      "execution_count": 4,
      "outputs": [
        {
          "output_type": "execute_result",
          "data": {
            "text/plain": [
              "Index(['Item_Identifier', 'Item_Weight', 'Item_Fat_Content', 'Item_Visibility',\n",
              "       'Item_Type', 'Item_MRP', 'Outlet_Identifier',\n",
              "       'Outlet_Establishment_Year', 'Outlet_Size', 'Outlet_Location_Type',\n",
              "       'Outlet_Type', 'Item_Outlet_Sales'],\n",
              "      dtype='object')"
            ]
          },
          "metadata": {},
          "execution_count": 4
        }
      ]
    },
    {
      "cell_type": "code",
      "source": [
        "# Remove unneeded columns\n",
        "df.drop(columns=['Item_Identifier',             # Identifer Variable\n",
        "                 'Outlet_Identifier',           # Identifer Variable\n",
        "                 'Outlet_Establishment_Year'    # Not needed for analysis\n",
        "                 ], \n",
        "        inplace=True)\n",
        "df.columns                                      # Review columns were dropped"
      ],
      "metadata": {
        "id": "uqNYA-6IB-cd",
        "colab": {
          "base_uri": "https://localhost:8080/"
        },
        "outputId": "fd63c548-83ca-4061-9d1f-09adcca922a1"
      },
      "execution_count": 5,
      "outputs": [
        {
          "output_type": "execute_result",
          "data": {
            "text/plain": [
              "Index(['Item_Weight', 'Item_Fat_Content', 'Item_Visibility', 'Item_Type',\n",
              "       'Item_MRP', 'Outlet_Size', 'Outlet_Location_Type', 'Outlet_Type',\n",
              "       'Item_Outlet_Sales'],\n",
              "      dtype='object')"
            ]
          },
          "metadata": {},
          "execution_count": 5
        }
      ]
    },
    {
      "cell_type": "markdown",
      "source": [
        "Success! All columns that needed to be dropped were dropped."
      ],
      "metadata": {
        "id": "u7cZUPySJidr"
      }
    },
    {
      "cell_type": "markdown",
      "source": [
        "### Finding out the Data types"
      ],
      "metadata": {
        "id": "pVOEmIEbygJj"
      }
    },
    {
      "cell_type": "code",
      "source": [
        "# Find data types of the columns\n",
        "df.dtypes"
      ],
      "metadata": {
        "colab": {
          "base_uri": "https://localhost:8080/"
        },
        "id": "jQzC5qeIyh3X",
        "outputId": "2bb00f0b-d2b1-4b94-de09-4a1c1b94bdcb"
      },
      "execution_count": 6,
      "outputs": [
        {
          "output_type": "execute_result",
          "data": {
            "text/plain": [
              "Item_Weight             float64\n",
              "Item_Fat_Content         object\n",
              "Item_Visibility         float64\n",
              "Item_Type                object\n",
              "Item_MRP                float64\n",
              "Outlet_Size              object\n",
              "Outlet_Location_Type     object\n",
              "Outlet_Type              object\n",
              "Item_Outlet_Sales       float64\n",
              "dtype: object"
            ]
          },
          "metadata": {},
          "execution_count": 6
        }
      ]
    },
    {
      "cell_type": "markdown",
      "source": [
        "Data Types\n",
        "___\n",
        "1. Objects\n",
        "- Item_Fat_Content\n",
        "- Item_Type\n",
        "- Outlet_Size\n",
        "- Outlet_Location_Type\n",
        "- Outlet_Type\n",
        "___\n",
        "2. floats\n",
        "- Item_Weight\n",
        "- Item_Visibility\n",
        "- Item_MRP\n",
        "- Item_Outlet_Sales\n",
        "___\n",
        "3. Integers\n",
        "- none\n",
        "___\n",
        "All data in the columns appear to have the appropriate type."
      ],
      "metadata": {
        "id": "uEWisK3RKFO9"
      }
    },
    {
      "cell_type": "markdown",
      "source": [
        "## Missing Values\n",
        "\n",
        "1. [x] Search all columns for missing values and determine how to handle the missing values\n",
        "2. [x] Execute decisions"
      ],
      "metadata": {
        "id": "1_dS9hz5M1wO"
      }
    },
    {
      "cell_type": "markdown",
      "source": [
        "### Missing Values"
      ],
      "metadata": {
        "id": "C4DCNxGLRgQL"
      }
    },
    {
      "cell_type": "code",
      "source": [
        "df.isna().sum()"
      ],
      "metadata": {
        "colab": {
          "base_uri": "https://localhost:8080/"
        },
        "id": "HkvV3oz4Q7_B",
        "outputId": "53f00529-3ef1-444a-e3a7-ba280ad3f4c7"
      },
      "execution_count": 7,
      "outputs": [
        {
          "output_type": "execute_result",
          "data": {
            "text/plain": [
              "Item_Weight             1463\n",
              "Item_Fat_Content           0\n",
              "Item_Visibility            0\n",
              "Item_Type                  0\n",
              "Item_MRP                   0\n",
              "Outlet_Size             2410\n",
              "Outlet_Location_Type       0\n",
              "Outlet_Type                0\n",
              "Item_Outlet_Sales          0\n",
              "dtype: int64"
            ]
          },
          "metadata": {},
          "execution_count": 7
        }
      ]
    },
    {
      "cell_type": "markdown",
      "source": [
        "Results\n",
        "___\n",
        "1. There are 1463 missing values in 'Item_Weight'.\n",
        "2. There are 2410 missing values in 'Outlet_Size'. "
      ],
      "metadata": {
        "id": "k15LATiVROCN"
      }
    },
    {
      "cell_type": "code",
      "source": [
        "# Looking at the number summary of 'Item_Weight'\n",
        "df['Item_Weight'].describe()"
      ],
      "metadata": {
        "colab": {
          "base_uri": "https://localhost:8080/"
        },
        "id": "6IJyLCCzRppl",
        "outputId": "4e406767-4cbb-452f-e1c8-892f27db6d95"
      },
      "execution_count": 8,
      "outputs": [
        {
          "output_type": "execute_result",
          "data": {
            "text/plain": [
              "count    7060.000000\n",
              "mean       12.857645\n",
              "std         4.643456\n",
              "min         4.555000\n",
              "25%         8.773750\n",
              "50%        12.600000\n",
              "75%        16.850000\n",
              "max        21.350000\n",
              "Name: Item_Weight, dtype: float64"
            ]
          },
          "metadata": {},
          "execution_count": 8
        }
      ]
    },
    {
      "cell_type": "markdown",
      "source": [
        "Determination on Missing Values for 'Item_Weight'\n",
        "___\n",
        "Due to the 'Item_Weights' having such a potential for understanding the item prices, I will fill in all missing values with the mean score.\n",
        "___\n",
        "*I will fill in the rows that have the missing values with the mean value.*"
      ],
      "metadata": {
        "id": "E0T13Q4XSeSr"
      }
    },
    {
      "cell_type": "code",
      "source": [
        "# Looking at the different values in 'Outlet_Size'\n",
        "df['Outlet_Size'].value_counts()"
      ],
      "metadata": {
        "colab": {
          "base_uri": "https://localhost:8080/"
        },
        "id": "UAeI5dwdRvC5",
        "outputId": "4e0c3803-c1ff-4ca6-b9b9-6acf67d45188"
      },
      "execution_count": 9,
      "outputs": [
        {
          "output_type": "execute_result",
          "data": {
            "text/plain": [
              "Medium    2793\n",
              "Small     2388\n",
              "High       932\n",
              "Name: Outlet_Size, dtype: int64"
            ]
          },
          "metadata": {},
          "execution_count": 9
        }
      ]
    },
    {
      "cell_type": "markdown",
      "source": [
        "Determination on Missing Values for 'Outlet_Size'\n",
        "___\n",
        "Due to 'Outlet_Size' having so many missing values and because the data is ordinal, I will remove the missing rows because the outlet size may be helpful.\n",
        "___\n",
        "*I will remove the rows with missing values."
      ],
      "metadata": {
        "id": "fB5BlJj-RiqO"
      }
    },
    {
      "cell_type": "markdown",
      "source": [
        "### Executing Plans for Dealing with Missing Values\n",
        "\n",
        "1. [x] Fill in the rows that are missing data from 'Item_Weight' using the mean\n",
        "2. [x] Drop rows that are missing data from 'Outlet_Size'"
      ],
      "metadata": {
        "id": "8dBN4-mTXkwc"
      }
    },
    {
      "cell_type": "markdown",
      "source": [
        "#### 'Item_Weight'"
      ],
      "metadata": {
        "id": "Mecz4RxSX-jD"
      }
    },
    {
      "cell_type": "code",
      "source": [
        "# Dropping rows with missing 'Item_Weight' data\n",
        "df['Item_Weight'] = df['Item_Weight'].fillna(df['Item_Weight'].mean())\n",
        "df.isna().sum()"
      ],
      "metadata": {
        "colab": {
          "base_uri": "https://localhost:8080/"
        },
        "id": "LubRXgcPVN1K",
        "outputId": "267ac5a4-496e-4565-94ac-e4a9a240b887"
      },
      "execution_count": 10,
      "outputs": [
        {
          "output_type": "execute_result",
          "data": {
            "text/plain": [
              "Item_Weight                0\n",
              "Item_Fat_Content           0\n",
              "Item_Visibility            0\n",
              "Item_Type                  0\n",
              "Item_MRP                   0\n",
              "Outlet_Size             2410\n",
              "Outlet_Location_Type       0\n",
              "Outlet_Type                0\n",
              "Item_Outlet_Sales          0\n",
              "dtype: int64"
            ]
          },
          "metadata": {},
          "execution_count": 10
        }
      ]
    },
    {
      "cell_type": "markdown",
      "source": [
        "Results\n",
        "___\n",
        "The rows were **successfully** filled in with the mean of the column."
      ],
      "metadata": {
        "id": "3_FoMib1WBy2"
      }
    },
    {
      "cell_type": "markdown",
      "source": [
        "#### 'Outlet_Size'"
      ],
      "metadata": {
        "id": "iGaOncJxYBFb"
      }
    },
    {
      "cell_type": "code",
      "source": [
        "# Drop all rows with missing values\n",
        "df = df.dropna(subset=['Outlet_Size'])\n",
        "df.isna().sum()"
      ],
      "metadata": {
        "colab": {
          "base_uri": "https://localhost:8080/"
        },
        "id": "KLOUHdkrUTKi",
        "outputId": "82043452-52db-4c7a-ab39-40f9d29ba73b"
      },
      "execution_count": 11,
      "outputs": [
        {
          "output_type": "execute_result",
          "data": {
            "text/plain": [
              "Item_Weight             0\n",
              "Item_Fat_Content        0\n",
              "Item_Visibility         0\n",
              "Item_Type               0\n",
              "Item_MRP                0\n",
              "Outlet_Size             0\n",
              "Outlet_Location_Type    0\n",
              "Outlet_Type             0\n",
              "Item_Outlet_Sales       0\n",
              "dtype: int64"
            ]
          },
          "metadata": {},
          "execution_count": 11
        }
      ]
    },
    {
      "cell_type": "markdown",
      "source": [
        "Results\n",
        "___\n",
        "The rows were **successfully** dropped from the DataFrame."
      ],
      "metadata": {
        "id": "WOkWzMOYW7WE"
      }
    },
    {
      "cell_type": "markdown",
      "source": [
        "## Inconsistent Data\n",
        "\n",
        "Explore all categorical columns for inconsitent values*\n",
        "1. [x] Item_Fat_Content\n",
        "2. [x] Item_Type\n",
        "3. [x] Outlet_Location_type\n",
        "4. [x] Outlet_Type\n",
        "\n",
        "*An inconsistent value would be if there were a misspelling of a word or if there were different terms for the same thing in a categorical column. As well, looking at the mins and maxes of numeric columns for something odd or out-of-place."
      ],
      "metadata": {
        "id": "Di9aYHJKXRle"
      }
    },
    {
      "cell_type": "markdown",
      "source": [
        "### 'Item_Fat_Content'"
      ],
      "metadata": {
        "id": "1QECYJbHYUPZ"
      }
    },
    {
      "cell_type": "code",
      "source": [
        "df['Item_Fat_Content'].value_counts()"
      ],
      "metadata": {
        "id": "zx_53N_ZylGz",
        "outputId": "800ffae6-5508-41e8-b474-8b171ac7cbbb",
        "colab": {
          "base_uri": "https://localhost:8080/"
        }
      },
      "execution_count": 12,
      "outputs": [
        {
          "output_type": "execute_result",
          "data": {
            "text/plain": [
              "Low Fat    3641\n",
              "Regular    2076\n",
              "LF          233\n",
              "reg          82\n",
              "low fat      81\n",
              "Name: Item_Fat_Content, dtype: int64"
            ]
          },
          "metadata": {},
          "execution_count": 12
        }
      ]
    },
    {
      "cell_type": "markdown",
      "source": [
        "Analysis\n",
        "___\n",
        "1. Low Fat, LF, and low fat should all be \"Low Fat\"\n",
        "2. Regular and reg should both be \"Regular\""
      ],
      "metadata": {
        "id": "7n4ii9-KYYYc"
      }
    },
    {
      "cell_type": "code",
      "source": [
        "# This will replace the LF and low fat to both Low Fat, and reg to Regular\n",
        "\n",
        "df['Item_Fat_Content'].replace({'LF': 'Low Fat', 'reg': 'Regular', 'low fat': 'Low Fat'}, inplace=True)\n",
        "df['Item_Fat_Content'].value_counts()"
      ],
      "metadata": {
        "id": "jBVaJbky0DmR",
        "outputId": "db09d981-5c93-4834-8cf0-78298865d547",
        "colab": {
          "base_uri": "https://localhost:8080/"
        }
      },
      "execution_count": 13,
      "outputs": [
        {
          "output_type": "stream",
          "name": "stderr",
          "text": [
            "/usr/local/lib/python3.7/dist-packages/pandas/core/generic.py:6619: SettingWithCopyWarning: \n",
            "A value is trying to be set on a copy of a slice from a DataFrame\n",
            "\n",
            "See the caveats in the documentation: https://pandas.pydata.org/pandas-docs/stable/user_guide/indexing.html#returning-a-view-versus-a-copy\n",
            "  return self._update_inplace(result)\n"
          ]
        },
        {
          "output_type": "execute_result",
          "data": {
            "text/plain": [
              "Low Fat    3955\n",
              "Regular    2158\n",
              "Name: Item_Fat_Content, dtype: int64"
            ]
          },
          "metadata": {},
          "execution_count": 13
        }
      ]
    },
    {
      "cell_type": "markdown",
      "source": [
        "Success!"
      ],
      "metadata": {
        "id": "gcdoTzUgYtE_"
      }
    },
    {
      "cell_type": "markdown",
      "source": [
        "### 'Item_Type'"
      ],
      "metadata": {
        "id": "7emNCLNQYvZl"
      }
    },
    {
      "cell_type": "code",
      "source": [
        "df['Item_Type'].value_counts()"
      ],
      "metadata": {
        "id": "RdQiYBCN2hQb",
        "outputId": "853ab372-9f56-48d6-f8b7-98ba40babe2d",
        "colab": {
          "base_uri": "https://localhost:8080/"
        }
      },
      "execution_count": 14,
      "outputs": [
        {
          "output_type": "execute_result",
          "data": {
            "text/plain": [
              "Fruits and Vegetables    883\n",
              "Snack Foods              868\n",
              "Household                649\n",
              "Frozen Foods             615\n",
              "Dairy                    496\n",
              "Canned                   471\n",
              "Baking Goods             463\n",
              "Health and Hygiene       367\n",
              "Soft Drinks              312\n",
              "Meat                     309\n",
              "Breads                   179\n",
              "Hard Drinks              148\n",
              "Others                   123\n",
              "Starchy Foods            105\n",
              "Breakfast                 79\n",
              "Seafood                   46\n",
              "Name: Item_Type, dtype: int64"
            ]
          },
          "metadata": {},
          "execution_count": 14
        }
      ]
    },
    {
      "cell_type": "markdown",
      "source": [
        "Analysis\n",
        "___\n",
        "No adjustments to the data in this column need to be made."
      ],
      "metadata": {
        "id": "49sfKF8dY1ur"
      }
    },
    {
      "cell_type": "markdown",
      "source": [
        "### 'Outlet_Location_Type'"
      ],
      "metadata": {
        "id": "DDzQpbb6Y8jy"
      }
    },
    {
      "cell_type": "code",
      "source": [
        "df['Outlet_Location_Type'].value_counts()"
      ],
      "metadata": {
        "id": "EU21bavR2ug3",
        "outputId": "0ae426b5-0068-4d80-f76c-2c3b7513c8c0",
        "colab": {
          "base_uri": "https://localhost:8080/"
        }
      },
      "execution_count": 15,
      "outputs": [
        {
          "output_type": "execute_result",
          "data": {
            "text/plain": [
              "Tier 3    2795\n",
              "Tier 1    2388\n",
              "Tier 2     930\n",
              "Name: Outlet_Location_Type, dtype: int64"
            ]
          },
          "metadata": {},
          "execution_count": 15
        }
      ]
    },
    {
      "cell_type": "markdown",
      "source": [
        "Analysis\n",
        "___\n",
        "No adjustments to the data in this column need to be made."
      ],
      "metadata": {
        "id": "SAntLucOZAnQ"
      }
    },
    {
      "cell_type": "markdown",
      "source": [
        "### 'Outlet_Type'"
      ],
      "metadata": {
        "id": "9uftLTodZEda"
      }
    },
    {
      "cell_type": "code",
      "source": [
        "df['Outlet_Type'].value_counts()"
      ],
      "metadata": {
        "id": "IrwQqguL26QJ",
        "outputId": "daf338ef-5996-4a59-89a0-28be850f2605",
        "colab": {
          "base_uri": "https://localhost:8080/"
        }
      },
      "execution_count": 16,
      "outputs": [
        {
          "output_type": "execute_result",
          "data": {
            "text/plain": [
              "Supermarket Type1    3722\n",
              "Supermarket Type3     935\n",
              "Supermarket Type2     928\n",
              "Grocery Store         528\n",
              "Name: Outlet_Type, dtype: int64"
            ]
          },
          "metadata": {},
          "execution_count": 16
        }
      ]
    },
    {
      "cell_type": "markdown",
      "source": [
        "Analysis\n",
        "___\n",
        "No adjustments to the data in this column need to be made."
      ],
      "metadata": {
        "id": "YuL1xJMYZIg6"
      }
    },
    {
      "cell_type": "markdown",
      "source": [
        "## Explore Numerical Data\n",
        "\n",
        "For any numerical columns, obtain the summary statistics of each (min, max, mean)\n",
        "\n",
        "1. [x] Item_Weight\n",
        "2. [x] Item_Visibility\n",
        "3. [x] Item_MRP\n",
        "4. [x] Item_Outlet_Sales"
      ],
      "metadata": {
        "id": "RTAmXcDyGCIu"
      }
    },
    {
      "cell_type": "markdown",
      "source": [
        "### Summary Statistics for 'Item_Weight'\n",
        "- min = 4.55\n",
        "- max = 21.35\n",
        "- mean = 12.86"
      ],
      "metadata": {
        "id": "av0Vs_xRH30X"
      }
    },
    {
      "cell_type": "code",
      "source": [
        "# Item_Weight summary statistics\n",
        "df['Item_Weight'].describe()"
      ],
      "metadata": {
        "colab": {
          "base_uri": "https://localhost:8080/"
        },
        "id": "e5XmgDplGlSc",
        "outputId": "3be3ab40-7cbf-4569-e177-afa0b1157ede"
      },
      "execution_count": 17,
      "outputs": [
        {
          "output_type": "execute_result",
          "data": {
            "text/plain": [
              "count    6113.000000\n",
              "mean       12.888856\n",
              "std         4.073798\n",
              "min         4.555000\n",
              "25%         9.800000\n",
              "50%        12.857645\n",
              "75%        15.700000\n",
              "max        21.350000\n",
              "Name: Item_Weight, dtype: float64"
            ]
          },
          "metadata": {},
          "execution_count": 17
        }
      ]
    },
    {
      "cell_type": "markdown",
      "source": [
        "### Summary Statistics for 'Item_Visibility'\n",
        "- min = 0\n",
        "- max = 0.33\n",
        "- mean = 0.07"
      ],
      "metadata": {
        "id": "96RiRznDH_gS"
      }
    },
    {
      "cell_type": "code",
      "source": [
        "# Item_Visibility summary statistics\n",
        "df['Item_Visibility'].describe()"
      ],
      "metadata": {
        "colab": {
          "base_uri": "https://localhost:8080/"
        },
        "id": "hEBwyVFXGuaU",
        "outputId": "742a0906-f854-42a8-8db0-9a6fc6c21c7a"
      },
      "execution_count": 18,
      "outputs": [
        {
          "output_type": "execute_result",
          "data": {
            "text/plain": [
              "count    6113.000000\n",
              "mean        0.064505\n",
              "std         0.050092\n",
              "min         0.000000\n",
              "25%         0.026681\n",
              "50%         0.052811\n",
              "75%         0.092834\n",
              "max         0.328391\n",
              "Name: Item_Visibility, dtype: float64"
            ]
          },
          "metadata": {},
          "execution_count": 18
        }
      ]
    },
    {
      "cell_type": "markdown",
      "source": [
        "### Summary Statistics for 'Item_MRP'\n",
        "- min = 31.29\n",
        "- max = 266.89\n",
        "- mean = 140.99"
      ],
      "metadata": {
        "id": "mNzKO6MmIAWD"
      }
    },
    {
      "cell_type": "code",
      "source": [
        "# Item_MRP summary statistics\n",
        "df['Item_MRP'].describe()"
      ],
      "metadata": {
        "colab": {
          "base_uri": "https://localhost:8080/"
        },
        "id": "NMnGpgmUG0J5",
        "outputId": "8148b34b-9adf-4d18-a194-88ae676e3866"
      },
      "execution_count": 19,
      "outputs": [
        {
          "output_type": "execute_result",
          "data": {
            "text/plain": [
              "count    6113.000000\n",
              "mean      141.256859\n",
              "std        62.229701\n",
              "min        31.290000\n",
              "25%        94.012000\n",
              "50%       143.178600\n",
              "75%       185.892400\n",
              "max       266.888400\n",
              "Name: Item_MRP, dtype: float64"
            ]
          },
          "metadata": {},
          "execution_count": 19
        }
      ]
    },
    {
      "cell_type": "markdown",
      "source": [
        "### Summary Statistics for 'Item_Outlet_Sales'\n",
        "- min = 33.29\n",
        "- max = 13,086.96\n",
        "- mean = 2181.29"
      ],
      "metadata": {
        "id": "fiNXrqj7ICKr"
      }
    },
    {
      "cell_type": "code",
      "source": [
        "# Item_Outlet_Sales summary statistics\n",
        "df['Item_Outlet_Sales'].describe()"
      ],
      "metadata": {
        "colab": {
          "base_uri": "https://localhost:8080/"
        },
        "id": "MbwsaIazHNfY",
        "outputId": "7c957dde-3981-4615-eeca-21ea77efcf98"
      },
      "execution_count": 20,
      "outputs": [
        {
          "output_type": "execute_result",
          "data": {
            "text/plain": [
              "count     6113.000000\n",
              "mean      2322.688445\n",
              "std       1741.592093\n",
              "min         33.955800\n",
              "25%        974.731200\n",
              "50%       1928.156800\n",
              "75%       3271.075400\n",
              "max      13086.964800\n",
              "Name: Item_Outlet_Sales, dtype: float64"
            ]
          },
          "metadata": {},
          "execution_count": 20
        }
      ]
    },
    {
      "cell_type": "markdown",
      "source": [
        "### Summary\n",
        "___\n",
        "All of the summary values appear to be reasonable values."
      ],
      "metadata": {
        "id": "BAjRb_41iPFX"
      }
    },
    {
      "cell_type": "markdown",
      "source": [
        "## Plot histograms of the following:\n",
        "1. [x] Item Weight\n",
        "2. [x] Item Visibility\n",
        "3. [x] Item MRP\n",
        "4. [x] Item Outlet Sales"
      ],
      "metadata": {
        "id": "iUtDhmsrdKdu"
      }
    },
    {
      "cell_type": "markdown",
      "source": [
        "### 'Item_Weight'"
      ],
      "metadata": {
        "id": "1iASf2b3lTNI"
      }
    },
    {
      "cell_type": "code",
      "source": [
        "# Histogram for Item Weight\n",
        "\n",
        "x = df['Item_Weight']\n",
        "y = [0,2,4,6,8,10,12,14,16,18,20,22,24]\n",
        "\n",
        "plt.style.use('seaborn')\n",
        "plt.hist(x,y,ec='black', lw=1, fc=(0,0,1,1))\n",
        "\n",
        "plt.xlabel('Item Weight')\n",
        "plt.ylabel('Count')\n",
        "plt.title('Item Weight')\n",
        "plt.xticks(y)\n",
        "plt.show()"
      ],
      "metadata": {
        "colab": {
          "base_uri": "https://localhost:8080/",
          "height": 0
        },
        "id": "fnNddPkjbYb9",
        "outputId": "010a1be8-d035-4eb5-a85c-866bce632939"
      },
      "execution_count": 21,
      "outputs": [
        {
          "output_type": "display_data",
          "data": {
            "text/plain": [
              "<Figure size 576x396 with 1 Axes>"
            ],
            "image/png": "[encoded data removed]"
          },
          "metadata": {}
        }
      ]
    },
    {
      "cell_type": "markdown",
      "source": [
        "Analysis\n",
        "___\n",
        "Center - The item weight is centered around 13.\n",
        "\n",
        "Shape - The item weight data is unimodal and symmetrical.\n",
        "\n",
        "Spread - The item weight data spans from 4 to 22.\n",
        "\n",
        "Anything Unusual - nothing is particularly unusual about this data."
      ],
      "metadata": {
        "id": "W1ywFpUhju3x"
      }
    },
    {
      "cell_type": "markdown",
      "source": [
        "### 'Item_Visibility'"
      ],
      "metadata": {
        "id": "fZxZZbXvlh6R"
      }
    },
    {
      "cell_type": "code",
      "source": [
        "# Histogram for Item Visibility\n",
        "\n",
        "x = df['Item_Visibility']\n",
        "y = [0,0.06,0.11,0.16,0.21,0.26,0.31,0.36]\n",
        "\n",
        "plt.style.use('seaborn')\n",
        "plt.hist(x,y,ec='black', lw=1, fc=(0,0,1,1))\n",
        "\n",
        "plt.xlabel('Item Visibility')\n",
        "plt.ylabel('Count')\n",
        "plt.title('Item Visibility')\n",
        "plt.xticks(y)\n",
        "plt.show()"
      ],
      "metadata": {
        "colab": {
          "base_uri": "https://localhost:8080/",
          "height": 0
        },
        "id": "F9jLsfrNeUkg",
        "outputId": "cdacb634-ffe0-4568-ff4d-0d1fa514e3db"
      },
      "execution_count": 22,
      "outputs": [
        {
          "output_type": "display_data",
          "data": {
            "text/plain": [
              "<Figure size 576x396 with 1 Axes>"
            ],
            "image/png": "[encoded data removed]"
          },
          "metadata": {}
        }
      ]
    },
    {
      "cell_type": "markdown",
      "source": [
        "Because the histogram is skewed, I will look at the boxplot\n"
      ],
      "metadata": {
        "id": "OoYapQQ8loNx"
      }
    },
    {
      "cell_type": "code",
      "source": [
        "plt.boxplot(df['Item_Visibility']);"
      ],
      "metadata": {
        "colab": {
          "base_uri": "https://localhost:8080/",
          "height": 0
        },
        "id": "8aq2KR8XlonV",
        "outputId": "12d9c34c-147a-4d8c-9dab-206e3b498752"
      },
      "execution_count": 23,
      "outputs": [
        {
          "output_type": "display_data",
          "data": {
            "text/plain": [
              "<Figure size 576x396 with 1 Axes>"
            ],
            "image/png": "[encoded data removed]"
          },
          "metadata": {}
        }
      ]
    },
    {
      "cell_type": "markdown",
      "source": [
        "Analysis\n",
        "___\n",
        "Center - The item visibility data is centered is around 0.05.\n",
        "\n",
        "Shape - The item visibility data is skewed to the right.\n",
        "\n",
        "Spread - The item visibility data is primarily spread from 0 to 0.2. However, there are some outliers above 0.2 but below 0.35.\n",
        "\n",
        "Anything Unusual - There are a number of outliers in this data set that are above the upper fence (which is around 0.2)."
      ],
      "metadata": {
        "id": "7OsfK6a3kMqW"
      }
    },
    {
      "cell_type": "markdown",
      "source": [
        "### 'Item_MRP'"
      ],
      "metadata": {
        "id": "j2b6TEGxl42d"
      }
    },
    {
      "cell_type": "code",
      "source": [
        "# Histogram for Item MRP\n",
        "\n",
        "x = df['Item_MRP']\n",
        "y = [0,25,50,75,100,125,150,175,200,225,250,275,300]\n",
        "     \n",
        "plt.style.use('seaborn')\n",
        "plt.hist(x,y,ec='black', lw=1, fc=(0,0,1,1))\n",
        "\n",
        "plt.xlabel('Item MRP')\n",
        "plt.ylabel('Count')\n",
        "plt.title('Item MRP')\n",
        "plt.xticks(y)\n",
        "plt.show()"
      ],
      "metadata": {
        "colab": {
          "base_uri": "https://localhost:8080/",
          "height": 0
        },
        "id": "C8HCBcuhezNQ",
        "outputId": "f55f6a01-36c4-40d0-8156-c6c1d20a2ef5"
      },
      "execution_count": 24,
      "outputs": [
        {
          "output_type": "display_data",
          "data": {
            "text/plain": [
              "<Figure size 576x396 with 1 Axes>"
            ],
            "image/png": "[encoded data removed]"
          },
          "metadata": {}
        }
      ]
    },
    {
      "cell_type": "markdown",
      "source": [
        "Analysis\n",
        "___\n",
        "Center - The center of the Item MRP data is around 150.\n",
        "\n",
        "Shape - The Item MRP data is fairly unimodal and symmetrical.\n",
        "\n",
        "Spread - The Item MRP data spans from 25 to 275.\n",
        "\n",
        "Anything Unusual - The data is fairly unimodal; however, the data could be interpretted to actually be multimodal. This data might be looked at in 3 sections, 25-125, 125-200, and 200-275. More data would need to be collected to make a better determination or the data should be **experimented** with."
      ],
      "metadata": {
        "id": "8B6yrdxYkNcl"
      }
    },
    {
      "cell_type": "markdown",
      "source": [
        "### 'Item_Visibility'"
      ],
      "metadata": {
        "id": "RaESCKNomJIT"
      }
    },
    {
      "cell_type": "code",
      "source": [
        "# Histogram for Item Visibility\n",
        "\n",
        "x = df['Item_Outlet_Sales']\n",
        "y = [0,1000,2000,3000,4000,5000,6000,7000,8000,9000,10000,11000,12000,13000,14000]\n",
        "\n",
        "plt.style.use('seaborn')\n",
        "plt.hist(x,y,ec='black', lw=1, fc=(0,0,1,1))\n",
        "\n",
        "plt.xlabel('Item Outlet Sales')\n",
        "plt.ylabel('Count')\n",
        "plt.title('Item Outlet Sales')\n",
        "plt.xticks(y)\n",
        "plt.show()"
      ],
      "metadata": {
        "colab": {
          "base_uri": "https://localhost:8080/",
          "height": 0
        },
        "id": "K3i3il1mfUmD",
        "outputId": "b3f2a79f-971a-4d1c-adb2-b8b39446311d"
      },
      "execution_count": 25,
      "outputs": [
        {
          "output_type": "display_data",
          "data": {
            "text/plain": [
              "<Figure size 576x396 with 1 Axes>"
            ],
            "image/png": "[encoded data removed]"
          },
          "metadata": {}
        }
      ]
    },
    {
      "cell_type": "markdown",
      "source": [
        "### Because the histogram is skewed, I will look at the boxplot"
      ],
      "metadata": {
        "id": "PTaVH_mUmOi4"
      }
    },
    {
      "cell_type": "code",
      "source": [
        "plt.boxplot(df['Item_Outlet_Sales']);"
      ],
      "metadata": {
        "colab": {
          "base_uri": "https://localhost:8080/",
          "height": 0
        },
        "id": "QSLYVNEHmO2J",
        "outputId": "52fc56e1-f093-4b06-eef4-f8ddbf26f69c"
      },
      "execution_count": 26,
      "outputs": [
        {
          "output_type": "display_data",
          "data": {
            "text/plain": [
              "<Figure size 576x396 with 1 Axes>"
            ],
            "image/png": "[encoded data removed]"
          },
          "metadata": {}
        }
      ]
    },
    {
      "cell_type": "markdown",
      "source": [
        "Analysis\n",
        "___\n",
        "Center - The item outlet sales data is centered around the value of 2000.\n",
        "\n",
        "Shape - The item outlet sales data is skewed to the right.\n",
        "\n",
        "Spread - The item outlet sales data spreads from 0 to a little over 6000. However, outliers can be found all the way out past 12,000.\n",
        "\n",
        "Anything Unusual - The data is very skewed to the right and has a lot of outliers that go out to **twice the distance** from the *minimum value* to the *upper fence*."
      ],
      "metadata": {
        "id": "4i5AP58QkOae"
      }
    },
    {
      "cell_type": "markdown",
      "source": [
        "### Heat Map of Data"
      ],
      "metadata": {
        "id": "fvsvCA4rmktd"
      }
    },
    {
      "cell_type": "code",
      "source": [
        "# Creating a heat map of the data\n",
        "corr = df.corr()\n",
        "sns.heatmap(corr, cmap = 'Greens', annot = True);"
      ],
      "metadata": {
        "colab": {
          "base_uri": "https://localhost:8080/",
          "height": 0
        },
        "id": "NtipwSWjlDT3",
        "outputId": "6860c7fa-ffb8-45e2-ced7-951a72187434"
      },
      "execution_count": 27,
      "outputs": [
        {
          "output_type": "display_data",
          "data": {
            "text/plain": [
              "<Figure size 576x396 with 2 Axes>"
            ],
            "image/png": "[encoded data removed]"
          },
          "metadata": {}
        }
      ]
    },
    {
      "cell_type": "markdown",
      "source": [
        "Analysis\n",
        "___\n",
        "The data seems to have almost 0 correlation with the exception of the item MRP and the item outlet sales (r = 0.57). More investigation into all of the data sets should be considered, some data might have more of a correlation if spliced into different sections."
      ],
      "metadata": {
        "id": "lk-xXAlrJcDv"
      }
    },
    {
      "cell_type": "markdown",
      "source": [
        "*** 'Item_Outlet_Sales'"
      ],
      "metadata": {
        "id": "E-TXjRMMmtSI"
      }
    },
    {
      "cell_type": "code",
      "source": [
        "## functionize the above plot and call it plot_dist\n",
        "def plot_dist(data, x='Item_Outlet_Sales', figsize=(10,5)):\n",
        "  ## Make a larger fig/ax before plotting\n",
        "  fig, ax = plt.subplots(figsize=figsize)\n",
        "\n",
        "  ## Plot histogram\n",
        "  sns.histplot(data=df, x=x, ax=ax)\n",
        "  ax.set(title='Item Outlet Sales Data');\n",
        "\n",
        "  ## Annotate mean and median\n",
        "  mean_price = df[x].mean()\n",
        "  ax.axvline(mean_price, color='slategray', ls=':', lw=3,\n",
        "            label=f'Mean Price = ${mean_price:,.2f}');\n",
        "\n",
        "  med_price = df[x].median()\n",
        "  ax.axvline(med_price, color='skyblue', ls=':', lw=3,\n",
        "            label=f'Median Price = ${med_price:,.2f}');\n",
        "\n",
        "  ax.legend();\n",
        "  return fig, ax"
      ],
      "metadata": {
        "id": "I00NpyaOIhZ8"
      },
      "execution_count": 28,
      "outputs": []
    },
    {
      "cell_type": "markdown",
      "source": [
        "### 'Item_Outlet_Sales'"
      ],
      "metadata": {
        "id": "K8B0yr6mm4Si"
      }
    },
    {
      "cell_type": "code",
      "source": [
        "fig, ax = plot_dist(df)"
      ],
      "metadata": {
        "colab": {
          "base_uri": "https://localhost:8080/",
          "height": 0
        },
        "id": "dMtGRUlLIyWQ",
        "outputId": "8f7c0093-7a36-4d87-c63c-b72cdc1f5d81"
      },
      "execution_count": 29,
      "outputs": [
        {
          "output_type": "display_data",
          "data": {
            "text/plain": [
              "<Figure size 720x360 with 1 Axes>"
            ],
            "image/png": "[encoded data removed]"
          },
          "metadata": {}
        }
      ]
    },
    {
      "cell_type": "markdown",
      "source": [
        "Analysis\n",
        "___\n",
        "Because this data will be our **target**, I will be more thorough with this display.\n",
        "\n",
        "The mean and median have a *significant* gap. The mean outlet sales are almost $400 **more than** the median outlet sales. This is due to the data being skewed to the right. When exploring this data more, the median will be the best choice for the middle point of the data."
      ],
      "metadata": {
        "id": "tQHRjj0kLCUB"
      }
    },
    {
      "cell_type": "code",
      "source": [
        "# https://jakevdp.github.io/PythonDataScienceHandbook/04.14-visualization-with-seaborn.html\n",
        "# as reference\n",
        "\n",
        "with sns.axes_style('white'):\n",
        "    sns.jointplot(df['Item_MRP'], df['Item_Outlet_Sales'], data=df, kind='hex');"
      ],
      "metadata": {
        "colab": {
          "base_uri": "https://localhost:8080/",
          "height": 0
        },
        "id": "K8RrfUKtJfYw",
        "outputId": "df4cdf9f-d990-4bc9-e053-c2dd7abc87e2"
      },
      "execution_count": 30,
      "outputs": [
        {
          "output_type": "stream",
          "name": "stderr",
          "text": [
            "/usr/local/lib/python3.7/dist-packages/seaborn/_decorators.py:43: FutureWarning: Pass the following variables as keyword args: x, y. From version 0.12, the only valid positional argument will be `data`, and passing other arguments without an explicit keyword will result in an error or misinterpretation.\n",
            "  FutureWarning\n"
          ]
        },
        {
          "output_type": "display_data",
          "data": {
            "text/plain": [
              "<Figure size 432x432 with 3 Axes>"
            ],
            "image/png": "[encoded data removed]"
          },
          "metadata": {}
        }
      ]
    },
    {
      "cell_type": "markdown",
      "source": [
        "Analysis\n",
        "___\n",
        "This graph shows that there are 4 clusters of data within 'Item_Outlet_Sales'. It appears that there are 4 groups:\n",
        "1. less than 75 MRP\n",
        "2. 75 - 125 MRP\n",
        "3. 125 - 200 MRP\n",
        "4. greater than 200 MRP\n",
        "\n",
        "*All values are estimated*"
      ],
      "metadata": {
        "id": "5anU50V6J1a3"
      }
    },
    {
      "cell_type": "markdown",
      "source": [
        "### Outlet Type Comparison"
      ],
      "metadata": {
        "id": "X9w9mXrchisz"
      }
    },
    {
      "cell_type": "code",
      "source": [
        "df['Outlet_Type'].value_counts()"
      ],
      "metadata": {
        "colab": {
          "base_uri": "https://localhost:8080/"
        },
        "id": "14Tny_M0hmL0",
        "outputId": "ed7e084b-4c1c-4a1c-b102-17d5337417f9"
      },
      "execution_count": 31,
      "outputs": [
        {
          "output_type": "execute_result",
          "data": {
            "text/plain": [
              "Supermarket Type1    3722\n",
              "Supermarket Type3     935\n",
              "Supermarket Type2     928\n",
              "Grocery Store         528\n",
              "Name: Outlet_Type, dtype: int64"
            ]
          },
          "metadata": {},
          "execution_count": 31
        }
      ]
    },
    {
      "cell_type": "markdown",
      "source": [
        "The most common type of outlet is Supermarket Type 1. The other outlet types are all fairly similar in quantity."
      ],
      "metadata": {
        "id": "DjaTpT_ZqRFR"
      }
    },
    {
      "cell_type": "markdown",
      "source": [
        "# Prep for Machine Learning"
      ],
      "metadata": {
        "id": "2BAuILOFY_IG"
      }
    },
    {
      "cell_type": "markdown",
      "source": [
        "## Explore the data\n",
        "1. [x] Review the data\n",
        "2. [x] Identify the **Target** and **Features**\n"
      ],
      "metadata": {
        "id": "Oxq6q-AW116o"
      }
    },
    {
      "cell_type": "code",
      "source": [
        "df_ml = df\n",
        "df_ml"
      ],
      "metadata": {
        "id": "Ik1wmnumY-nt",
        "colab": {
          "base_uri": "https://localhost:8080/",
          "height": 0
        },
        "outputId": "29142c98-b491-4dd2-957e-961f1e7e29e4"
      },
      "execution_count": 32,
      "outputs": [
        {
          "output_type": "execute_result",
          "data": {
            "text/plain": [
              "      Item_Weight Item_Fat_Content  Item_Visibility           Item_Type  \\\n",
              "0           9.300          Low Fat         0.016047               Dairy   \n",
              "1           5.920          Regular         0.019278         Soft Drinks   \n",
              "2          17.500          Low Fat         0.016760                Meat   \n",
              "4           8.930          Low Fat         0.000000           Household   \n",
              "5          10.395          Regular         0.000000        Baking Goods   \n",
              "...           ...              ...              ...                 ...   \n",
              "8517       20.750          Regular         0.083607        Frozen Foods   \n",
              "8518        6.865          Low Fat         0.056783         Snack Foods   \n",
              "8520       10.600          Low Fat         0.035186  Health and Hygiene   \n",
              "8521        7.210          Regular         0.145221         Snack Foods   \n",
              "8522       14.800          Low Fat         0.044878         Soft Drinks   \n",
              "\n",
              "      Item_MRP Outlet_Size Outlet_Location_Type        Outlet_Type  \\\n",
              "0     249.8092      Medium               Tier 1  Supermarket Type1   \n",
              "1      48.2692      Medium               Tier 3  Supermarket Type2   \n",
              "2     141.6180      Medium               Tier 1  Supermarket Type1   \n",
              "4      53.8614        High               Tier 3  Supermarket Type1   \n",
              "5      51.4008      Medium               Tier 3  Supermarket Type2   \n",
              "...        ...         ...                  ...                ...   \n",
              "8517  178.8318       Small               Tier 1  Supermarket Type1   \n",
              "8518  214.5218        High               Tier 3  Supermarket Type1   \n",
              "8520   85.1224       Small               Tier 2  Supermarket Type1   \n",
              "8521  103.1332      Medium               Tier 3  Supermarket Type2   \n",
              "8522   75.4670       Small               Tier 1  Supermarket Type1   \n",
              "\n",
              "      Item_Outlet_Sales  \n",
              "0             3735.1380  \n",
              "1              443.4228  \n",
              "2             2097.2700  \n",
              "4              994.7052  \n",
              "5              556.6088  \n",
              "...                 ...  \n",
              "8517          3608.6360  \n",
              "8518          2778.3834  \n",
              "8520          1193.1136  \n",
              "8521          1845.5976  \n",
              "8522           765.6700  \n",
              "\n",
              "[6113 rows x 9 columns]"
            ],
            "text/html": [
              "\n",
              "  <div id=\"df-70dcabff-07d5-4d6c-829f-1f59ccdd3de2\">\n",
              "    <div class=\"colab-df-container\">\n",
              "      <div>\n",
              "<style scoped>\n",
              "    .dataframe tbody tr th:only-of-type {\n",
              "        vertical-align: middle;\n",
              "    }\n",
              "\n",
              "    .dataframe tbody tr th {\n",
              "        vertical-align: top;\n",
              "    }\n",
              "\n",
              "    .dataframe thead th {\n",
              "        text-align: right;\n",
              "    }\n",
              "</style>\n",
              "<table border=\"1\" class=\"dataframe\">\n",
              "  <thead>\n",
              "    <tr style=\"text-align: right;\">\n",
              "      <th></th>\n",
              "      <th>Item_Weight</th>\n",
              "      <th>Item_Fat_Content</th>\n",
              "      <th>Item_Visibility</th>\n",
              "      <th>Item_Type</th>\n",
              "      <th>Item_MRP</th>\n",
              "      <th>Outlet_Size</th>\n",
              "      <th>Outlet_Location_Type</th>\n",
              "      <th>Outlet_Type</th>\n",
              "      <th>Item_Outlet_Sales</th>\n",
              "    </tr>\n",
              "  </thead>\n",
              "  <tbody>\n",
              "    <tr>\n",
              "      <th>0</th>\n",
              "      <td>9.300</td>\n",
              "      <td>Low Fat</td>\n",
              "      <td>0.016047</td>\n",
              "      <td>Dairy</td>\n",
              "      <td>249.8092</td>\n",
              "      <td>Medium</td>\n",
              "      <td>Tier 1</td>\n",
              "      <td>Supermarket Type1</td>\n",
              "      <td>3735.1380</td>\n",
              "    </tr>\n",
              "    <tr>\n",
              "      <th>1</th>\n",
              "      <td>5.920</td>\n",
              "      <td>Regular</td>\n",
              "      <td>0.019278</td>\n",
              "      <td>Soft Drinks</td>\n",
              "      <td>48.2692</td>\n",
              "      <td>Medium</td>\n",
              "      <td>Tier 3</td>\n",
              "      <td>Supermarket Type2</td>\n",
              "      <td>443.4228</td>\n",
              "    </tr>\n",
              "    <tr>\n",
              "      <th>2</th>\n",
              "      <td>17.500</td>\n",
              "      <td>Low Fat</td>\n",
              "      <td>0.016760</td>\n",
              "      <td>Meat</td>\n",
              "      <td>141.6180</td>\n",
              "      <td>Medium</td>\n",
              "      <td>Tier 1</td>\n",
              "      <td>Supermarket Type1</td>\n",
              "      <td>2097.2700</td>\n",
              "    </tr>\n",
              "    <tr>\n",
              "      <th>4</th>\n",
              "      <td>8.930</td>\n",
              "      <td>Low Fat</td>\n",
              "      <td>0.000000</td>\n",
              "      <td>Household</td>\n",
              "      <td>53.8614</td>\n",
              "      <td>High</td>\n",
              "      <td>Tier 3</td>\n",
              "      <td>Supermarket Type1</td>\n",
              "      <td>994.7052</td>\n",
              "    </tr>\n",
              "    <tr>\n",
              "      <th>5</th>\n",
              "      <td>10.395</td>\n",
              "      <td>Regular</td>\n",
              "      <td>0.000000</td>\n",
              "      <td>Baking Goods</td>\n",
              "      <td>51.4008</td>\n",
              "      <td>Medium</td>\n",
              "      <td>Tier 3</td>\n",
              "      <td>Supermarket Type2</td>\n",
              "      <td>556.6088</td>\n",
              "    </tr>\n",
              "    <tr>\n",
              "      <th>...</th>\n",
              "      <td>...</td>\n",
              "      <td>...</td>\n",
              "      <td>...</td>\n",
              "      <td>...</td>\n",
              "      <td>...</td>\n",
              "      <td>...</td>\n",
              "      <td>...</td>\n",
              "      <td>...</td>\n",
              "      <td>...</td>\n",
              "    </tr>\n",
              "    <tr>\n",
              "      <th>8517</th>\n",
              "      <td>20.750</td>\n",
              "      <td>Regular</td>\n",
              "      <td>0.083607</td>\n",
              "      <td>Frozen Foods</td>\n",
              "      <td>178.8318</td>\n",
              "      <td>Small</td>\n",
              "      <td>Tier 1</td>\n",
              "      <td>Supermarket Type1</td>\n",
              "      <td>3608.6360</td>\n",
              "    </tr>\n",
              "    <tr>\n",
              "      <th>8518</th>\n",
              "      <td>6.865</td>\n",
              "      <td>Low Fat</td>\n",
              "      <td>0.056783</td>\n",
              "      <td>Snack Foods</td>\n",
              "      <td>214.5218</td>\n",
              "      <td>High</td>\n",
              "      <td>Tier 3</td>\n",
              "      <td>Supermarket Type1</td>\n",
              "      <td>2778.3834</td>\n",
              "    </tr>\n",
              "    <tr>\n",
              "      <th>8520</th>\n",
              "      <td>10.600</td>\n",
              "      <td>Low Fat</td>\n",
              "      <td>0.035186</td>\n",
              "      <td>Health and Hygiene</td>\n",
              "      <td>85.1224</td>\n",
              "      <td>Small</td>\n",
              "      <td>Tier 2</td>\n",
              "      <td>Supermarket Type1</td>\n",
              "      <td>1193.1136</td>\n",
              "    </tr>\n",
              "    <tr>\n",
              "      <th>8521</th>\n",
              "      <td>7.210</td>\n",
              "      <td>Regular</td>\n",
              "      <td>0.145221</td>\n",
              "      <td>Snack Foods</td>\n",
              "      <td>103.1332</td>\n",
              "      <td>Medium</td>\n",
              "      <td>Tier 3</td>\n",
              "      <td>Supermarket Type2</td>\n",
              "      <td>1845.5976</td>\n",
              "    </tr>\n",
              "    <tr>\n",
              "      <th>8522</th>\n",
              "      <td>14.800</td>\n",
              "      <td>Low Fat</td>\n",
              "      <td>0.044878</td>\n",
              "      <td>Soft Drinks</td>\n",
              "      <td>75.4670</td>\n",
              "      <td>Small</td>\n",
              "      <td>Tier 1</td>\n",
              "      <td>Supermarket Type1</td>\n",
              "      <td>765.6700</td>\n",
              "    </tr>\n",
              "  </tbody>\n",
              "</table>\n",
              "<p>6113 rows × 9 columns</p>\n",
              "</div>\n",
              "      <button class=\"colab-df-convert\" onclick=\"convertToInteractive('df-70dcabff-07d5-4d6c-829f-1f59ccdd3de2')\"\n",
              "              title=\"Convert this dataframe to an interactive table.\"\n",
              "              style=\"display:none;\">\n",
              "        \n",
              "  <svg xmlns=\"http://www.w3.org/2000/svg\" height=\"24px\"viewBox=\"0 0 24 24\"\n",
              "       width=\"24px\">\n",
              "    <path d=\"M0 0h24v24H0V0z\" fill=\"none\"/>\n",
              "    <path d=\"M18.56 5.44l.94 2.06.94-2.06 2.06-.94-2.06-.94-.94-2.06-.94 2.06-2.06.94zm-11 1L8.5 8.5l.94-2.06 2.06-.94-2.06-.94L8.5 2.5l-.94 2.06-2.06.94zm10 10l.94 2.06.94-2.06 2.06-.94-2.06-.94-.94-2.06-.94 2.06-2.06.94z\"/><path d=\"M17.41 7.96l-1.37-1.37c-.4-.4-.92-.59-1.43-.59-.52 0-1.04.2-1.43.59L10.3 9.45l-7.72 7.72c-.78.78-.78 2.05 0 2.83L4 21.41c.39.39.9.59 1.41.59.51 0 1.02-.2 1.41-.59l7.78-7.78 2.81-2.81c.8-.78.8-2.07 0-2.86zM5.41 20L4 18.59l7.72-7.72 1.47 1.35L5.41 20z\"/>\n",
              "  </svg>\n",
              "      </button>\n",
              "      \n",
              "  <style>\n",
              "    .colab-df-container {\n",
              "      display:flex;\n",
              "      flex-wrap:wrap;\n",
              "      gap: 12px;\n",
              "    }\n",
              "\n",
              "    .colab-df-convert {\n",
              "      background-color: #E8F0FE;\n",
              "      border: none;\n",
              "      border-radius: 50%;\n",
              "      cursor: pointer;\n",
              "      display: none;\n",
              "      fill: #1967D2;\n",
              "      height: 32px;\n",
              "      padding: 0 0 0 0;\n",
              "      width: 32px;\n",
              "    }\n",
              "\n",
              "    .colab-df-convert:hover {\n",
              "      background-color: #E2EBFA;\n",
              "      box-shadow: 0px 1px 2px rgba(60, 64, 67, 0.3), 0px 1px 3px 1px rgba(60, 64, 67, 0.15);\n",
              "      fill: #174EA6;\n",
              "    }\n",
              "\n",
              "    [theme=dark] .colab-df-convert {\n",
              "      background-color: #3B4455;\n",
              "      fill: #D2E3FC;\n",
              "    }\n",
              "\n",
              "    [theme=dark] .colab-df-convert:hover {\n",
              "      background-color: #434B5C;\n",
              "      box-shadow: 0px 1px 3px 1px rgba(0, 0, 0, 0.15);\n",
              "      filter: drop-shadow(0px 1px 2px rgba(0, 0, 0, 0.3));\n",
              "      fill: #FFFFFF;\n",
              "    }\n",
              "  </style>\n",
              "\n",
              "      <script>\n",
              "        const buttonEl =\n",
              "          document.querySelector('#df-70dcabff-07d5-4d6c-829f-1f59ccdd3de2 button.colab-df-convert');\n",
              "        buttonEl.style.display =\n",
              "          google.colab.kernel.accessAllowed ? 'block' : 'none';\n",
              "\n",
              "        async function convertToInteractive(key) {\n",
              "          const element = document.querySelector('#df-70dcabff-07d5-4d6c-829f-1f59ccdd3de2');\n",
              "          const dataTable =\n",
              "            await google.colab.kernel.invokeFunction('convertToInteractive',\n",
              "                                                     [key], {});\n",
              "          if (!dataTable) return;\n",
              "\n",
              "          const docLinkHtml = 'Like what you see? Visit the ' +\n",
              "            '<a target=\"_blank\" href=https://colab.research.google.com/notebooks/data_table.ipynb>data table notebook</a>'\n",
              "            + ' to learn more about interactive tables.';\n",
              "          element.innerHTML = '';\n",
              "          dataTable['output_type'] = 'display_data';\n",
              "          await google.colab.output.renderOutput(dataTable, element);\n",
              "          const docLink = document.createElement('div');\n",
              "          docLink.innerHTML = docLinkHtml;\n",
              "          element.appendChild(docLink);\n",
              "        }\n",
              "      </script>\n",
              "    </div>\n",
              "  </div>\n",
              "  "
            ]
          },
          "metadata": {},
          "execution_count": 32
        }
      ]
    },
    {
      "cell_type": "code",
      "source": [
        "# Look at the info from the data\n",
        "df_ml.info()"
      ],
      "metadata": {
        "colab": {
          "base_uri": "https://localhost:8080/"
        },
        "id": "6hqRlB6zZ_CG",
        "outputId": "c8160c05-00c9-4f35-cfbf-7875c491072a"
      },
      "execution_count": 33,
      "outputs": [
        {
          "output_type": "stream",
          "name": "stdout",
          "text": [
            "<class 'pandas.core.frame.DataFrame'>\n",
            "Int64Index: 6113 entries, 0 to 8522\n",
            "Data columns (total 9 columns):\n",
            " #   Column                Non-Null Count  Dtype  \n",
            "---  ------                --------------  -----  \n",
            " 0   Item_Weight           6113 non-null   float64\n",
            " 1   Item_Fat_Content      6113 non-null   object \n",
            " 2   Item_Visibility       6113 non-null   float64\n",
            " 3   Item_Type             6113 non-null   object \n",
            " 4   Item_MRP              6113 non-null   float64\n",
            " 5   Outlet_Size           6113 non-null   object \n",
            " 6   Outlet_Location_Type  6113 non-null   object \n",
            " 7   Outlet_Type           6113 non-null   object \n",
            " 8   Item_Outlet_Sales     6113 non-null   float64\n",
            "dtypes: float64(4), object(5)\n",
            "memory usage: 477.6+ KB\n"
          ]
        }
      ]
    },
    {
      "cell_type": "markdown",
      "source": [
        "## Features\n",
        "Identify the 3 types of Features\n",
        "1. [x] Numerical\n",
        "2. [x] Oridanl\n",
        "3. [x] Nominal\n"
      ],
      "metadata": {
        "id": "vEBXSWEfZRPq"
      }
    },
    {
      "cell_type": "markdown",
      "source": [
        "___\n",
        "**Numerical**\n",
        "___\n",
        "1. Item_Weight\n",
        "2. Item_Visibility\n",
        "3. Item_MRP\n",
        "4. Item_Outlet_Sales\n",
        "___\n",
        "**Ordinal**\n",
        "___\n",
        "1. Item_Fat_Content\n",
        "2. Outlet_Size\n",
        "3. Outlet_Location_Type\n",
        "___\n",
        "**Nominal**\n",
        "___\n",
        "1. Item_Type\n",
        "2. Outlet_Type"
      ],
      "metadata": {
        "id": "SxOH4UGr2yG3"
      }
    },
    {
      "cell_type": "code",
      "source": [
        "# Review all values in object columns\n",
        "for col in df_ml.select_dtypes(include='object').columns:\n",
        "  display(df_ml[col].value_counts())\n",
        "  print('\\n')"
      ],
      "metadata": {
        "colab": {
          "base_uri": "https://localhost:8080/",
          "height": 0
        },
        "id": "Rj9Yz9ymaD9z",
        "outputId": "f025df4f-bb2f-49d6-dd37-22d5abae8c4a"
      },
      "execution_count": 34,
      "outputs": [
        {
          "output_type": "display_data",
          "data": {
            "text/plain": [
              "Low Fat    3955\n",
              "Regular    2158\n",
              "Name: Item_Fat_Content, dtype: int64"
            ]
          },
          "metadata": {}
        },
        {
          "output_type": "stream",
          "name": "stdout",
          "text": [
            "\n",
            "\n"
          ]
        },
        {
          "output_type": "display_data",
          "data": {
            "text/plain": [
              "Fruits and Vegetables    883\n",
              "Snack Foods              868\n",
              "Household                649\n",
              "Frozen Foods             615\n",
              "Dairy                    496\n",
              "Canned                   471\n",
              "Baking Goods             463\n",
              "Health and Hygiene       367\n",
              "Soft Drinks              312\n",
              "Meat                     309\n",
              "Breads                   179\n",
              "Hard Drinks              148\n",
              "Others                   123\n",
              "Starchy Foods            105\n",
              "Breakfast                 79\n",
              "Seafood                   46\n",
              "Name: Item_Type, dtype: int64"
            ]
          },
          "metadata": {}
        },
        {
          "output_type": "stream",
          "name": "stdout",
          "text": [
            "\n",
            "\n"
          ]
        },
        {
          "output_type": "display_data",
          "data": {
            "text/plain": [
              "Medium    2793\n",
              "Small     2388\n",
              "High       932\n",
              "Name: Outlet_Size, dtype: int64"
            ]
          },
          "metadata": {}
        },
        {
          "output_type": "stream",
          "name": "stdout",
          "text": [
            "\n",
            "\n"
          ]
        },
        {
          "output_type": "display_data",
          "data": {
            "text/plain": [
              "Tier 3    2795\n",
              "Tier 1    2388\n",
              "Tier 2     930\n",
              "Name: Outlet_Location_Type, dtype: int64"
            ]
          },
          "metadata": {}
        },
        {
          "output_type": "stream",
          "name": "stdout",
          "text": [
            "\n",
            "\n"
          ]
        },
        {
          "output_type": "display_data",
          "data": {
            "text/plain": [
              "Supermarket Type1    3722\n",
              "Supermarket Type3     935\n",
              "Supermarket Type2     928\n",
              "Grocery Store         528\n",
              "Name: Outlet_Type, dtype: int64"
            ]
          },
          "metadata": {}
        },
        {
          "output_type": "stream",
          "name": "stdout",
          "text": [
            "\n",
            "\n"
          ]
        }
      ]
    },
    {
      "cell_type": "markdown",
      "source": [
        "## Oridinal Encoding\n",
        "Perform Ordinal Encoding on the following 3 features:\n",
        "1. [x] Item_Fat_Content\n",
        "2. [x] Outlet_Size\n",
        "3. [x] Outlet_Location_Type"
      ],
      "metadata": {
        "id": "14baTnbu2LDN"
      }
    },
    {
      "cell_type": "code",
      "source": [
        "# Ordinal Encoding 'Item_Fat_Content'\n",
        "replacement_dictionary = {'Low Fat':0, 'Regular':1}\n",
        "df_ml['Item_Fat_Content'].replace(replacement_dictionary, inplace=True)\n",
        "print(df_ml['Item_Fat_Content'])\n",
        "\n",
        "# Ordinal Encoding 'Outlet_Size'\n",
        "replacement_dictionary = {'Small':0, 'Medium':1, 'High':2}\n",
        "df_ml['Outlet_Size'].replace(replacement_dictionary, inplace=True)\n",
        "print(df_ml['Outlet_Size'])\n",
        "\n",
        "# Ordinal Encoding 'Outlet_Location_Type'\n",
        "replacement_dictionary = {'Tier 1':0, 'Tier 2':1, 'Tier 3':2}\n",
        "df_ml['Outlet_Location_Type'].replace(replacement_dictionary, inplace=True)\n",
        "print(df_ml['Outlet_Location_Type'])"
      ],
      "metadata": {
        "colab": {
          "base_uri": "https://localhost:8080/"
        },
        "id": "g6Bb-wovYxdv",
        "outputId": "bf3b3e05-8bd7-403b-93c7-ea4da1dbcb26"
      },
      "execution_count": 35,
      "outputs": [
        {
          "output_type": "stream",
          "name": "stdout",
          "text": [
            "0       0\n",
            "1       1\n",
            "2       0\n",
            "4       0\n",
            "5       1\n",
            "       ..\n",
            "8517    1\n",
            "8518    0\n",
            "8520    0\n",
            "8521    1\n",
            "8522    0\n",
            "Name: Item_Fat_Content, Length: 6113, dtype: int64\n",
            "0       1\n",
            "1       1\n",
            "2       1\n",
            "4       2\n",
            "5       1\n",
            "       ..\n",
            "8517    0\n",
            "8518    2\n",
            "8520    0\n",
            "8521    1\n",
            "8522    0\n",
            "Name: Outlet_Size, Length: 6113, dtype: int64\n",
            "0       0\n",
            "1       2\n",
            "2       0\n",
            "4       2\n",
            "5       2\n",
            "       ..\n",
            "8517    0\n",
            "8518    2\n",
            "8520    1\n",
            "8521    2\n",
            "8522    0\n",
            "Name: Outlet_Location_Type, Length: 6113, dtype: int64\n"
          ]
        }
      ]
    },
    {
      "cell_type": "markdown",
      "source": [
        "## Create Instances"
      ],
      "metadata": {
        "id": "cVpjULqs1xS8"
      }
    },
    {
      "cell_type": "code",
      "source": [
        "# Imputers\n",
        "freq_imputer = SimpleImputer(strategy='most_frequent')\n",
        "mean_imputer = SimpleImputer(strategy='mean')\n",
        "# Scaler\n",
        "scaler = StandardScaler()\n",
        "# One-hot encoder\n",
        "ohe = OneHotEncoder(handle_unknown='ignore', sparse=False)"
      ],
      "metadata": {
        "id": "Q3uMz59XcckG"
      },
      "execution_count": 36,
      "outputs": []
    },
    {
      "cell_type": "code",
      "source": [
        "# Selectors\n",
        "cat_selector = make_column_selector(dtype_include='object')\n",
        "num_selector = make_column_selector(dtype_include='number')"
      ],
      "metadata": {
        "id": "QhfMXuMIcZSu"
      },
      "execution_count": 37,
      "outputs": []
    },
    {
      "cell_type": "markdown",
      "source": [
        "## Train Test Split Data\n",
        "1. [x] Determine the Features (X matrix)\n",
        "2. [x] Determine the Target (y array)"
      ],
      "metadata": {
        "id": "WKibMMxy3M7u"
      }
    },
    {
      "cell_type": "code",
      "source": [
        "# split X and y, you are predicting price\n",
        "X = df_ml.drop(columns=['Item_Outlet_Sales'])\n",
        "y = df_ml['Item_Outlet_Sales']\n",
        "\n",
        "# split training and test\n",
        "# set random_state to 42 for reproducibility\n",
        "X_train, X_test, y_train, y_test = train_test_split(X, y, random_state=42)"
      ],
      "metadata": {
        "id": "dLlWsMXrac1y"
      },
      "execution_count": 38,
      "outputs": []
    },
    {
      "cell_type": "code",
      "source": [
        "# create a subset of data for only categorical columns\n",
        "train_cat_data = X_train[cat_selector(X_train)]\n",
        "test_cat_data = X_test[cat_selector(X_test)]\n",
        "train_cat_data                                      # To review data selection"
      ],
      "metadata": {
        "colab": {
          "base_uri": "https://localhost:8080/",
          "height": 0
        },
        "id": "MzvsJ0Xl0tOQ",
        "outputId": "d138761b-507e-4c06-e1d0-011972a676b3"
      },
      "execution_count": 39,
      "outputs": [
        {
          "output_type": "execute_result",
          "data": {
            "text/plain": [
              "                  Item_Type        Outlet_Type\n",
              "1190                  Dairy  Supermarket Type2\n",
              "2279  Fruits and Vegetables  Supermarket Type1\n",
              "3526                Seafood  Supermarket Type1\n",
              "4023              Household  Supermarket Type1\n",
              "5687            Snack Foods  Supermarket Type1\n",
              "...                     ...                ...\n",
              "5281     Health and Hygiene  Supermarket Type3\n",
              "7254                 Canned  Supermarket Type1\n",
              "7307                  Dairy  Supermarket Type1\n",
              "7533            Snack Foods  Supermarket Type1\n",
              "1196     Health and Hygiene  Supermarket Type1\n",
              "\n",
              "[4584 rows x 2 columns]"
            ],
            "text/html": [
              "\n",
              "  <div id=\"df-bf169f0c-089e-418b-97dd-e59d529c3bc8\">\n",
              "    <div class=\"colab-df-container\">\n",
              "      <div>\n",
              "<style scoped>\n",
              "    .dataframe tbody tr th:only-of-type {\n",
              "        vertical-align: middle;\n",
              "    }\n",
              "\n",
              "    .dataframe tbody tr th {\n",
              "        vertical-align: top;\n",
              "    }\n",
              "\n",
              "    .dataframe thead th {\n",
              "        text-align: right;\n",
              "    }\n",
              "</style>\n",
              "<table border=\"1\" class=\"dataframe\">\n",
              "  <thead>\n",
              "    <tr style=\"text-align: right;\">\n",
              "      <th></th>\n",
              "      <th>Item_Type</th>\n",
              "      <th>Outlet_Type</th>\n",
              "    </tr>\n",
              "  </thead>\n",
              "  <tbody>\n",
              "    <tr>\n",
              "      <th>1190</th>\n",
              "      <td>Dairy</td>\n",
              "      <td>Supermarket Type2</td>\n",
              "    </tr>\n",
              "    <tr>\n",
              "      <th>2279</th>\n",
              "      <td>Fruits and Vegetables</td>\n",
              "      <td>Supermarket Type1</td>\n",
              "    </tr>\n",
              "    <tr>\n",
              "      <th>3526</th>\n",
              "      <td>Seafood</td>\n",
              "      <td>Supermarket Type1</td>\n",
              "    </tr>\n",
              "    <tr>\n",
              "      <th>4023</th>\n",
              "      <td>Household</td>\n",
              "      <td>Supermarket Type1</td>\n",
              "    </tr>\n",
              "    <tr>\n",
              "      <th>5687</th>\n",
              "      <td>Snack Foods</td>\n",
              "      <td>Supermarket Type1</td>\n",
              "    </tr>\n",
              "    <tr>\n",
              "      <th>...</th>\n",
              "      <td>...</td>\n",
              "      <td>...</td>\n",
              "    </tr>\n",
              "    <tr>\n",
              "      <th>5281</th>\n",
              "      <td>Health and Hygiene</td>\n",
              "      <td>Supermarket Type3</td>\n",
              "    </tr>\n",
              "    <tr>\n",
              "      <th>7254</th>\n",
              "      <td>Canned</td>\n",
              "      <td>Supermarket Type1</td>\n",
              "    </tr>\n",
              "    <tr>\n",
              "      <th>7307</th>\n",
              "      <td>Dairy</td>\n",
              "      <td>Supermarket Type1</td>\n",
              "    </tr>\n",
              "    <tr>\n",
              "      <th>7533</th>\n",
              "      <td>Snack Foods</td>\n",
              "      <td>Supermarket Type1</td>\n",
              "    </tr>\n",
              "    <tr>\n",
              "      <th>1196</th>\n",
              "      <td>Health and Hygiene</td>\n",
              "      <td>Supermarket Type1</td>\n",
              "    </tr>\n",
              "  </tbody>\n",
              "</table>\n",
              "<p>4584 rows × 2 columns</p>\n",
              "</div>\n",
              "      <button class=\"colab-df-convert\" onclick=\"convertToInteractive('df-bf169f0c-089e-418b-97dd-e59d529c3bc8')\"\n",
              "              title=\"Convert this dataframe to an interactive table.\"\n",
              "              style=\"display:none;\">\n",
              "        \n",
              "  <svg xmlns=\"http://www.w3.org/2000/svg\" height=\"24px\"viewBox=\"0 0 24 24\"\n",
              "       width=\"24px\">\n",
              "    <path d=\"M0 0h24v24H0V0z\" fill=\"none\"/>\n",
              "    <path d=\"M18.56 5.44l.94 2.06.94-2.06 2.06-.94-2.06-.94-.94-2.06-.94 2.06-2.06.94zm-11 1L8.5 8.5l.94-2.06 2.06-.94-2.06-.94L8.5 2.5l-.94 2.06-2.06.94zm10 10l.94 2.06.94-2.06 2.06-.94-2.06-.94-.94-2.06-.94 2.06-2.06.94z\"/><path d=\"M17.41 7.96l-1.37-1.37c-.4-.4-.92-.59-1.43-.59-.52 0-1.04.2-1.43.59L10.3 9.45l-7.72 7.72c-.78.78-.78 2.05 0 2.83L4 21.41c.39.39.9.59 1.41.59.51 0 1.02-.2 1.41-.59l7.78-7.78 2.81-2.81c.8-.78.8-2.07 0-2.86zM5.41 20L4 18.59l7.72-7.72 1.47 1.35L5.41 20z\"/>\n",
              "  </svg>\n",
              "      </button>\n",
              "      \n",
              "  <style>\n",
              "    .colab-df-container {\n",
              "      display:flex;\n",
              "      flex-wrap:wrap;\n",
              "      gap: 12px;\n",
              "    }\n",
              "\n",
              "    .colab-df-convert {\n",
              "      background-color: #E8F0FE;\n",
              "      border: none;\n",
              "      border-radius: 50%;\n",
              "      cursor: pointer;\n",
              "      display: none;\n",
              "      fill: #1967D2;\n",
              "      height: 32px;\n",
              "      padding: 0 0 0 0;\n",
              "      width: 32px;\n",
              "    }\n",
              "\n",
              "    .colab-df-convert:hover {\n",
              "      background-color: #E2EBFA;\n",
              "      box-shadow: 0px 1px 2px rgba(60, 64, 67, 0.3), 0px 1px 3px 1px rgba(60, 64, 67, 0.15);\n",
              "      fill: #174EA6;\n",
              "    }\n",
              "\n",
              "    [theme=dark] .colab-df-convert {\n",
              "      background-color: #3B4455;\n",
              "      fill: #D2E3FC;\n",
              "    }\n",
              "\n",
              "    [theme=dark] .colab-df-convert:hover {\n",
              "      background-color: #434B5C;\n",
              "      box-shadow: 0px 1px 3px 1px rgba(0, 0, 0, 0.15);\n",
              "      filter: drop-shadow(0px 1px 2px rgba(0, 0, 0, 0.3));\n",
              "      fill: #FFFFFF;\n",
              "    }\n",
              "  </style>\n",
              "\n",
              "      <script>\n",
              "        const buttonEl =\n",
              "          document.querySelector('#df-bf169f0c-089e-418b-97dd-e59d529c3bc8 button.colab-df-convert');\n",
              "        buttonEl.style.display =\n",
              "          google.colab.kernel.accessAllowed ? 'block' : 'none';\n",
              "\n",
              "        async function convertToInteractive(key) {\n",
              "          const element = document.querySelector('#df-bf169f0c-089e-418b-97dd-e59d529c3bc8');\n",
              "          const dataTable =\n",
              "            await google.colab.kernel.invokeFunction('convertToInteractive',\n",
              "                                                     [key], {});\n",
              "          if (!dataTable) return;\n",
              "\n",
              "          const docLinkHtml = 'Like what you see? Visit the ' +\n",
              "            '<a target=\"_blank\" href=https://colab.research.google.com/notebooks/data_table.ipynb>data table notebook</a>'\n",
              "            + ' to learn more about interactive tables.';\n",
              "          element.innerHTML = '';\n",
              "          dataTable['output_type'] = 'display_data';\n",
              "          await google.colab.output.renderOutput(dataTable, element);\n",
              "          const docLink = document.createElement('div');\n",
              "          docLink.innerHTML = docLinkHtml;\n",
              "          element.appendChild(docLink);\n",
              "        }\n",
              "      </script>\n",
              "    </div>\n",
              "  </div>\n",
              "  "
            ]
          },
          "metadata": {},
          "execution_count": 39
        }
      ]
    },
    {
      "cell_type": "code",
      "source": [
        "# fit the OneHotEncoder on the training data\n",
        "ohe.fit(train_cat_data)\n",
        "#transform both the training and the testing data\n",
        "train_ohe = ohe.transform(train_cat_data)\n",
        "test_ohe = ohe.transform(test_cat_data)\n",
        "train_ohe"
      ],
      "metadata": {
        "colab": {
          "base_uri": "https://localhost:8080/"
        },
        "id": "WoQiQXpb1pBZ",
        "outputId": "a6624528-9fea-4971-f164-84670adecb29"
      },
      "execution_count": 40,
      "outputs": [
        {
          "output_type": "execute_result",
          "data": {
            "text/plain": [
              "array([[0., 0., 0., ..., 0., 1., 0.],\n",
              "       [0., 0., 0., ..., 1., 0., 0.],\n",
              "       [0., 0., 0., ..., 1., 0., 0.],\n",
              "       ...,\n",
              "       [0., 0., 0., ..., 1., 0., 0.],\n",
              "       [0., 0., 0., ..., 1., 0., 0.],\n",
              "       [0., 0., 0., ..., 1., 0., 0.]])"
            ]
          },
          "metadata": {},
          "execution_count": 40
        }
      ]
    },
    {
      "cell_type": "markdown",
      "source": [
        "## Concatenate the One-hot Encoded Categorical Features with the Numeric Features"
      ],
      "metadata": {
        "id": "Yx_LzH1B6hpM"
      }
    },
    {
      "cell_type": "code",
      "source": [
        "# Numeric pipeline\n",
        "numeric_pipe = make_pipeline(mean_imputer, scaler)\n",
        "numeric_pipe"
      ],
      "metadata": {
        "colab": {
          "base_uri": "https://localhost:8080/",
          "height": 0
        },
        "id": "-GAKe-mDccfr",
        "outputId": "5306a896-17b2-47d3-ac15-21d472a4c5e6"
      },
      "execution_count": 41,
      "outputs": [
        {
          "output_type": "execute_result",
          "data": {
            "text/plain": [
              "Pipeline(steps=[('simpleimputer', SimpleImputer()),\n",
              "                ('standardscaler', StandardScaler())])"
            ],
            "text/html": [
              "<style>#sk-b20966b7-fce8-42d2-a601-71ab06780470 {color: black;background-color: white;}#sk-b20966b7-fce8-42d2-a601-71ab06780470 pre{padding: 0;}#sk-b20966b7-fce8-42d2-a601-71ab06780470 div.sk-toggleable {background-color: white;}#sk-b20966b7-fce8-42d2-a601-71ab06780470 label.sk-toggleable__label {cursor: pointer;display: block;width: 100%;margin-bottom: 0;padding: 0.3em;box-sizing: border-box;text-align: center;}#sk-b20966b7-fce8-42d2-a601-71ab06780470 label.sk-toggleable__label-arrow:before {content: \"▸\";float: left;margin-right: 0.25em;color: #696969;}#sk-b20966b7-fce8-42d2-a601-71ab06780470 label.sk-toggleable__label-arrow:hover:before {color: black;}#sk-b20966b7-fce8-42d2-a601-71ab06780470 div.sk-estimator:hover label.sk-toggleable__label-arrow:before {color: black;}#sk-b20966b7-fce8-42d2-a601-71ab06780470 div.sk-toggleable__content {max-height: 0;max-width: 0;overflow: hidden;text-align: left;background-color: #f0f8ff;}#sk-b20966b7-fce8-42d2-a601-71ab06780470 div.sk-toggleable__content pre {margin: 0.2em;color: black;border-radius: 0.25em;background-color: #f0f8ff;}#sk-b20966b7-fce8-42d2-a601-71ab06780470 input.sk-toggleable__control:checked~div.sk-toggleable__content {max-height: 200px;max-width: 100%;overflow: auto;}#sk-b20966b7-fce8-42d2-a601-71ab06780470 input.sk-toggleable__control:checked~label.sk-toggleable__label-arrow:before {content: \"▾\";}#sk-b20966b7-fce8-42d2-a601-71ab06780470 div.sk-estimator input.sk-toggleable__control:checked~label.sk-toggleable__label {background-color: #d4ebff;}#sk-b20966b7-fce8-42d2-a601-71ab06780470 div.sk-label input.sk-toggleable__control:checked~label.sk-toggleable__label {background-color: #d4ebff;}#sk-b20966b7-fce8-42d2-a601-71ab06780470 input.sk-hidden--visually {border: 0;clip: rect(1px 1px 1px 1px);clip: rect(1px, 1px, 1px, 1px);height: 1px;margin: -1px;overflow: hidden;padding: 0;position: absolute;width: 1px;}#sk-b20966b7-fce8-42d2-a601-71ab06780470 div.sk-estimator {font-family: monospace;background-color: #f0f8ff;border: 1px dotted black;border-radius: 0.25em;box-sizing: border-box;margin-bottom: 0.5em;}#sk-b20966b7-fce8-42d2-a601-71ab06780470 div.sk-estimator:hover {background-color: #d4ebff;}#sk-b20966b7-fce8-42d2-a601-71ab06780470 div.sk-parallel-item::after {content: \"\";width: 100%;border-bottom: 1px solid gray;flex-grow: 1;}#sk-b20966b7-fce8-42d2-a601-71ab06780470 div.sk-label:hover label.sk-toggleable__label {background-color: #d4ebff;}#sk-b20966b7-fce8-42d2-a601-71ab06780470 div.sk-serial::before {content: \"\";position: absolute;border-left: 1px solid gray;box-sizing: border-box;top: 2em;bottom: 0;left: 50%;}#sk-b20966b7-fce8-42d2-a601-71ab06780470 div.sk-serial {display: flex;flex-direction: column;align-items: center;background-color: white;padding-right: 0.2em;padding-left: 0.2em;}#sk-b20966b7-fce8-42d2-a601-71ab06780470 div.sk-item {z-index: 1;}#sk-b20966b7-fce8-42d2-a601-71ab06780470 div.sk-parallel {display: flex;align-items: stretch;justify-content: center;background-color: white;}#sk-b20966b7-fce8-42d2-a601-71ab06780470 div.sk-parallel::before {content: \"\";position: absolute;border-left: 1px solid gray;box-sizing: border-box;top: 2em;bottom: 0;left: 50%;}#sk-b20966b7-fce8-42d2-a601-71ab06780470 div.sk-parallel-item {display: flex;flex-direction: column;position: relative;background-color: white;}#sk-b20966b7-fce8-42d2-a601-71ab06780470 div.sk-parallel-item:first-child::after {align-self: flex-end;width: 50%;}#sk-b20966b7-fce8-42d2-a601-71ab06780470 div.sk-parallel-item:last-child::after {align-self: flex-start;width: 50%;}#sk-b20966b7-fce8-42d2-a601-71ab06780470 div.sk-parallel-item:only-child::after {width: 0;}#sk-b20966b7-fce8-42d2-a601-71ab06780470 div.sk-dashed-wrapped {border: 1px dashed gray;margin: 0 0.4em 0.5em 0.4em;box-sizing: border-box;padding-bottom: 0.4em;background-color: white;position: relative;}#sk-b20966b7-fce8-42d2-a601-71ab06780470 div.sk-label label {font-family: monospace;font-weight: bold;background-color: white;display: inline-block;line-height: 1.2em;}#sk-b20966b7-fce8-42d2-a601-71ab06780470 div.sk-label-container {position: relative;z-index: 2;text-align: center;}#sk-b20966b7-fce8-42d2-a601-71ab06780470 div.sk-container {/* jupyter's `normalize.less` sets `[hidden] { display: none; }` but bootstrap.min.css set `[hidden] { display: none !important; }` so we also need the `!important` here to be able to override the default hidden behavior on the sphinx rendered scikit-learn.org. See: https://github.com/scikit-learn/scikit-learn/issues/21755 */display: inline-block !important;position: relative;}#sk-b20966b7-fce8-42d2-a601-71ab06780470 div.sk-text-repr-fallback {display: none;}</style><div id=\"sk-b20966b7-fce8-42d2-a601-71ab06780470\" class=\"sk-top-container\"><div class=\"sk-text-repr-fallback\"><pre>Pipeline(steps=[(&#x27;simpleimputer&#x27;, SimpleImputer()),\n",
              "                (&#x27;standardscaler&#x27;, StandardScaler())])</pre><b>Please rerun this cell to show the HTML repr or trust the notebook.</b></div><div class=\"sk-container\" hidden><div class=\"sk-item sk-dashed-wrapped\"><div class=\"sk-label-container\"><div class=\"sk-label sk-toggleable\"><input class=\"sk-toggleable__control sk-hidden--visually\" id=\"e744d4b9-e305-4b4a-bdd8-75e4d5b534c2\" type=\"checkbox\" ><label for=\"e744d4b9-e305-4b4a-bdd8-75e4d5b534c2\" class=\"sk-toggleable__label sk-toggleable__label-arrow\">Pipeline</label><div class=\"sk-toggleable__content\"><pre>Pipeline(steps=[(&#x27;simpleimputer&#x27;, SimpleImputer()),\n",
              "                (&#x27;standardscaler&#x27;, StandardScaler())])</pre></div></div></div><div class=\"sk-serial\"><div class=\"sk-item\"><div class=\"sk-estimator sk-toggleable\"><input class=\"sk-toggleable__control sk-hidden--visually\" id=\"e757d2e2-73c2-46ef-8029-dbf2cc564264\" type=\"checkbox\" ><label for=\"e757d2e2-73c2-46ef-8029-dbf2cc564264\" class=\"sk-toggleable__label sk-toggleable__label-arrow\">SimpleImputer</label><div class=\"sk-toggleable__content\"><pre>SimpleImputer()</pre></div></div></div><div class=\"sk-item\"><div class=\"sk-estimator sk-toggleable\"><input class=\"sk-toggleable__control sk-hidden--visually\" id=\"325bff4f-a7b1-4218-bfa3-647d879c26a4\" type=\"checkbox\" ><label for=\"325bff4f-a7b1-4218-bfa3-647d879c26a4\" class=\"sk-toggleable__label sk-toggleable__label-arrow\">StandardScaler</label><div class=\"sk-toggleable__content\"><pre>StandardScaler()</pre></div></div></div></div></div></div></div>"
            ]
          },
          "metadata": {},
          "execution_count": 41
        }
      ]
    },
    {
      "cell_type": "code",
      "source": [
        "# Categorical pipeline\n",
        "categorical_pipe = make_pipeline(freq_imputer, ohe)\n",
        "categorical_pipe"
      ],
      "metadata": {
        "colab": {
          "base_uri": "https://localhost:8080/",
          "height": 0
        },
        "id": "9srobebDccaO",
        "outputId": "5fd2fb77-5e28-437b-f437-42aae5f82158"
      },
      "execution_count": 42,
      "outputs": [
        {
          "output_type": "execute_result",
          "data": {
            "text/plain": [
              "Pipeline(steps=[('simpleimputer', SimpleImputer(strategy='most_frequent')),\n",
              "                ('onehotencoder',\n",
              "                 OneHotEncoder(handle_unknown='ignore', sparse=False))])"
            ],
            "text/html": [
              "<style>#sk-4edf2230-5c5a-4abc-936d-54a8e3bdfc51 {color: black;background-color: white;}#sk-4edf2230-5c5a-4abc-936d-54a8e3bdfc51 pre{padding: 0;}#sk-4edf2230-5c5a-4abc-936d-54a8e3bdfc51 div.sk-toggleable {background-color: white;}#sk-4edf2230-5c5a-4abc-936d-54a8e3bdfc51 label.sk-toggleable__label {cursor: pointer;display: block;width: 100%;margin-bottom: 0;padding: 0.3em;box-sizing: border-box;text-align: center;}#sk-4edf2230-5c5a-4abc-936d-54a8e3bdfc51 label.sk-toggleable__label-arrow:before {content: \"▸\";float: left;margin-right: 0.25em;color: #696969;}#sk-4edf2230-5c5a-4abc-936d-54a8e3bdfc51 label.sk-toggleable__label-arrow:hover:before {color: black;}#sk-4edf2230-5c5a-4abc-936d-54a8e3bdfc51 div.sk-estimator:hover label.sk-toggleable__label-arrow:before {color: black;}#sk-4edf2230-5c5a-4abc-936d-54a8e3bdfc51 div.sk-toggleable__content {max-height: 0;max-width: 0;overflow: hidden;text-align: left;background-color: #f0f8ff;}#sk-4edf2230-5c5a-4abc-936d-54a8e3bdfc51 div.sk-toggleable__content pre {margin: 0.2em;color: black;border-radius: 0.25em;background-color: #f0f8ff;}#sk-4edf2230-5c5a-4abc-936d-54a8e3bdfc51 input.sk-toggleable__control:checked~div.sk-toggleable__content {max-height: 200px;max-width: 100%;overflow: auto;}#sk-4edf2230-5c5a-4abc-936d-54a8e3bdfc51 input.sk-toggleable__control:checked~label.sk-toggleable__label-arrow:before {content: \"▾\";}#sk-4edf2230-5c5a-4abc-936d-54a8e3bdfc51 div.sk-estimator input.sk-toggleable__control:checked~label.sk-toggleable__label {background-color: #d4ebff;}#sk-4edf2230-5c5a-4abc-936d-54a8e3bdfc51 div.sk-label input.sk-toggleable__control:checked~label.sk-toggleable__label {background-color: #d4ebff;}#sk-4edf2230-5c5a-4abc-936d-54a8e3bdfc51 input.sk-hidden--visually {border: 0;clip: rect(1px 1px 1px 1px);clip: rect(1px, 1px, 1px, 1px);height: 1px;margin: -1px;overflow: hidden;padding: 0;position: absolute;width: 1px;}#sk-4edf2230-5c5a-4abc-936d-54a8e3bdfc51 div.sk-estimator {font-family: monospace;background-color: #f0f8ff;border: 1px dotted black;border-radius: 0.25em;box-sizing: border-box;margin-bottom: 0.5em;}#sk-4edf2230-5c5a-4abc-936d-54a8e3bdfc51 div.sk-estimator:hover {background-color: #d4ebff;}#sk-4edf2230-5c5a-4abc-936d-54a8e3bdfc51 div.sk-parallel-item::after {content: \"\";width: 100%;border-bottom: 1px solid gray;flex-grow: 1;}#sk-4edf2230-5c5a-4abc-936d-54a8e3bdfc51 div.sk-label:hover label.sk-toggleable__label {background-color: #d4ebff;}#sk-4edf2230-5c5a-4abc-936d-54a8e3bdfc51 div.sk-serial::before {content: \"\";position: absolute;border-left: 1px solid gray;box-sizing: border-box;top: 2em;bottom: 0;left: 50%;}#sk-4edf2230-5c5a-4abc-936d-54a8e3bdfc51 div.sk-serial {display: flex;flex-direction: column;align-items: center;background-color: white;padding-right: 0.2em;padding-left: 0.2em;}#sk-4edf2230-5c5a-4abc-936d-54a8e3bdfc51 div.sk-item {z-index: 1;}#sk-4edf2230-5c5a-4abc-936d-54a8e3bdfc51 div.sk-parallel {display: flex;align-items: stretch;justify-content: center;background-color: white;}#sk-4edf2230-5c5a-4abc-936d-54a8e3bdfc51 div.sk-parallel::before {content: \"\";position: absolute;border-left: 1px solid gray;box-sizing: border-box;top: 2em;bottom: 0;left: 50%;}#sk-4edf2230-5c5a-4abc-936d-54a8e3bdfc51 div.sk-parallel-item {display: flex;flex-direction: column;position: relative;background-color: white;}#sk-4edf2230-5c5a-4abc-936d-54a8e3bdfc51 div.sk-parallel-item:first-child::after {align-self: flex-end;width: 50%;}#sk-4edf2230-5c5a-4abc-936d-54a8e3bdfc51 div.sk-parallel-item:last-child::after {align-self: flex-start;width: 50%;}#sk-4edf2230-5c5a-4abc-936d-54a8e3bdfc51 div.sk-parallel-item:only-child::after {width: 0;}#sk-4edf2230-5c5a-4abc-936d-54a8e3bdfc51 div.sk-dashed-wrapped {border: 1px dashed gray;margin: 0 0.4em 0.5em 0.4em;box-sizing: border-box;padding-bottom: 0.4em;background-color: white;position: relative;}#sk-4edf2230-5c5a-4abc-936d-54a8e3bdfc51 div.sk-label label {font-family: monospace;font-weight: bold;background-color: white;display: inline-block;line-height: 1.2em;}#sk-4edf2230-5c5a-4abc-936d-54a8e3bdfc51 div.sk-label-container {position: relative;z-index: 2;text-align: center;}#sk-4edf2230-5c5a-4abc-936d-54a8e3bdfc51 div.sk-container {/* jupyter's `normalize.less` sets `[hidden] { display: none; }` but bootstrap.min.css set `[hidden] { display: none !important; }` so we also need the `!important` here to be able to override the default hidden behavior on the sphinx rendered scikit-learn.org. See: https://github.com/scikit-learn/scikit-learn/issues/21755 */display: inline-block !important;position: relative;}#sk-4edf2230-5c5a-4abc-936d-54a8e3bdfc51 div.sk-text-repr-fallback {display: none;}</style><div id=\"sk-4edf2230-5c5a-4abc-936d-54a8e3bdfc51\" class=\"sk-top-container\"><div class=\"sk-text-repr-fallback\"><pre>Pipeline(steps=[(&#x27;simpleimputer&#x27;, SimpleImputer(strategy=&#x27;most_frequent&#x27;)),\n",
              "                (&#x27;onehotencoder&#x27;,\n",
              "                 OneHotEncoder(handle_unknown=&#x27;ignore&#x27;, sparse=False))])</pre><b>Please rerun this cell to show the HTML repr or trust the notebook.</b></div><div class=\"sk-container\" hidden><div class=\"sk-item sk-dashed-wrapped\"><div class=\"sk-label-container\"><div class=\"sk-label sk-toggleable\"><input class=\"sk-toggleable__control sk-hidden--visually\" id=\"2fb705f5-de83-4876-95ec-b37277aa0358\" type=\"checkbox\" ><label for=\"2fb705f5-de83-4876-95ec-b37277aa0358\" class=\"sk-toggleable__label sk-toggleable__label-arrow\">Pipeline</label><div class=\"sk-toggleable__content\"><pre>Pipeline(steps=[(&#x27;simpleimputer&#x27;, SimpleImputer(strategy=&#x27;most_frequent&#x27;)),\n",
              "                (&#x27;onehotencoder&#x27;,\n",
              "                 OneHotEncoder(handle_unknown=&#x27;ignore&#x27;, sparse=False))])</pre></div></div></div><div class=\"sk-serial\"><div class=\"sk-item\"><div class=\"sk-estimator sk-toggleable\"><input class=\"sk-toggleable__control sk-hidden--visually\" id=\"df21ae09-a812-4b28-b0c8-73c453bdaf41\" type=\"checkbox\" ><label for=\"df21ae09-a812-4b28-b0c8-73c453bdaf41\" class=\"sk-toggleable__label sk-toggleable__label-arrow\">SimpleImputer</label><div class=\"sk-toggleable__content\"><pre>SimpleImputer(strategy=&#x27;most_frequent&#x27;)</pre></div></div></div><div class=\"sk-item\"><div class=\"sk-estimator sk-toggleable\"><input class=\"sk-toggleable__control sk-hidden--visually\" id=\"2b131c81-87dc-47ed-b84a-6cd6eb70c631\" type=\"checkbox\" ><label for=\"2b131c81-87dc-47ed-b84a-6cd6eb70c631\" class=\"sk-toggleable__label sk-toggleable__label-arrow\">OneHotEncoder</label><div class=\"sk-toggleable__content\"><pre>OneHotEncoder(handle_unknown=&#x27;ignore&#x27;, sparse=False)</pre></div></div></div></div></div></div></div>"
            ]
          },
          "metadata": {},
          "execution_count": 42
        }
      ]
    },
    {
      "cell_type": "code",
      "source": [
        "# Tuples for Column Transformer\n",
        "number_tuple = (numeric_pipe, num_selector)\n",
        "category_tuple = (categorical_pipe, cat_selector)\n",
        "# ColumnTransformer\n",
        "preprocessor = make_column_transformer(number_tuple, category_tuple)\n",
        "preprocessor"
      ],
      "metadata": {
        "colab": {
          "base_uri": "https://localhost:8080/",
          "height": 0
        },
        "id": "j1JkZDlcciyY",
        "outputId": "7e7fb1a4-829e-49cf-a360-1c50ba765c13"
      },
      "execution_count": 43,
      "outputs": [
        {
          "output_type": "execute_result",
          "data": {
            "text/plain": [
              "ColumnTransformer(transformers=[('pipeline-1',\n",
              "                                 Pipeline(steps=[('simpleimputer',\n",
              "                                                  SimpleImputer()),\n",
              "                                                 ('standardscaler',\n",
              "                                                  StandardScaler())]),\n",
              "                                 <sklearn.compose._column_transformer.make_column_selector object at 0x7f7ad18eb110>),\n",
              "                                ('pipeline-2',\n",
              "                                 Pipeline(steps=[('simpleimputer',\n",
              "                                                  SimpleImputer(strategy='most_frequent')),\n",
              "                                                 ('onehotencoder',\n",
              "                                                  OneHotEncoder(handle_unknown='ignore',\n",
              "                                                                sparse=False))]),\n",
              "                                 <sklearn.compose._column_transformer.make_column_selector object at 0x7f7ad18eb050>)])"
            ],
            "text/html": [
              "<style>#sk-032c47c8-fb33-4193-a12d-a1378705c02f {color: black;background-color: white;}#sk-032c47c8-fb33-4193-a12d-a1378705c02f pre{padding: 0;}#sk-032c47c8-fb33-4193-a12d-a1378705c02f div.sk-toggleable {background-color: white;}#sk-032c47c8-fb33-4193-a12d-a1378705c02f label.sk-toggleable__label {cursor: pointer;display: block;width: 100%;margin-bottom: 0;padding: 0.3em;box-sizing: border-box;text-align: center;}#sk-032c47c8-fb33-4193-a12d-a1378705c02f label.sk-toggleable__label-arrow:before {content: \"▸\";float: left;margin-right: 0.25em;color: #696969;}#sk-032c47c8-fb33-4193-a12d-a1378705c02f label.sk-toggleable__label-arrow:hover:before {color: black;}#sk-032c47c8-fb33-4193-a12d-a1378705c02f div.sk-estimator:hover label.sk-toggleable__label-arrow:before {color: black;}#sk-032c47c8-fb33-4193-a12d-a1378705c02f div.sk-toggleable__content {max-height: 0;max-width: 0;overflow: hidden;text-align: left;background-color: #f0f8ff;}#sk-032c47c8-fb33-4193-a12d-a1378705c02f div.sk-toggleable__content pre {margin: 0.2em;color: black;border-radius: 0.25em;background-color: #f0f8ff;}#sk-032c47c8-fb33-4193-a12d-a1378705c02f input.sk-toggleable__control:checked~div.sk-toggleable__content {max-height: 200px;max-width: 100%;overflow: auto;}#sk-032c47c8-fb33-4193-a12d-a1378705c02f input.sk-toggleable__control:checked~label.sk-toggleable__label-arrow:before {content: \"▾\";}#sk-032c47c8-fb33-4193-a12d-a1378705c02f div.sk-estimator input.sk-toggleable__control:checked~label.sk-toggleable__label {background-color: #d4ebff;}#sk-032c47c8-fb33-4193-a12d-a1378705c02f div.sk-label input.sk-toggleable__control:checked~label.sk-toggleable__label {background-color: #d4ebff;}#sk-032c47c8-fb33-4193-a12d-a1378705c02f input.sk-hidden--visually {border: 0;clip: rect(1px 1px 1px 1px);clip: rect(1px, 1px, 1px, 1px);height: 1px;margin: -1px;overflow: hidden;padding: 0;position: absolute;width: 1px;}#sk-032c47c8-fb33-4193-a12d-a1378705c02f div.sk-estimator {font-family: monospace;background-color: #f0f8ff;border: 1px dotted black;border-radius: 0.25em;box-sizing: border-box;margin-bottom: 0.5em;}#sk-032c47c8-fb33-4193-a12d-a1378705c02f div.sk-estimator:hover {background-color: #d4ebff;}#sk-032c47c8-fb33-4193-a12d-a1378705c02f div.sk-parallel-item::after {content: \"\";width: 100%;border-bottom: 1px solid gray;flex-grow: 1;}#sk-032c47c8-fb33-4193-a12d-a1378705c02f div.sk-label:hover label.sk-toggleable__label {background-color: #d4ebff;}#sk-032c47c8-fb33-4193-a12d-a1378705c02f div.sk-serial::before {content: \"\";position: absolute;border-left: 1px solid gray;box-sizing: border-box;top: 2em;bottom: 0;left: 50%;}#sk-032c47c8-fb33-4193-a12d-a1378705c02f div.sk-serial {display: flex;flex-direction: column;align-items: center;background-color: white;padding-right: 0.2em;padding-left: 0.2em;}#sk-032c47c8-fb33-4193-a12d-a1378705c02f div.sk-item {z-index: 1;}#sk-032c47c8-fb33-4193-a12d-a1378705c02f div.sk-parallel {display: flex;align-items: stretch;justify-content: center;background-color: white;}#sk-032c47c8-fb33-4193-a12d-a1378705c02f div.sk-parallel::before {content: \"\";position: absolute;border-left: 1px solid gray;box-sizing: border-box;top: 2em;bottom: 0;left: 50%;}#sk-032c47c8-fb33-4193-a12d-a1378705c02f div.sk-parallel-item {display: flex;flex-direction: column;position: relative;background-color: white;}#sk-032c47c8-fb33-4193-a12d-a1378705c02f div.sk-parallel-item:first-child::after {align-self: flex-end;width: 50%;}#sk-032c47c8-fb33-4193-a12d-a1378705c02f div.sk-parallel-item:last-child::after {align-self: flex-start;width: 50%;}#sk-032c47c8-fb33-4193-a12d-a1378705c02f div.sk-parallel-item:only-child::after {width: 0;}#sk-032c47c8-fb33-4193-a12d-a1378705c02f div.sk-dashed-wrapped {border: 1px dashed gray;margin: 0 0.4em 0.5em 0.4em;box-sizing: border-box;padding-bottom: 0.4em;background-color: white;position: relative;}#sk-032c47c8-fb33-4193-a12d-a1378705c02f div.sk-label label {font-family: monospace;font-weight: bold;background-color: white;display: inline-block;line-height: 1.2em;}#sk-032c47c8-fb33-4193-a12d-a1378705c02f div.sk-label-container {position: relative;z-index: 2;text-align: center;}#sk-032c47c8-fb33-4193-a12d-a1378705c02f div.sk-container {/* jupyter's `normalize.less` sets `[hidden] { display: none; }` but bootstrap.min.css set `[hidden] { display: none !important; }` so we also need the `!important` here to be able to override the default hidden behavior on the sphinx rendered scikit-learn.org. See: https://github.com/scikit-learn/scikit-learn/issues/21755 */display: inline-block !important;position: relative;}#sk-032c47c8-fb33-4193-a12d-a1378705c02f div.sk-text-repr-fallback {display: none;}</style><div id=\"sk-032c47c8-fb33-4193-a12d-a1378705c02f\" class=\"sk-top-container\"><div class=\"sk-text-repr-fallback\"><pre>ColumnTransformer(transformers=[(&#x27;pipeline-1&#x27;,\n",
              "                                 Pipeline(steps=[(&#x27;simpleimputer&#x27;,\n",
              "                                                  SimpleImputer()),\n",
              "                                                 (&#x27;standardscaler&#x27;,\n",
              "                                                  StandardScaler())]),\n",
              "                                 &lt;sklearn.compose._column_transformer.make_column_selector object at 0x7f7ad18eb110&gt;),\n",
              "                                (&#x27;pipeline-2&#x27;,\n",
              "                                 Pipeline(steps=[(&#x27;simpleimputer&#x27;,\n",
              "                                                  SimpleImputer(strategy=&#x27;most_frequent&#x27;)),\n",
              "                                                 (&#x27;onehotencoder&#x27;,\n",
              "                                                  OneHotEncoder(handle_unknown=&#x27;ignore&#x27;,\n",
              "                                                                sparse=False))]),\n",
              "                                 &lt;sklearn.compose._column_transformer.make_column_selector object at 0x7f7ad18eb050&gt;)])</pre><b>Please rerun this cell to show the HTML repr or trust the notebook.</b></div><div class=\"sk-container\" hidden><div class=\"sk-item sk-dashed-wrapped\"><div class=\"sk-label-container\"><div class=\"sk-label sk-toggleable\"><input class=\"sk-toggleable__control sk-hidden--visually\" id=\"4c9cf6eb-7129-4bbb-9e37-f3be20c7e2e4\" type=\"checkbox\" ><label for=\"4c9cf6eb-7129-4bbb-9e37-f3be20c7e2e4\" class=\"sk-toggleable__label sk-toggleable__label-arrow\">ColumnTransformer</label><div class=\"sk-toggleable__content\"><pre>ColumnTransformer(transformers=[(&#x27;pipeline-1&#x27;,\n",
              "                                 Pipeline(steps=[(&#x27;simpleimputer&#x27;,\n",
              "                                                  SimpleImputer()),\n",
              "                                                 (&#x27;standardscaler&#x27;,\n",
              "                                                  StandardScaler())]),\n",
              "                                 &lt;sklearn.compose._column_transformer.make_column_selector object at 0x7f7ad18eb110&gt;),\n",
              "                                (&#x27;pipeline-2&#x27;,\n",
              "                                 Pipeline(steps=[(&#x27;simpleimputer&#x27;,\n",
              "                                                  SimpleImputer(strategy=&#x27;most_frequent&#x27;)),\n",
              "                                                 (&#x27;onehotencoder&#x27;,\n",
              "                                                  OneHotEncoder(handle_unknown=&#x27;ignore&#x27;,\n",
              "                                                                sparse=False))]),\n",
              "                                 &lt;sklearn.compose._column_transformer.make_column_selector object at 0x7f7ad18eb050&gt;)])</pre></div></div></div><div class=\"sk-parallel\"><div class=\"sk-parallel-item\"><div class=\"sk-item\"><div class=\"sk-label-container\"><div class=\"sk-label sk-toggleable\"><input class=\"sk-toggleable__control sk-hidden--visually\" id=\"a831e3f7-615d-4f88-bbef-fa0ef03d1437\" type=\"checkbox\" ><label for=\"a831e3f7-615d-4f88-bbef-fa0ef03d1437\" class=\"sk-toggleable__label sk-toggleable__label-arrow\">pipeline-1</label><div class=\"sk-toggleable__content\"><pre>&lt;sklearn.compose._column_transformer.make_column_selector object at 0x7f7ad18eb110&gt;</pre></div></div></div><div class=\"sk-serial\"><div class=\"sk-item\"><div class=\"sk-serial\"><div class=\"sk-item\"><div class=\"sk-estimator sk-toggleable\"><input class=\"sk-toggleable__control sk-hidden--visually\" id=\"0b21962b-4738-43f9-9b56-f986fa6131e7\" type=\"checkbox\" ><label for=\"0b21962b-4738-43f9-9b56-f986fa6131e7\" class=\"sk-toggleable__label sk-toggleable__label-arrow\">SimpleImputer</label><div class=\"sk-toggleable__content\"><pre>SimpleImputer()</pre></div></div></div><div class=\"sk-item\"><div class=\"sk-estimator sk-toggleable\"><input class=\"sk-toggleable__control sk-hidden--visually\" id=\"68f53116-4a88-4d8a-b16a-139c4a7587ae\" type=\"checkbox\" ><label for=\"68f53116-4a88-4d8a-b16a-139c4a7587ae\" class=\"sk-toggleable__label sk-toggleable__label-arrow\">StandardScaler</label><div class=\"sk-toggleable__content\"><pre>StandardScaler()</pre></div></div></div></div></div></div></div></div><div class=\"sk-parallel-item\"><div class=\"sk-item\"><div class=\"sk-label-container\"><div class=\"sk-label sk-toggleable\"><input class=\"sk-toggleable__control sk-hidden--visually\" id=\"91987753-08a5-48af-ad03-1c0b4946f49f\" type=\"checkbox\" ><label for=\"91987753-08a5-48af-ad03-1c0b4946f49f\" class=\"sk-toggleable__label sk-toggleable__label-arrow\">pipeline-2</label><div class=\"sk-toggleable__content\"><pre>&lt;sklearn.compose._column_transformer.make_column_selector object at 0x7f7ad18eb050&gt;</pre></div></div></div><div class=\"sk-serial\"><div class=\"sk-item\"><div class=\"sk-serial\"><div class=\"sk-item\"><div class=\"sk-estimator sk-toggleable\"><input class=\"sk-toggleable__control sk-hidden--visually\" id=\"913ea5ac-b554-4a85-8fcd-f15ddfe1e5de\" type=\"checkbox\" ><label for=\"913ea5ac-b554-4a85-8fcd-f15ddfe1e5de\" class=\"sk-toggleable__label sk-toggleable__label-arrow\">SimpleImputer</label><div class=\"sk-toggleable__content\"><pre>SimpleImputer(strategy=&#x27;most_frequent&#x27;)</pre></div></div></div><div class=\"sk-item\"><div class=\"sk-estimator sk-toggleable\"><input class=\"sk-toggleable__control sk-hidden--visually\" id=\"63a46596-7448-4ace-a272-a5c13c1f2cbc\" type=\"checkbox\" ><label for=\"63a46596-7448-4ace-a272-a5c13c1f2cbc\" class=\"sk-toggleable__label sk-toggleable__label-arrow\">OneHotEncoder</label><div class=\"sk-toggleable__content\"><pre>OneHotEncoder(handle_unknown=&#x27;ignore&#x27;, sparse=False)</pre></div></div></div></div></div></div></div></div></div></div></div></div>"
            ]
          },
          "metadata": {},
          "execution_count": 43
        }
      ]
    },
    {
      "cell_type": "code",
      "source": [
        "# fit on train\n",
        "preprocessor.fit(X_train)"
      ],
      "metadata": {
        "colab": {
          "base_uri": "https://localhost:8080/",
          "height": 0
        },
        "id": "gPtEvyesciv8",
        "outputId": "5bef3634-d22f-460e-b0dd-dfcd2eb27e6c"
      },
      "execution_count": 44,
      "outputs": [
        {
          "output_type": "execute_result",
          "data": {
            "text/plain": [
              "ColumnTransformer(transformers=[('pipeline-1',\n",
              "                                 Pipeline(steps=[('simpleimputer',\n",
              "                                                  SimpleImputer()),\n",
              "                                                 ('standardscaler',\n",
              "                                                  StandardScaler())]),\n",
              "                                 <sklearn.compose._column_transformer.make_column_selector object at 0x7f7ad18eb110>),\n",
              "                                ('pipeline-2',\n",
              "                                 Pipeline(steps=[('simpleimputer',\n",
              "                                                  SimpleImputer(strategy='most_frequent')),\n",
              "                                                 ('onehotencoder',\n",
              "                                                  OneHotEncoder(handle_unknown='ignore',\n",
              "                                                                sparse=False))]),\n",
              "                                 <sklearn.compose._column_transformer.make_column_selector object at 0x7f7ad18eb050>)])"
            ],
            "text/html": [
              "<style>#sk-cfba1f69-679d-4dc3-ac42-5d1ba857896b {color: black;background-color: white;}#sk-cfba1f69-679d-4dc3-ac42-5d1ba857896b pre{padding: 0;}#sk-cfba1f69-679d-4dc3-ac42-5d1ba857896b div.sk-toggleable {background-color: white;}#sk-cfba1f69-679d-4dc3-ac42-5d1ba857896b label.sk-toggleable__label {cursor: pointer;display: block;width: 100%;margin-bottom: 0;padding: 0.3em;box-sizing: border-box;text-align: center;}#sk-cfba1f69-679d-4dc3-ac42-5d1ba857896b label.sk-toggleable__label-arrow:before {content: \"▸\";float: left;margin-right: 0.25em;color: #696969;}#sk-cfba1f69-679d-4dc3-ac42-5d1ba857896b label.sk-toggleable__label-arrow:hover:before {color: black;}#sk-cfba1f69-679d-4dc3-ac42-5d1ba857896b div.sk-estimator:hover label.sk-toggleable__label-arrow:before {color: black;}#sk-cfba1f69-679d-4dc3-ac42-5d1ba857896b div.sk-toggleable__content {max-height: 0;max-width: 0;overflow: hidden;text-align: left;background-color: #f0f8ff;}#sk-cfba1f69-679d-4dc3-ac42-5d1ba857896b div.sk-toggleable__content pre {margin: 0.2em;color: black;border-radius: 0.25em;background-color: #f0f8ff;}#sk-cfba1f69-679d-4dc3-ac42-5d1ba857896b input.sk-toggleable__control:checked~div.sk-toggleable__content {max-height: 200px;max-width: 100%;overflow: auto;}#sk-cfba1f69-679d-4dc3-ac42-5d1ba857896b input.sk-toggleable__control:checked~label.sk-toggleable__label-arrow:before {content: \"▾\";}#sk-cfba1f69-679d-4dc3-ac42-5d1ba857896b div.sk-estimator input.sk-toggleable__control:checked~label.sk-toggleable__label {background-color: #d4ebff;}#sk-cfba1f69-679d-4dc3-ac42-5d1ba857896b div.sk-label input.sk-toggleable__control:checked~label.sk-toggleable__label {background-color: #d4ebff;}#sk-cfba1f69-679d-4dc3-ac42-5d1ba857896b input.sk-hidden--visually {border: 0;clip: rect(1px 1px 1px 1px);clip: rect(1px, 1px, 1px, 1px);height: 1px;margin: -1px;overflow: hidden;padding: 0;position: absolute;width: 1px;}#sk-cfba1f69-679d-4dc3-ac42-5d1ba857896b div.sk-estimator {font-family: monospace;background-color: #f0f8ff;border: 1px dotted black;border-radius: 0.25em;box-sizing: border-box;margin-bottom: 0.5em;}#sk-cfba1f69-679d-4dc3-ac42-5d1ba857896b div.sk-estimator:hover {background-color: #d4ebff;}#sk-cfba1f69-679d-4dc3-ac42-5d1ba857896b div.sk-parallel-item::after {content: \"\";width: 100%;border-bottom: 1px solid gray;flex-grow: 1;}#sk-cfba1f69-679d-4dc3-ac42-5d1ba857896b div.sk-label:hover label.sk-toggleable__label {background-color: #d4ebff;}#sk-cfba1f69-679d-4dc3-ac42-5d1ba857896b div.sk-serial::before {content: \"\";position: absolute;border-left: 1px solid gray;box-sizing: border-box;top: 2em;bottom: 0;left: 50%;}#sk-cfba1f69-679d-4dc3-ac42-5d1ba857896b div.sk-serial {display: flex;flex-direction: column;align-items: center;background-color: white;padding-right: 0.2em;padding-left: 0.2em;}#sk-cfba1f69-679d-4dc3-ac42-5d1ba857896b div.sk-item {z-index: 1;}#sk-cfba1f69-679d-4dc3-ac42-5d1ba857896b div.sk-parallel {display: flex;align-items: stretch;justify-content: center;background-color: white;}#sk-cfba1f69-679d-4dc3-ac42-5d1ba857896b div.sk-parallel::before {content: \"\";position: absolute;border-left: 1px solid gray;box-sizing: border-box;top: 2em;bottom: 0;left: 50%;}#sk-cfba1f69-679d-4dc3-ac42-5d1ba857896b div.sk-parallel-item {display: flex;flex-direction: column;position: relative;background-color: white;}#sk-cfba1f69-679d-4dc3-ac42-5d1ba857896b div.sk-parallel-item:first-child::after {align-self: flex-end;width: 50%;}#sk-cfba1f69-679d-4dc3-ac42-5d1ba857896b div.sk-parallel-item:last-child::after {align-self: flex-start;width: 50%;}#sk-cfba1f69-679d-4dc3-ac42-5d1ba857896b div.sk-parallel-item:only-child::after {width: 0;}#sk-cfba1f69-679d-4dc3-ac42-5d1ba857896b div.sk-dashed-wrapped {border: 1px dashed gray;margin: 0 0.4em 0.5em 0.4em;box-sizing: border-box;padding-bottom: 0.4em;background-color: white;position: relative;}#sk-cfba1f69-679d-4dc3-ac42-5d1ba857896b div.sk-label label {font-family: monospace;font-weight: bold;background-color: white;display: inline-block;line-height: 1.2em;}#sk-cfba1f69-679d-4dc3-ac42-5d1ba857896b div.sk-label-container {position: relative;z-index: 2;text-align: center;}#sk-cfba1f69-679d-4dc3-ac42-5d1ba857896b div.sk-container {/* jupyter's `normalize.less` sets `[hidden] { display: none; }` but bootstrap.min.css set `[hidden] { display: none !important; }` so we also need the `!important` here to be able to override the default hidden behavior on the sphinx rendered scikit-learn.org. See: https://github.com/scikit-learn/scikit-learn/issues/21755 */display: inline-block !important;position: relative;}#sk-cfba1f69-679d-4dc3-ac42-5d1ba857896b div.sk-text-repr-fallback {display: none;}</style><div id=\"sk-cfba1f69-679d-4dc3-ac42-5d1ba857896b\" class=\"sk-top-container\"><div class=\"sk-text-repr-fallback\"><pre>ColumnTransformer(transformers=[(&#x27;pipeline-1&#x27;,\n",
              "                                 Pipeline(steps=[(&#x27;simpleimputer&#x27;,\n",
              "                                                  SimpleImputer()),\n",
              "                                                 (&#x27;standardscaler&#x27;,\n",
              "                                                  StandardScaler())]),\n",
              "                                 &lt;sklearn.compose._column_transformer.make_column_selector object at 0x7f7ad18eb110&gt;),\n",
              "                                (&#x27;pipeline-2&#x27;,\n",
              "                                 Pipeline(steps=[(&#x27;simpleimputer&#x27;,\n",
              "                                                  SimpleImputer(strategy=&#x27;most_frequent&#x27;)),\n",
              "                                                 (&#x27;onehotencoder&#x27;,\n",
              "                                                  OneHotEncoder(handle_unknown=&#x27;ignore&#x27;,\n",
              "                                                                sparse=False))]),\n",
              "                                 &lt;sklearn.compose._column_transformer.make_column_selector object at 0x7f7ad18eb050&gt;)])</pre><b>Please rerun this cell to show the HTML repr or trust the notebook.</b></div><div class=\"sk-container\" hidden><div class=\"sk-item sk-dashed-wrapped\"><div class=\"sk-label-container\"><div class=\"sk-label sk-toggleable\"><input class=\"sk-toggleable__control sk-hidden--visually\" id=\"37706808-360f-4167-835f-30c6df4c3645\" type=\"checkbox\" ><label for=\"37706808-360f-4167-835f-30c6df4c3645\" class=\"sk-toggleable__label sk-toggleable__label-arrow\">ColumnTransformer</label><div class=\"sk-toggleable__content\"><pre>ColumnTransformer(transformers=[(&#x27;pipeline-1&#x27;,\n",
              "                                 Pipeline(steps=[(&#x27;simpleimputer&#x27;,\n",
              "                                                  SimpleImputer()),\n",
              "                                                 (&#x27;standardscaler&#x27;,\n",
              "                                                  StandardScaler())]),\n",
              "                                 &lt;sklearn.compose._column_transformer.make_column_selector object at 0x7f7ad18eb110&gt;),\n",
              "                                (&#x27;pipeline-2&#x27;,\n",
              "                                 Pipeline(steps=[(&#x27;simpleimputer&#x27;,\n",
              "                                                  SimpleImputer(strategy=&#x27;most_frequent&#x27;)),\n",
              "                                                 (&#x27;onehotencoder&#x27;,\n",
              "                                                  OneHotEncoder(handle_unknown=&#x27;ignore&#x27;,\n",
              "                                                                sparse=False))]),\n",
              "                                 &lt;sklearn.compose._column_transformer.make_column_selector object at 0x7f7ad18eb050&gt;)])</pre></div></div></div><div class=\"sk-parallel\"><div class=\"sk-parallel-item\"><div class=\"sk-item\"><div class=\"sk-label-container\"><div class=\"sk-label sk-toggleable\"><input class=\"sk-toggleable__control sk-hidden--visually\" id=\"62c872cf-57c4-4205-9930-77badb26bf25\" type=\"checkbox\" ><label for=\"62c872cf-57c4-4205-9930-77badb26bf25\" class=\"sk-toggleable__label sk-toggleable__label-arrow\">pipeline-1</label><div class=\"sk-toggleable__content\"><pre>&lt;sklearn.compose._column_transformer.make_column_selector object at 0x7f7ad18eb110&gt;</pre></div></div></div><div class=\"sk-serial\"><div class=\"sk-item\"><div class=\"sk-serial\"><div class=\"sk-item\"><div class=\"sk-estimator sk-toggleable\"><input class=\"sk-toggleable__control sk-hidden--visually\" id=\"ba5757ce-1f85-48cb-8ac5-754e594c00ad\" type=\"checkbox\" ><label for=\"ba5757ce-1f85-48cb-8ac5-754e594c00ad\" class=\"sk-toggleable__label sk-toggleable__label-arrow\">SimpleImputer</label><div class=\"sk-toggleable__content\"><pre>SimpleImputer()</pre></div></div></div><div class=\"sk-item\"><div class=\"sk-estimator sk-toggleable\"><input class=\"sk-toggleable__control sk-hidden--visually\" id=\"24e7d8a6-e1d4-4ea3-9890-b721d7cef7c1\" type=\"checkbox\" ><label for=\"24e7d8a6-e1d4-4ea3-9890-b721d7cef7c1\" class=\"sk-toggleable__label sk-toggleable__label-arrow\">StandardScaler</label><div class=\"sk-toggleable__content\"><pre>StandardScaler()</pre></div></div></div></div></div></div></div></div><div class=\"sk-parallel-item\"><div class=\"sk-item\"><div class=\"sk-label-container\"><div class=\"sk-label sk-toggleable\"><input class=\"sk-toggleable__control sk-hidden--visually\" id=\"0d668df2-c2fa-412b-8831-c3daa5bf2f7f\" type=\"checkbox\" ><label for=\"0d668df2-c2fa-412b-8831-c3daa5bf2f7f\" class=\"sk-toggleable__label sk-toggleable__label-arrow\">pipeline-2</label><div class=\"sk-toggleable__content\"><pre>&lt;sklearn.compose._column_transformer.make_column_selector object at 0x7f7ad18eb050&gt;</pre></div></div></div><div class=\"sk-serial\"><div class=\"sk-item\"><div class=\"sk-serial\"><div class=\"sk-item\"><div class=\"sk-estimator sk-toggleable\"><input class=\"sk-toggleable__control sk-hidden--visually\" id=\"4e17531c-6aec-4006-9c3b-6f1baf72ec33\" type=\"checkbox\" ><label for=\"4e17531c-6aec-4006-9c3b-6f1baf72ec33\" class=\"sk-toggleable__label sk-toggleable__label-arrow\">SimpleImputer</label><div class=\"sk-toggleable__content\"><pre>SimpleImputer(strategy=&#x27;most_frequent&#x27;)</pre></div></div></div><div class=\"sk-item\"><div class=\"sk-estimator sk-toggleable\"><input class=\"sk-toggleable__control sk-hidden--visually\" id=\"9c219ce8-fbcf-40e2-8ae9-6fd96d030868\" type=\"checkbox\" ><label for=\"9c219ce8-fbcf-40e2-8ae9-6fd96d030868\" class=\"sk-toggleable__label sk-toggleable__label-arrow\">OneHotEncoder</label><div class=\"sk-toggleable__content\"><pre>OneHotEncoder(handle_unknown=&#x27;ignore&#x27;, sparse=False)</pre></div></div></div></div></div></div></div></div></div></div></div></div>"
            ]
          },
          "metadata": {},
          "execution_count": 44
        }
      ]
    },
    {
      "cell_type": "code",
      "source": [
        "# transform train and test\n",
        "X_train_processed = preprocessor.transform(X_train)\n",
        "X_test_processed = preprocessor.transform(X_test)"
      ],
      "metadata": {
        "id": "LIQHoFV_cir-"
      },
      "execution_count": 45,
      "outputs": []
    },
    {
      "cell_type": "code",
      "source": [
        "# Check for missing values and that data is scaled and one-hot encoded\n",
        "print(np.isnan(X_train_processed).sum().sum(), 'missing values in training data')\n",
        "print(np.isnan(X_test_processed).sum().sum(), 'missing values in testing data')\n",
        "print('\\n')\n",
        "print('All data in X_train_processed are', X_train_processed.dtype)\n",
        "print('All data in X_test_processed are', X_test_processed.dtype)\n",
        "print('\\n')\n",
        "print('shape of data is', X_train_processed.shape)\n",
        "print('\\n')\n",
        "X_train_processed"
      ],
      "metadata": {
        "colab": {
          "base_uri": "https://localhost:8080/"
        },
        "id": "19p3WYRlcimY",
        "outputId": "921ca5d6-2948-4ea0-b189-c663d26fef6f"
      },
      "execution_count": 46,
      "outputs": [
        {
          "output_type": "stream",
          "name": "stdout",
          "text": [
            "0 missing values in training data\n",
            "0 missing values in testing data\n",
            "\n",
            "\n",
            "All data in X_train_processed are float64\n",
            "All data in X_test_processed are float64\n",
            "\n",
            "\n",
            "shape of data is (4584, 26)\n",
            "\n",
            "\n"
          ]
        },
        {
          "output_type": "execute_result",
          "data": {
            "text/plain": [
              "array([[-1.59842795, -0.74212145, -0.21314897, ...,  0.        ,\n",
              "         1.        ,  0.        ],\n",
              "       [ 0.29952735, -0.74212145, -0.87321392, ...,  1.        ,\n",
              "         0.        ,  0.        ],\n",
              "       [-0.08104583, -0.74212145, -0.16357935, ...,  1.        ,\n",
              "         0.        ,  0.        ],\n",
              "       ...,\n",
              "       [-0.43706591, -0.74212145,  1.11285892, ...,  1.        ,\n",
              "         0.        ,  0.        ],\n",
              "       [-0.8421922 ,  1.34748834, -1.06937873, ...,  1.        ,\n",
              "         0.        ,  0.        ],\n",
              "       [-1.15278903, -0.74212145, -0.99797205, ...,  1.        ,\n",
              "         0.        ,  0.        ]])"
            ]
          },
          "metadata": {},
          "execution_count": 46
        }
      ]
    },
    {
      "cell_type": "markdown",
      "source": [
        "Now all of our transformations are complete and we are ready for modeling! We can see that the numeric columns have been scaled and the categorical columns have been encoded as numbers. All of the columns are now listed as numeric columns and are ready for machine learning. Mission accomplished!"
      ],
      "metadata": {
        "id": "BYDRYZ8ObeeP"
      }
    },
    {
      "cell_type": "markdown",
      "source": [
        "# Regression Metrics\n",
        "1. [x] Build a linear regression model to predict sales\n",
        "2. [x] Build a regression tree model to predict sales\n",
        "3. [x] Determine which model to implement"
      ],
      "metadata": {
        "id": "YKiNXQID-qsm"
      }
    },
    {
      "cell_type": "markdown",
      "source": [
        "## Linear Regression Model\n",
        "1. [x] Build a Linear Regression Model\n",
        "2. [x] Evaluate the performance of your model based on R-Squared\n",
        "3. [x] Evaluate the performance of your model based on RMSE"
      ],
      "metadata": {
        "id": "U_2OqsWh_KiU"
      }
    },
    {
      "cell_type": "markdown",
      "source": [
        "### Build the Linear Regression Model"
      ],
      "metadata": {
        "id": "SIfvbOnI-TcT"
      }
    },
    {
      "cell_type": "code",
      "source": [
        "# Instance for Linear Regression Models\n",
        "reg = LinearRegression()\n",
        "\n",
        "# Model Pipeline\n",
        "reg_pipe = make_pipeline(scaler, reg)\n",
        "clf = Pipeline(\n",
        "    steps=[(\"preprocessor\", preprocessor), (\"linear regression\", reg_pipe)])\n",
        "\n",
        "# Fit the data to the Pipeline\n",
        "clf.fit(X_train,y_train)\n",
        "\n",
        "# https://scikit-learn.org/stable/auto_examples/compose/plot_column_transformer_mixed_types.html#sphx-glr-auto-examples-compose-plot-column-transformer-mixed-types-py\n",
        "# as reference"
      ],
      "metadata": {
        "colab": {
          "base_uri": "https://localhost:8080/",
          "height": 288
        },
        "id": "Wxr74eTIBcnE",
        "outputId": "e65513ef-3aae-4166-fc21-66731775a370"
      },
      "execution_count": 47,
      "outputs": [
        {
          "output_type": "execute_result",
          "data": {
            "text/plain": [
              "Pipeline(steps=[('preprocessor',\n",
              "                 ColumnTransformer(transformers=[('pipeline-1',\n",
              "                                                  Pipeline(steps=[('simpleimputer',\n",
              "                                                                   SimpleImputer()),\n",
              "                                                                  ('standardscaler',\n",
              "                                                                   StandardScaler())]),\n",
              "                                                  <sklearn.compose._column_transformer.make_column_selector object at 0x7f7ad18eb110>),\n",
              "                                                 ('pipeline-2',\n",
              "                                                  Pipeline(steps=[('simpleimputer',\n",
              "                                                                   SimpleImputer(strategy='most_frequent')),\n",
              "                                                                  ('onehotencoder',\n",
              "                                                                   OneHotEncoder(handle_unknown='ignore',\n",
              "                                                                                 sparse=False))]),\n",
              "                                                  <sklearn.compose._column_transformer.make_column_selector object at 0x7f7ad18eb050>)])),\n",
              "                ('linear regression',\n",
              "                 Pipeline(steps=[('standardscaler', StandardScaler()),\n",
              "                                 ('linearregression', LinearRegression())]))])"
            ],
            "text/html": [
              "<style>#sk-9c34ba9f-f761-4975-a24a-b40e8d8b7ea8 {color: black;background-color: white;}#sk-9c34ba9f-f761-4975-a24a-b40e8d8b7ea8 pre{padding: 0;}#sk-9c34ba9f-f761-4975-a24a-b40e8d8b7ea8 div.sk-toggleable {background-color: white;}#sk-9c34ba9f-f761-4975-a24a-b40e8d8b7ea8 label.sk-toggleable__label {cursor: pointer;display: block;width: 100%;margin-bottom: 0;padding: 0.3em;box-sizing: border-box;text-align: center;}#sk-9c34ba9f-f761-4975-a24a-b40e8d8b7ea8 label.sk-toggleable__label-arrow:before {content: \"▸\";float: left;margin-right: 0.25em;color: #696969;}#sk-9c34ba9f-f761-4975-a24a-b40e8d8b7ea8 label.sk-toggleable__label-arrow:hover:before {color: black;}#sk-9c34ba9f-f761-4975-a24a-b40e8d8b7ea8 div.sk-estimator:hover label.sk-toggleable__label-arrow:before {color: black;}#sk-9c34ba9f-f761-4975-a24a-b40e8d8b7ea8 div.sk-toggleable__content {max-height: 0;max-width: 0;overflow: hidden;text-align: left;background-color: #f0f8ff;}#sk-9c34ba9f-f761-4975-a24a-b40e8d8b7ea8 div.sk-toggleable__content pre {margin: 0.2em;color: black;border-radius: 0.25em;background-color: #f0f8ff;}#sk-9c34ba9f-f761-4975-a24a-b40e8d8b7ea8 input.sk-toggleable__control:checked~div.sk-toggleable__content {max-height: 200px;max-width: 100%;overflow: auto;}#sk-9c34ba9f-f761-4975-a24a-b40e8d8b7ea8 input.sk-toggleable__control:checked~label.sk-toggleable__label-arrow:before {content: \"▾\";}#sk-9c34ba9f-f761-4975-a24a-b40e8d8b7ea8 div.sk-estimator input.sk-toggleable__control:checked~label.sk-toggleable__label {background-color: #d4ebff;}#sk-9c34ba9f-f761-4975-a24a-b40e8d8b7ea8 div.sk-label input.sk-toggleable__control:checked~label.sk-toggleable__label {background-color: #d4ebff;}#sk-9c34ba9f-f761-4975-a24a-b40e8d8b7ea8 input.sk-hidden--visually {border: 0;clip: rect(1px 1px 1px 1px);clip: rect(1px, 1px, 1px, 1px);height: 1px;margin: -1px;overflow: hidden;padding: 0;position: absolute;width: 1px;}#sk-9c34ba9f-f761-4975-a24a-b40e8d8b7ea8 div.sk-estimator {font-family: monospace;background-color: #f0f8ff;border: 1px dotted black;border-radius: 0.25em;box-sizing: border-box;margin-bottom: 0.5em;}#sk-9c34ba9f-f761-4975-a24a-b40e8d8b7ea8 div.sk-estimator:hover {background-color: #d4ebff;}#sk-9c34ba9f-f761-4975-a24a-b40e8d8b7ea8 div.sk-parallel-item::after {content: \"\";width: 100%;border-bottom: 1px solid gray;flex-grow: 1;}#sk-9c34ba9f-f761-4975-a24a-b40e8d8b7ea8 div.sk-label:hover label.sk-toggleable__label {background-color: #d4ebff;}#sk-9c34ba9f-f761-4975-a24a-b40e8d8b7ea8 div.sk-serial::before {content: \"\";position: absolute;border-left: 1px solid gray;box-sizing: border-box;top: 2em;bottom: 0;left: 50%;}#sk-9c34ba9f-f761-4975-a24a-b40e8d8b7ea8 div.sk-serial {display: flex;flex-direction: column;align-items: center;background-color: white;padding-right: 0.2em;padding-left: 0.2em;}#sk-9c34ba9f-f761-4975-a24a-b40e8d8b7ea8 div.sk-item {z-index: 1;}#sk-9c34ba9f-f761-4975-a24a-b40e8d8b7ea8 div.sk-parallel {display: flex;align-items: stretch;justify-content: center;background-color: white;}#sk-9c34ba9f-f761-4975-a24a-b40e8d8b7ea8 div.sk-parallel::before {content: \"\";position: absolute;border-left: 1px solid gray;box-sizing: border-box;top: 2em;bottom: 0;left: 50%;}#sk-9c34ba9f-f761-4975-a24a-b40e8d8b7ea8 div.sk-parallel-item {display: flex;flex-direction: column;position: relative;background-color: white;}#sk-9c34ba9f-f761-4975-a24a-b40e8d8b7ea8 div.sk-parallel-item:first-child::after {align-self: flex-end;width: 50%;}#sk-9c34ba9f-f761-4975-a24a-b40e8d8b7ea8 div.sk-parallel-item:last-child::after {align-self: flex-start;width: 50%;}#sk-9c34ba9f-f761-4975-a24a-b40e8d8b7ea8 div.sk-parallel-item:only-child::after {width: 0;}#sk-9c34ba9f-f761-4975-a24a-b40e8d8b7ea8 div.sk-dashed-wrapped {border: 1px dashed gray;margin: 0 0.4em 0.5em 0.4em;box-sizing: border-box;padding-bottom: 0.4em;background-color: white;position: relative;}#sk-9c34ba9f-f761-4975-a24a-b40e8d8b7ea8 div.sk-label label {font-family: monospace;font-weight: bold;background-color: white;display: inline-block;line-height: 1.2em;}#sk-9c34ba9f-f761-4975-a24a-b40e8d8b7ea8 div.sk-label-container {position: relative;z-index: 2;text-align: center;}#sk-9c34ba9f-f761-4975-a24a-b40e8d8b7ea8 div.sk-container {/* jupyter's `normalize.less` sets `[hidden] { display: none; }` but bootstrap.min.css set `[hidden] { display: none !important; }` so we also need the `!important` here to be able to override the default hidden behavior on the sphinx rendered scikit-learn.org. See: https://github.com/scikit-learn/scikit-learn/issues/21755 */display: inline-block !important;position: relative;}#sk-9c34ba9f-f761-4975-a24a-b40e8d8b7ea8 div.sk-text-repr-fallback {display: none;}</style><div id=\"sk-9c34ba9f-f761-4975-a24a-b40e8d8b7ea8\" class=\"sk-top-container\"><div class=\"sk-text-repr-fallback\"><pre>Pipeline(steps=[(&#x27;preprocessor&#x27;,\n",
              "                 ColumnTransformer(transformers=[(&#x27;pipeline-1&#x27;,\n",
              "                                                  Pipeline(steps=[(&#x27;simpleimputer&#x27;,\n",
              "                                                                   SimpleImputer()),\n",
              "                                                                  (&#x27;standardscaler&#x27;,\n",
              "                                                                   StandardScaler())]),\n",
              "                                                  &lt;sklearn.compose._column_transformer.make_column_selector object at 0x7f7ad18eb110&gt;),\n",
              "                                                 (&#x27;pipeline-2&#x27;,\n",
              "                                                  Pipeline(steps=[(&#x27;simpleimputer&#x27;,\n",
              "                                                                   SimpleImputer(strategy=&#x27;most_frequent&#x27;)),\n",
              "                                                                  (&#x27;onehotencoder&#x27;,\n",
              "                                                                   OneHotEncoder(handle_unknown=&#x27;ignore&#x27;,\n",
              "                                                                                 sparse=False))]),\n",
              "                                                  &lt;sklearn.compose._column_transformer.make_column_selector object at 0x7f7ad18eb050&gt;)])),\n",
              "                (&#x27;linear regression&#x27;,\n",
              "                 Pipeline(steps=[(&#x27;standardscaler&#x27;, StandardScaler()),\n",
              "                                 (&#x27;linearregression&#x27;, LinearRegression())]))])</pre><b>Please rerun this cell to show the HTML repr or trust the notebook.</b></div><div class=\"sk-container\" hidden><div class=\"sk-item sk-dashed-wrapped\"><div class=\"sk-label-container\"><div class=\"sk-label sk-toggleable\"><input class=\"sk-toggleable__control sk-hidden--visually\" id=\"9639248e-3419-4191-897b-77f66ef73616\" type=\"checkbox\" ><label for=\"9639248e-3419-4191-897b-77f66ef73616\" class=\"sk-toggleable__label sk-toggleable__label-arrow\">Pipeline</label><div class=\"sk-toggleable__content\"><pre>Pipeline(steps=[(&#x27;preprocessor&#x27;,\n",
              "                 ColumnTransformer(transformers=[(&#x27;pipeline-1&#x27;,\n",
              "                                                  Pipeline(steps=[(&#x27;simpleimputer&#x27;,\n",
              "                                                                   SimpleImputer()),\n",
              "                                                                  (&#x27;standardscaler&#x27;,\n",
              "                                                                   StandardScaler())]),\n",
              "                                                  &lt;sklearn.compose._column_transformer.make_column_selector object at 0x7f7ad18eb110&gt;),\n",
              "                                                 (&#x27;pipeline-2&#x27;,\n",
              "                                                  Pipeline(steps=[(&#x27;simpleimputer&#x27;,\n",
              "                                                                   SimpleImputer(strategy=&#x27;most_frequent&#x27;)),\n",
              "                                                                  (&#x27;onehotencoder&#x27;,\n",
              "                                                                   OneHotEncoder(handle_unknown=&#x27;ignore&#x27;,\n",
              "                                                                                 sparse=False))]),\n",
              "                                                  &lt;sklearn.compose._column_transformer.make_column_selector object at 0x7f7ad18eb050&gt;)])),\n",
              "                (&#x27;linear regression&#x27;,\n",
              "                 Pipeline(steps=[(&#x27;standardscaler&#x27;, StandardScaler()),\n",
              "                                 (&#x27;linearregression&#x27;, LinearRegression())]))])</pre></div></div></div><div class=\"sk-serial\"><div class=\"sk-item sk-dashed-wrapped\"><div class=\"sk-label-container\"><div class=\"sk-label sk-toggleable\"><input class=\"sk-toggleable__control sk-hidden--visually\" id=\"cb6441af-e279-46e6-92e5-f4794687b334\" type=\"checkbox\" ><label for=\"cb6441af-e279-46e6-92e5-f4794687b334\" class=\"sk-toggleable__label sk-toggleable__label-arrow\">preprocessor: ColumnTransformer</label><div class=\"sk-toggleable__content\"><pre>ColumnTransformer(transformers=[(&#x27;pipeline-1&#x27;,\n",
              "                                 Pipeline(steps=[(&#x27;simpleimputer&#x27;,\n",
              "                                                  SimpleImputer()),\n",
              "                                                 (&#x27;standardscaler&#x27;,\n",
              "                                                  StandardScaler())]),\n",
              "                                 &lt;sklearn.compose._column_transformer.make_column_selector object at 0x7f7ad18eb110&gt;),\n",
              "                                (&#x27;pipeline-2&#x27;,\n",
              "                                 Pipeline(steps=[(&#x27;simpleimputer&#x27;,\n",
              "                                                  SimpleImputer(strategy=&#x27;most_frequent&#x27;)),\n",
              "                                                 (&#x27;onehotencoder&#x27;,\n",
              "                                                  OneHotEncoder(handle_unknown=&#x27;ignore&#x27;,\n",
              "                                                                sparse=False))]),\n",
              "                                 &lt;sklearn.compose._column_transformer.make_column_selector object at 0x7f7ad18eb050&gt;)])</pre></div></div></div><div class=\"sk-parallel\"><div class=\"sk-parallel-item\"><div class=\"sk-item\"><div class=\"sk-label-container\"><div class=\"sk-label sk-toggleable\"><input class=\"sk-toggleable__control sk-hidden--visually\" id=\"3cc39d83-50ca-4e85-9144-5da448f8b9b1\" type=\"checkbox\" ><label for=\"3cc39d83-50ca-4e85-9144-5da448f8b9b1\" class=\"sk-toggleable__label sk-toggleable__label-arrow\">pipeline-1</label><div class=\"sk-toggleable__content\"><pre>&lt;sklearn.compose._column_transformer.make_column_selector object at 0x7f7ad18eb110&gt;</pre></div></div></div><div class=\"sk-serial\"><div class=\"sk-item\"><div class=\"sk-serial\"><div class=\"sk-item\"><div class=\"sk-estimator sk-toggleable\"><input class=\"sk-toggleable__control sk-hidden--visually\" id=\"9fdccd46-7052-4969-915f-fa7013b23ee8\" type=\"checkbox\" ><label for=\"9fdccd46-7052-4969-915f-fa7013b23ee8\" class=\"sk-toggleable__label sk-toggleable__label-arrow\">SimpleImputer</label><div class=\"sk-toggleable__content\"><pre>SimpleImputer()</pre></div></div></div><div class=\"sk-item\"><div class=\"sk-estimator sk-toggleable\"><input class=\"sk-toggleable__control sk-hidden--visually\" id=\"1d58884d-8395-4f6a-927c-0d5cc1d1ebee\" type=\"checkbox\" ><label for=\"1d58884d-8395-4f6a-927c-0d5cc1d1ebee\" class=\"sk-toggleable__label sk-toggleable__label-arrow\">StandardScaler</label><div class=\"sk-toggleable__content\"><pre>StandardScaler()</pre></div></div></div></div></div></div></div></div><div class=\"sk-parallel-item\"><div class=\"sk-item\"><div class=\"sk-label-container\"><div class=\"sk-label sk-toggleable\"><input class=\"sk-toggleable__control sk-hidden--visually\" id=\"270ced43-0f7f-4826-92f6-9738caa01934\" type=\"checkbox\" ><label for=\"270ced43-0f7f-4826-92f6-9738caa01934\" class=\"sk-toggleable__label sk-toggleable__label-arrow\">pipeline-2</label><div class=\"sk-toggleable__content\"><pre>&lt;sklearn.compose._column_transformer.make_column_selector object at 0x7f7ad18eb050&gt;</pre></div></div></div><div class=\"sk-serial\"><div class=\"sk-item\"><div class=\"sk-serial\"><div class=\"sk-item\"><div class=\"sk-estimator sk-toggleable\"><input class=\"sk-toggleable__control sk-hidden--visually\" id=\"bf7e5b48-a8ae-4871-9d25-5a4cf4749ccd\" type=\"checkbox\" ><label for=\"bf7e5b48-a8ae-4871-9d25-5a4cf4749ccd\" class=\"sk-toggleable__label sk-toggleable__label-arrow\">SimpleImputer</label><div class=\"sk-toggleable__content\"><pre>SimpleImputer(strategy=&#x27;most_frequent&#x27;)</pre></div></div></div><div class=\"sk-item\"><div class=\"sk-estimator sk-toggleable\"><input class=\"sk-toggleable__control sk-hidden--visually\" id=\"c52108b0-a309-4888-8b6e-fcdf2b07f3c4\" type=\"checkbox\" ><label for=\"c52108b0-a309-4888-8b6e-fcdf2b07f3c4\" class=\"sk-toggleable__label sk-toggleable__label-arrow\">OneHotEncoder</label><div class=\"sk-toggleable__content\"><pre>OneHotEncoder(handle_unknown=&#x27;ignore&#x27;, sparse=False)</pre></div></div></div></div></div></div></div></div></div></div><div class=\"sk-item\"><div class=\"sk-label-container\"><div class=\"sk-label sk-toggleable\"><input class=\"sk-toggleable__control sk-hidden--visually\" id=\"12630a32-a3cd-42b7-8c9d-6f88a6090b5f\" type=\"checkbox\" ><label for=\"12630a32-a3cd-42b7-8c9d-6f88a6090b5f\" class=\"sk-toggleable__label sk-toggleable__label-arrow\">linear regression: Pipeline</label><div class=\"sk-toggleable__content\"><pre>Pipeline(steps=[(&#x27;standardscaler&#x27;, StandardScaler()),\n",
              "                (&#x27;linearregression&#x27;, LinearRegression())])</pre></div></div></div><div class=\"sk-serial\"><div class=\"sk-item\"><div class=\"sk-estimator sk-toggleable\"><input class=\"sk-toggleable__control sk-hidden--visually\" id=\"bb88187b-3e0b-4dd4-99b5-76e8967501c0\" type=\"checkbox\" ><label for=\"bb88187b-3e0b-4dd4-99b5-76e8967501c0\" class=\"sk-toggleable__label sk-toggleable__label-arrow\">StandardScaler</label><div class=\"sk-toggleable__content\"><pre>StandardScaler()</pre></div></div></div><div class=\"sk-item\"><div class=\"sk-estimator sk-toggleable\"><input class=\"sk-toggleable__control sk-hidden--visually\" id=\"084c61be-bb14-44c7-807c-3f4405dc4eb7\" type=\"checkbox\" ><label for=\"084c61be-bb14-44c7-807c-3f4405dc4eb7\" class=\"sk-toggleable__label sk-toggleable__label-arrow\">LinearRegression</label><div class=\"sk-toggleable__content\"><pre>LinearRegression()</pre></div></div></div></div></div></div></div></div></div>"
            ]
          },
          "metadata": {},
          "execution_count": 47
        }
      ]
    },
    {
      "cell_type": "markdown",
      "source": [
        "### Evaluate the performance of your model based on R-Squared"
      ],
      "metadata": {
        "id": "AzNjqWAW9KvK"
      }
    },
    {
      "cell_type": "markdown",
      "source": [
        "### Evaluate the performance of your model based on RMSE\n"
      ],
      "metadata": {
        "id": "ID6HG0j69gEk"
      }
    },
    {
      "cell_type": "code",
      "source": [
        "# Create Predicions\n",
        "train_pred = clf.predict(X_train)\n",
        "test_pred = clf.predict(X_test)\n",
        "\n",
        "# View the R-Squared results\n",
        "print(f'Training model R-Squared: {clf.score(X_train, y_train).round(3)}')\n",
        "print(f'Testing model R-Squared: {clf.score(X_test, y_test).round(3)}')\n",
        "\n",
        "# Perform Calculations for the Root Mean Squared Error (RMSE)\n",
        "rmse_train = np.sqrt(np.mean(np.abs(train_pred - y_train)**2))\n",
        "rmse_test = np.sqrt(np.mean(np.abs(test_pred - y_test)**2))\n",
        "\n",
        "print(f'Linear Model Training RMSE: {rmse_train.round(3)}')\n",
        "print(f'Linear Model Testing RMSE: {rmse_test.round(3)}')"
      ],
      "metadata": {
        "colab": {
          "base_uri": "https://localhost:8080/"
        },
        "id": "O-2s3aeG8hEF",
        "outputId": "2ec71792-2a69-412d-8c62-19fdf95f9326"
      },
      "execution_count": 48,
      "outputs": [
        {
          "output_type": "stream",
          "name": "stdout",
          "text": [
            "Training model R-Squared: 0.557\n",
            "Testing model R-Squared: 0.569\n",
            "Linear Model Training RMSE: 1162.415\n",
            "Linear Model Testing RMSE: 1133.186\n"
          ]
        }
      ]
    },
    {
      "cell_type": "markdown",
      "source": [
        "## Regression Tree Model\n",
        "\n",
        "1. [x] Create a Regression Tree\n",
        "2. [x] Compare the the performance of your model based on R-Squared\n",
        "3. [x] Compare the the performance of your model based on RMSE"
      ],
      "metadata": {
        "id": "skSs20CX_Kb2"
      }
    },
    {
      "cell_type": "markdown",
      "source": [
        "### Create a Regression Tree"
      ],
      "metadata": {
        "id": "fdBlg1XfDF3v"
      }
    },
    {
      "cell_type": "code",
      "source": [
        "# Make an instance\n",
        "dec_tree = DecisionTreeRegressor(random_state = 42)\n",
        "\n",
        "# Fit the data\n",
        "dec_tree.fit(X_train_processed, y_train)\n",
        "\n",
        "# Predict the target values\n",
        "train_preds = dec_tree.predict(X_train_processed)\n",
        "test_preds = dec_tree.predict(X_test_processed)\n",
        "\n",
        "# Evaluate the model\n",
        "train_score = dec_tree.score(X_train_processed, y_train)\n",
        "test_score = dec_tree.score(X_test_processed, y_test)\n",
        "print(train_score.round(3))\n",
        "print(test_score.round(3))"
      ],
      "metadata": {
        "colab": {
          "base_uri": "https://localhost:8080/"
        },
        "id": "n25HovY7Dbth",
        "outputId": "7d2f0535-46fc-4d50-e688-8e2b3affeec5"
      },
      "execution_count": 49,
      "outputs": [
        {
          "output_type": "stream",
          "name": "stdout",
          "text": [
            "1.0\n",
            "0.175\n"
          ]
        }
      ]
    },
    {
      "cell_type": "code",
      "source": [
        "# What was the depth of our default tree and how many nodes are there?\n",
        "print(f'The depth of this decision tree is {dec_tree.get_depth()}.')\n",
        "print(f'There are {dec_tree.get_n_leaves()} amount of nodes.')"
      ],
      "metadata": {
        "colab": {
          "base_uri": "https://localhost:8080/"
        },
        "id": "1Oxi0D5NDcWJ",
        "outputId": "0f5543a6-7e81-4027-9454-d4535289d0a8"
      },
      "execution_count": 50,
      "outputs": [
        {
          "output_type": "stream",
          "name": "stdout",
          "text": [
            "The depth of this decision tree is 30.\n",
            "There are 4531 amount of nodes.\n"
          ]
        }
      ]
    },
    {
      "cell_type": "code",
      "source": [
        "# List of values to try for max_depth:\n",
        "depths = list(range(2, dec_tree.get_depth())) # will try every value between 2 and 36\n",
        "# Data frame to store the score for each value of max_depth:\n",
        "scores = pd.DataFrame(index=depths, columns=['Test Score','Train Score'])\n",
        "for depth in depths:\n",
        "    dec_tree = DecisionTreeRegressor(max_depth=depth, random_state=42)\n",
        "    dec_tree.fit(X_train_processed, y_train)\n",
        "    train_score = dec_tree.score(X_train_processed, y_train)\n",
        "    test_score = dec_tree.score(X_test_processed, y_test)\n",
        "    scores.loc[depth, 'Train Score'] = train_score\n",
        "    scores.loc[depth, 'Test Score'] = test_score"
      ],
      "metadata": {
        "id": "B_euswNnDcTb"
      },
      "execution_count": 51,
      "outputs": []
    },
    {
      "cell_type": "code",
      "source": [
        "# Visualize which max_depth leads to the highest r2 score\n",
        "plt.plot(depths, scores['Test Score'])\n",
        "plt.xlabel('max_depth')\n",
        "plt.ylabel('R2');"
      ],
      "metadata": {
        "colab": {
          "base_uri": "https://localhost:8080/",
          "height": 361
        },
        "id": "MU_WMj4KDcQw",
        "outputId": "f829d26e-ee5e-4e92-993a-b8e025a2ff09"
      },
      "execution_count": 52,
      "outputs": [
        {
          "output_type": "display_data",
          "data": {
            "text/plain": [
              "<Figure size 576x396 with 1 Axes>"
            ],
            "image/png": "[encoded data removed]"
          },
          "metadata": {}
        }
      ]
    },
    {
      "cell_type": "code",
      "source": [
        "sorted_scores = scores.sort_values(by='Test Score', ascending=False)\n",
        "sorted_scores.head()"
      ],
      "metadata": {
        "colab": {
          "base_uri": "https://localhost:8080/",
          "height": 206
        },
        "id": "u6_WiX4EDcOS",
        "outputId": "f22db955-06f6-4598-ddd8-a853dd7501fd"
      },
      "execution_count": 53,
      "outputs": [
        {
          "output_type": "execute_result",
          "data": {
            "text/plain": [
              "  Test Score Train Score\n",
              "5   0.598889    0.592931\n",
              "4   0.587502    0.571875\n",
              "6   0.577618    0.608476\n",
              "7   0.561695    0.626305\n",
              "8    0.52455    0.651274"
            ],
            "text/html": [
              "\n",
              "  <div id=\"df-e8fe2592-812c-4264-ae75-3c013ecf7ded\">\n",
              "    <div class=\"colab-df-container\">\n",
              "      <div>\n",
              "<style scoped>\n",
              "    .dataframe tbody tr th:only-of-type {\n",
              "        vertical-align: middle;\n",
              "    }\n",
              "\n",
              "    .dataframe tbody tr th {\n",
              "        vertical-align: top;\n",
              "    }\n",
              "\n",
              "    .dataframe thead th {\n",
              "        text-align: right;\n",
              "    }\n",
              "</style>\n",
              "<table border=\"1\" class=\"dataframe\">\n",
              "  <thead>\n",
              "    <tr style=\"text-align: right;\">\n",
              "      <th></th>\n",
              "      <th>Test Score</th>\n",
              "      <th>Train Score</th>\n",
              "    </tr>\n",
              "  </thead>\n",
              "  <tbody>\n",
              "    <tr>\n",
              "      <th>5</th>\n",
              "      <td>0.598889</td>\n",
              "      <td>0.592931</td>\n",
              "    </tr>\n",
              "    <tr>\n",
              "      <th>4</th>\n",
              "      <td>0.587502</td>\n",
              "      <td>0.571875</td>\n",
              "    </tr>\n",
              "    <tr>\n",
              "      <th>6</th>\n",
              "      <td>0.577618</td>\n",
              "      <td>0.608476</td>\n",
              "    </tr>\n",
              "    <tr>\n",
              "      <th>7</th>\n",
              "      <td>0.561695</td>\n",
              "      <td>0.626305</td>\n",
              "    </tr>\n",
              "    <tr>\n",
              "      <th>8</th>\n",
              "      <td>0.52455</td>\n",
              "      <td>0.651274</td>\n",
              "    </tr>\n",
              "  </tbody>\n",
              "</table>\n",
              "</div>\n",
              "      <button class=\"colab-df-convert\" onclick=\"convertToInteractive('df-e8fe2592-812c-4264-ae75-3c013ecf7ded')\"\n",
              "              title=\"Convert this dataframe to an interactive table.\"\n",
              "              style=\"display:none;\">\n",
              "        \n",
              "  <svg xmlns=\"http://www.w3.org/2000/svg\" height=\"24px\"viewBox=\"0 0 24 24\"\n",
              "       width=\"24px\">\n",
              "    <path d=\"M0 0h24v24H0V0z\" fill=\"none\"/>\n",
              "    <path d=\"M18.56 5.44l.94 2.06.94-2.06 2.06-.94-2.06-.94-.94-2.06-.94 2.06-2.06.94zm-11 1L8.5 8.5l.94-2.06 2.06-.94-2.06-.94L8.5 2.5l-.94 2.06-2.06.94zm10 10l.94 2.06.94-2.06 2.06-.94-2.06-.94-.94-2.06-.94 2.06-2.06.94z\"/><path d=\"M17.41 7.96l-1.37-1.37c-.4-.4-.92-.59-1.43-.59-.52 0-1.04.2-1.43.59L10.3 9.45l-7.72 7.72c-.78.78-.78 2.05 0 2.83L4 21.41c.39.39.9.59 1.41.59.51 0 1.02-.2 1.41-.59l7.78-7.78 2.81-2.81c.8-.78.8-2.07 0-2.86zM5.41 20L4 18.59l7.72-7.72 1.47 1.35L5.41 20z\"/>\n",
              "  </svg>\n",
              "      </button>\n",
              "      \n",
              "  <style>\n",
              "    .colab-df-container {\n",
              "      display:flex;\n",
              "      flex-wrap:wrap;\n",
              "      gap: 12px;\n",
              "    }\n",
              "\n",
              "    .colab-df-convert {\n",
              "      background-color: #E8F0FE;\n",
              "      border: none;\n",
              "      border-radius: 50%;\n",
              "      cursor: pointer;\n",
              "      display: none;\n",
              "      fill: #1967D2;\n",
              "      height: 32px;\n",
              "      padding: 0 0 0 0;\n",
              "      width: 32px;\n",
              "    }\n",
              "\n",
              "    .colab-df-convert:hover {\n",
              "      background-color: #E2EBFA;\n",
              "      box-shadow: 0px 1px 2px rgba(60, 64, 67, 0.3), 0px 1px 3px 1px rgba(60, 64, 67, 0.15);\n",
              "      fill: #174EA6;\n",
              "    }\n",
              "\n",
              "    [theme=dark] .colab-df-convert {\n",
              "      background-color: #3B4455;\n",
              "      fill: #D2E3FC;\n",
              "    }\n",
              "\n",
              "    [theme=dark] .colab-df-convert:hover {\n",
              "      background-color: #434B5C;\n",
              "      box-shadow: 0px 1px 3px 1px rgba(0, 0, 0, 0.15);\n",
              "      filter: drop-shadow(0px 1px 2px rgba(0, 0, 0, 0.3));\n",
              "      fill: #FFFFFF;\n",
              "    }\n",
              "  </style>\n",
              "\n",
              "      <script>\n",
              "        const buttonEl =\n",
              "          document.querySelector('#df-e8fe2592-812c-4264-ae75-3c013ecf7ded button.colab-df-convert');\n",
              "        buttonEl.style.display =\n",
              "          google.colab.kernel.accessAllowed ? 'block' : 'none';\n",
              "\n",
              "        async function convertToInteractive(key) {\n",
              "          const element = document.querySelector('#df-e8fe2592-812c-4264-ae75-3c013ecf7ded');\n",
              "          const dataTable =\n",
              "            await google.colab.kernel.invokeFunction('convertToInteractive',\n",
              "                                                     [key], {});\n",
              "          if (!dataTable) return;\n",
              "\n",
              "          const docLinkHtml = 'Like what you see? Visit the ' +\n",
              "            '<a target=\"_blank\" href=https://colab.research.google.com/notebooks/data_table.ipynb>data table notebook</a>'\n",
              "            + ' to learn more about interactive tables.';\n",
              "          element.innerHTML = '';\n",
              "          dataTable['output_type'] = 'display_data';\n",
              "          await google.colab.output.renderOutput(dataTable, element);\n",
              "          const docLink = document.createElement('div');\n",
              "          docLink.innerHTML = docLinkHtml;\n",
              "          element.appendChild(docLink);\n",
              "        }\n",
              "      </script>\n",
              "    </div>\n",
              "  </div>\n",
              "  "
            ]
          },
          "metadata": {},
          "execution_count": 53
        }
      ]
    },
    {
      "cell_type": "code",
      "source": [
        "# Create a variable for the optimal value\n",
        "opt_val = sorted_scores['Test Score'].index[0]\n",
        "\n",
        "# Let's run the model with our optimized value for max_depth\n",
        "dec_tree_opt = DecisionTreeRegressor(max_depth = opt_val, random_state = 42)\n",
        "dec_tree_opt.fit(X_train_processed, y_train)"
      ],
      "metadata": {
        "colab": {
          "base_uri": "https://localhost:8080/",
          "height": 75
        },
        "id": "OuJ4Y-pKDcI0",
        "outputId": "dd4cbf9d-cb6f-43f9-a28d-f15fcd70c104"
      },
      "execution_count": 54,
      "outputs": [
        {
          "output_type": "execute_result",
          "data": {
            "text/plain": [
              "DecisionTreeRegressor(max_depth=5, random_state=42)"
            ],
            "text/html": [
              "<style>#sk-8b1fe1bd-258b-4be2-ad2a-e84f7173b59e {color: black;background-color: white;}#sk-8b1fe1bd-258b-4be2-ad2a-e84f7173b59e pre{padding: 0;}#sk-8b1fe1bd-258b-4be2-ad2a-e84f7173b59e div.sk-toggleable {background-color: white;}#sk-8b1fe1bd-258b-4be2-ad2a-e84f7173b59e label.sk-toggleable__label {cursor: pointer;display: block;width: 100%;margin-bottom: 0;padding: 0.3em;box-sizing: border-box;text-align: center;}#sk-8b1fe1bd-258b-4be2-ad2a-e84f7173b59e label.sk-toggleable__label-arrow:before {content: \"▸\";float: left;margin-right: 0.25em;color: #696969;}#sk-8b1fe1bd-258b-4be2-ad2a-e84f7173b59e label.sk-toggleable__label-arrow:hover:before {color: black;}#sk-8b1fe1bd-258b-4be2-ad2a-e84f7173b59e div.sk-estimator:hover label.sk-toggleable__label-arrow:before {color: black;}#sk-8b1fe1bd-258b-4be2-ad2a-e84f7173b59e div.sk-toggleable__content {max-height: 0;max-width: 0;overflow: hidden;text-align: left;background-color: #f0f8ff;}#sk-8b1fe1bd-258b-4be2-ad2a-e84f7173b59e div.sk-toggleable__content pre {margin: 0.2em;color: black;border-radius: 0.25em;background-color: #f0f8ff;}#sk-8b1fe1bd-258b-4be2-ad2a-e84f7173b59e input.sk-toggleable__control:checked~div.sk-toggleable__content {max-height: 200px;max-width: 100%;overflow: auto;}#sk-8b1fe1bd-258b-4be2-ad2a-e84f7173b59e input.sk-toggleable__control:checked~label.sk-toggleable__label-arrow:before {content: \"▾\";}#sk-8b1fe1bd-258b-4be2-ad2a-e84f7173b59e div.sk-estimator input.sk-toggleable__control:checked~label.sk-toggleable__label {background-color: #d4ebff;}#sk-8b1fe1bd-258b-4be2-ad2a-e84f7173b59e div.sk-label input.sk-toggleable__control:checked~label.sk-toggleable__label {background-color: #d4ebff;}#sk-8b1fe1bd-258b-4be2-ad2a-e84f7173b59e input.sk-hidden--visually {border: 0;clip: rect(1px 1px 1px 1px);clip: rect(1px, 1px, 1px, 1px);height: 1px;margin: -1px;overflow: hidden;padding: 0;position: absolute;width: 1px;}#sk-8b1fe1bd-258b-4be2-ad2a-e84f7173b59e div.sk-estimator {font-family: monospace;background-color: #f0f8ff;border: 1px dotted black;border-radius: 0.25em;box-sizing: border-box;margin-bottom: 0.5em;}#sk-8b1fe1bd-258b-4be2-ad2a-e84f7173b59e div.sk-estimator:hover {background-color: #d4ebff;}#sk-8b1fe1bd-258b-4be2-ad2a-e84f7173b59e div.sk-parallel-item::after {content: \"\";width: 100%;border-bottom: 1px solid gray;flex-grow: 1;}#sk-8b1fe1bd-258b-4be2-ad2a-e84f7173b59e div.sk-label:hover label.sk-toggleable__label {background-color: #d4ebff;}#sk-8b1fe1bd-258b-4be2-ad2a-e84f7173b59e div.sk-serial::before {content: \"\";position: absolute;border-left: 1px solid gray;box-sizing: border-box;top: 2em;bottom: 0;left: 50%;}#sk-8b1fe1bd-258b-4be2-ad2a-e84f7173b59e div.sk-serial {display: flex;flex-direction: column;align-items: center;background-color: white;padding-right: 0.2em;padding-left: 0.2em;}#sk-8b1fe1bd-258b-4be2-ad2a-e84f7173b59e div.sk-item {z-index: 1;}#sk-8b1fe1bd-258b-4be2-ad2a-e84f7173b59e div.sk-parallel {display: flex;align-items: stretch;justify-content: center;background-color: white;}#sk-8b1fe1bd-258b-4be2-ad2a-e84f7173b59e div.sk-parallel::before {content: \"\";position: absolute;border-left: 1px solid gray;box-sizing: border-box;top: 2em;bottom: 0;left: 50%;}#sk-8b1fe1bd-258b-4be2-ad2a-e84f7173b59e div.sk-parallel-item {display: flex;flex-direction: column;position: relative;background-color: white;}#sk-8b1fe1bd-258b-4be2-ad2a-e84f7173b59e div.sk-parallel-item:first-child::after {align-self: flex-end;width: 50%;}#sk-8b1fe1bd-258b-4be2-ad2a-e84f7173b59e div.sk-parallel-item:last-child::after {align-self: flex-start;width: 50%;}#sk-8b1fe1bd-258b-4be2-ad2a-e84f7173b59e div.sk-parallel-item:only-child::after {width: 0;}#sk-8b1fe1bd-258b-4be2-ad2a-e84f7173b59e div.sk-dashed-wrapped {border: 1px dashed gray;margin: 0 0.4em 0.5em 0.4em;box-sizing: border-box;padding-bottom: 0.4em;background-color: white;position: relative;}#sk-8b1fe1bd-258b-4be2-ad2a-e84f7173b59e div.sk-label label {font-family: monospace;font-weight: bold;background-color: white;display: inline-block;line-height: 1.2em;}#sk-8b1fe1bd-258b-4be2-ad2a-e84f7173b59e div.sk-label-container {position: relative;z-index: 2;text-align: center;}#sk-8b1fe1bd-258b-4be2-ad2a-e84f7173b59e div.sk-container {/* jupyter's `normalize.less` sets `[hidden] { display: none; }` but bootstrap.min.css set `[hidden] { display: none !important; }` so we also need the `!important` here to be able to override the default hidden behavior on the sphinx rendered scikit-learn.org. See: https://github.com/scikit-learn/scikit-learn/issues/21755 */display: inline-block !important;position: relative;}#sk-8b1fe1bd-258b-4be2-ad2a-e84f7173b59e div.sk-text-repr-fallback {display: none;}</style><div id=\"sk-8b1fe1bd-258b-4be2-ad2a-e84f7173b59e\" class=\"sk-top-container\"><div class=\"sk-text-repr-fallback\"><pre>DecisionTreeRegressor(max_depth=5, random_state=42)</pre><b>Please rerun this cell to show the HTML repr or trust the notebook.</b></div><div class=\"sk-container\" hidden><div class=\"sk-item\"><div class=\"sk-estimator sk-toggleable\"><input class=\"sk-toggleable__control sk-hidden--visually\" id=\"6be85943-c1f1-48e4-9d9d-0d2b1529efc9\" type=\"checkbox\" checked><label for=\"6be85943-c1f1-48e4-9d9d-0d2b1529efc9\" class=\"sk-toggleable__label sk-toggleable__label-arrow\">DecisionTreeRegressor</label><div class=\"sk-toggleable__content\"><pre>DecisionTreeRegressor(max_depth=5, random_state=42)</pre></div></div></div></div></div>"
            ]
          },
          "metadata": {},
          "execution_count": 54
        }
      ]
    },
    {
      "cell_type": "code",
      "source": [
        "# I will be using the dec_tree_opt as our pipeline\n",
        "train_pred = dec_tree_opt.predict(X_train_processed)\n",
        "test_pred = dec_tree_opt.predict(X_test_processed)\n",
        "\n",
        "# R2\n",
        "r2_train = r2_score(y_train, train_pred)\n",
        "r2_test = r2_score(y_test, test_pred)\n",
        "\n",
        "print(f'Regression Tree Model Training R-Squared: {r2_train.round(3)}')\n",
        "print(f'Regression Tree Model Testing R-Squared: {r2_test.round(3)}')\n",
        "\n",
        "# RMSE\n",
        "rmse_train = np.sqrt(mean_squared_error(y_train, train_pred))\n",
        "rmse_test = np.sqrt(mean_squared_error(y_test, test_pred))\n",
        "\n",
        "print(f'Regression Tree Model Training RMSE: {rmse_train.round(3)}')\n",
        "print(f'Regression Tree Model Testing RMSE: {rmse_test.round(3)}')"
      ],
      "metadata": {
        "colab": {
          "base_uri": "https://localhost:8080/"
        },
        "id": "eaBA2LpS5d3t",
        "outputId": "2590dbc9-d762-4e20-f779-ecb5d9c1f1ee"
      },
      "execution_count": 55,
      "outputs": [
        {
          "output_type": "stream",
          "name": "stdout",
          "text": [
            "Regression Tree Model Training R-Squared: 0.593\n",
            "Regression Tree Model Testing R-Squared: 0.599\n",
            "Regression Tree Model Training RMSE: 1114.37\n",
            "Regression Tree Model Testing RMSE: 1093.013\n"
          ]
        }
      ]
    },
    {
      "cell_type": "markdown",
      "source": [
        "# Comparing the Models"
      ],
      "metadata": {
        "id": "6roGPmYSDL2B"
      }
    },
    {
      "cell_type": "markdown",
      "source": [
        "|Model|R2 Test|RMSE Test|\n",
        "|--|--|--|\n",
        "|Linear Regression|0.569|1133.186|\n",
        "|Regression Tree|0.599|1093.013|\n",
        "|_delta_|0.030|-40.173|"
      ],
      "metadata": {
        "id": "MkJB6AbV0gFw"
      }
    },
    {
      "cell_type": "markdown",
      "source": [
        "# Summary"
      ],
      "metadata": {
        "id": "lahYoAS7DWng"
      }
    },
    {
      "cell_type": "markdown",
      "source": [
        "I would recommend the Regression Tree model. Here are my 2 reasons why:\n",
        "1. The Regression tree has a slightly stronger R-Squared value. The value is about 0.03 higher, which is the difference of 56.9% to 59.9%.\n",
        "2. The Root Mean Squared Error of the Regression Tree is also slightly lower, about 3% lower."
      ],
      "metadata": {
        "id": "HLVfx4OLDbYt"
      }
    }
  ]
}